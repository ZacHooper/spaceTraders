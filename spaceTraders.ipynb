{
 "metadata": {
  "language_info": {
   "codemirror_mode": {
    "name": "ipython",
    "version": 3
   },
   "file_extension": ".py",
   "mimetype": "text/x-python",
   "name": "python",
   "nbconvert_exporter": "python",
   "pygments_lexer": "ipython3",
   "version": "3.8.5-final"
  },
  "orig_nbformat": 2,
  "kernelspec": {
   "name": "python385jvsc74a57bd0dca0ade3e726a953b501b15e8e990130d2b7799f14cfd9f4271676035ebe5511",
   "display_name": "Python 3.8.5 64-bit ('base': conda)"
  }
 },
 "nbformat": 4,
 "nbformat_minor": 2,
 "cells": [
  {
   "cell_type": "code",
   "execution_count": 1,
   "metadata": {},
   "outputs": [],
   "source": [
    "# Modules\n",
    "import requests\n",
    "import pandas as pd\n",
    "import spaceTraders as st\n",
    "import math"
   ]
  },
  {
   "cell_type": "code",
   "execution_count": 2,
   "metadata": {},
   "outputs": [],
   "source": [
    "token = \"b33e5ca9-b933-43c3-9249-9fe7ea525fc9\"\n",
    "username = \"JimHawkins\""
   ]
  },
  {
   "cell_type": "code",
   "execution_count": 3,
   "metadata": {},
   "outputs": [
    {
     "output_type": "execute_result",
     "data": {
      "text/plain": [
       "{'status': 'spacetraders is currently online and available to play'}"
      ]
     },
     "metadata": {},
     "execution_count": 3
    }
   ],
   "source": [
    "user = st.get_user(username)\n",
    "st.Game.status()"
   ]
  },
  {
   "source": [
    "# Planets"
   ],
   "cell_type": "markdown",
   "metadata": {}
  },
  {
   "cell_type": "code",
   "execution_count": 4,
   "metadata": {},
   "outputs": [],
   "source": [
    "tritus = st.Game.location(\"OE-PM-TR\")\n",
    "prime = st.Game.location(\"OE-PM\")"
   ]
  },
  {
   "source": [
    "# Marketplace"
   ],
   "cell_type": "markdown",
   "metadata": {}
  },
  {
   "cell_type": "code",
   "execution_count": 24,
   "metadata": {},
   "outputs": [],
   "source": [
    "prime_market = pd.DataFrame(prime.marketplace()).sort_values(by='symbol')\n",
    "tritus_market = pd.DataFrame(tritus.marketplace()).sort_values(by='symbol')"
   ]
  },
  {
   "cell_type": "code",
   "execution_count": 28,
   "metadata": {},
   "outputs": [],
   "source": [
    "profit_margin = lambda x: (x['sellPricePerUnit_to'] - x['purchasePricePerUnit_from']) / x['volumePerUnit_from']\n",
    "\n",
    "def how_much_to_buy(unit_volume, hull_capacity):\n",
    "    return math.trunc(hull_capacity / unit_volume)\n",
    "\n",
    "def market_compare(from_market, to_market):\n",
    "    # Do an Inner Join of the Markets on available goods (symbols)\n",
    "    market_compare = from_market.join(to_market.set_index('symbol'), on=\"symbol\", how=\"inner\", lsuffix=\"_from\", rsuffix=\"_to\")\n",
    "    # Get the Profit Margins - factoring in volume of the good\n",
    "    market_compare['profit'] = market_compare.apply(profit_margin, axis=1)\n",
    "    return market_compare\n",
    "\n",
    "def best_buy(from_destination, to_destination):\n",
    "    # Get Markets of each destination as DataFrames\n",
    "    from_market = pd.DataFrame(from_destination.marketplace())\n",
    "    to_market = pd.DataFrame(to_destination.marketplace())\n",
    "    # Get the market comparison\n",
    "    market_comparison = market_compare(from_market, to_market)\n",
    "    # Get the record for the best good\n",
    "    best_good = market_comparison.loc[market_comparison['profit'].idxmax()]\n",
    "    return {\"symbol\": best_good['symbol'], \"profit\": best_good['profit'], \"volume\": best_good['volumePerUnit_from']}"
   ]
  },
  {
   "cell_type": "code",
   "execution_count": 29,
   "metadata": {},
   "outputs": [],
   "source": [
    "# Returns the best good to buy, how many units to buy of it and the expected profit\n",
    "def what_should_I_buy(ship, destination):\n",
    "    # Get the best good to buy\n",
    "    symbol = best_buy(st.Game.location(ship.location), st.Game.location(destination))\n",
    "    # Work out many units to buy\n",
    "    units_to_buy = how_much_to_buy(symbol['volume'], 80)\n",
    "    return {\"symbol\": symbol['symbol'], \"units\": units_to_buy, \"profit\": symbol['profit'] * units_to_buy}"
   ]
  },
  {
   "cell_type": "code",
   "execution_count": 35,
   "metadata": {},
   "outputs": [
    {
     "output_type": "execute_result",
     "data": {
      "text/plain": [
       "{'symbol': 'RESEARCH', 'units': 40, 'profit': 20.0}"
      ]
     },
     "metadata": {},
     "execution_count": 35
    }
   ],
   "source": [
    "what_to_buy = what_should_I_buy(ship, \"OE-PM\")\n",
    "# user.new_order(ship.id, what_to_buy['symbol'], what_to_buy['units'])\n",
    "what_to_buy\n",
    "\n",
    "# from_market = pd.DataFrame(st.Game.location(ship.location).marketplace())\n",
    "# to_market = pd.DataFrame(st.Game.location(\"OE-PM\").marketplace())\n",
    "\n",
    "# market_compare(from_market, to_market)"
   ]
  },
  {
   "cell_type": "code",
   "execution_count": 8,
   "metadata": {},
   "outputs": [],
   "source": [
    "flight = user.fly(ship.id, \"OE-PM\")['flightPlan']['id']"
   ]
  },
  {
   "cell_type": "code",
   "execution_count": 16,
   "metadata": {},
   "outputs": [
    {
     "output_type": "execute_result",
     "data": {
      "text/plain": [
       "{'flightPlan': {'id': 'cknf9m4si11054961bs6efqdikwu',\n",
       "  'shipId': 'cknegaohp5912821bs6d0ws1xr1',\n",
       "  'createdAt': '2021-04-13T00:06:57.475Z',\n",
       "  'arrivesAt': '2021-04-13T00:08:05.456Z',\n",
       "  'destination': 'OE-PM',\n",
       "  'departure': 'OE-PM-TR',\n",
       "  'distance': 4,\n",
       "  'fuelConsumed': 2,\n",
       "  'fuelRemaining': 6,\n",
       "  'terminatedAt': '2021-04-13T00:08:01.005Z',\n",
       "  'timeRemainingInSeconds': 0}}"
      ]
     },
     "metadata": {},
     "execution_count": 16
    }
   ],
   "source": [
    "user.flight(flight)"
   ]
  },
  {
   "cell_type": "code",
   "execution_count": 13,
   "metadata": {},
   "outputs": [],
   "source": [
    "cargo=user.ships[1]['cargo']\n",
    "\n",
    "# Get Good to sell\n",
    "def get_cargo_to_sell(cargo):\n",
    "    cargo_not_fuel = lambda x: x['good'] != \"FUEL\"\n",
    "    cargo_to_sell=filter(cargo_not_fuel,cargo)\n",
    "    return cargo_to_sell\n",
    "\n"
   ]
  },
  {
   "cell_type": "code",
   "execution_count": 98,
   "metadata": {},
   "outputs": [
    {
     "output_type": "stream",
     "name": "stdout",
     "text": [
      "{'credits': 138725, 'order': {'good': 'SHIP_PARTS', 'quantity': 20, 'pricePerUnit': 1268, 'total': 25360}, 'ship': {'id': 'cknegaohp5912821bs6d0ws1xr1', 'location': 'OE-PM-TR', 'x': 23, 'y': -28, 'cargo': [{'good': 'FUEL', 'quantity': 8, 'totalVolume': 8}], 'spaceAvailable': 92, 'type': 'GR-MK-I', 'class': 'MK-I', 'maxCargo': 100, 'speed': 1, 'manufacturer': 'Gravager', 'plating': 10, 'weapons': 5}}\n"
     ]
    }
   ],
   "source": [
    "# Sell Good\n",
    "for good in get_cargo_to_sell(cargo):\n",
    "    print(user.sell_order(ship.id, good['good'], good['quantity']))"
   ]
  },
  {
   "cell_type": "code",
   "execution_count": 7,
   "metadata": {},
   "outputs": [],
   "source": [
    "shipId = 'cknegaohp5912821bs6d0ws1xr1'\n",
    "\n",
    "ship = user.get_ship(shipId)"
   ]
  },
  {
   "cell_type": "code",
   "execution_count": null,
   "metadata": {},
   "outputs": [],
   "source": []
  }
 ]
}