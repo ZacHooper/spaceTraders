{
 "cells": [
  {
   "cell_type": "code",
   "execution_count": 1,
   "metadata": {},
   "outputs": [],
   "source": [
    "import requests\n",
    "import pandas as pd\n",
    "import spaceTraders as st\n",
    "import math\n",
    "import matplotlib.pyplot as plt"
   ]
  },
  {
   "cell_type": "code",
   "execution_count": 2,
   "metadata": {},
   "outputs": [
    {
     "data": {
      "text/plain": [
       "{'status': 'spacetraders is currently online and available to play'}"
      ]
     },
     "execution_count": 2,
     "metadata": {},
     "output_type": "execute_result"
    }
   ],
   "source": [
    "st.Game().status()"
   ]
  },
  {
   "cell_type": "markdown",
   "metadata": {},
   "source": [
    "# Basic Details"
   ]
  },
  {
   "cell_type": "code",
   "execution_count": 3,
   "metadata": {},
   "outputs": [],
   "source": [
    "TOKEN = \"b33e5ca9-b933-43c3-9249-9fe7ea525fc9\"\n",
    "URL = \"https://api.spacetraders.io/\"\n",
    "username = \"JimHawkins\"\n",
    "\n",
    "# Initialise some useful objects\n",
    "game = st.Game()\n",
    "user = st.get_user(username)"
   ]
  },
  {
   "cell_type": "markdown",
   "metadata": {},
   "source": [
    "# Useful Functions"
   ]
  },
  {
   "cell_type": "code",
   "execution_count": 4,
   "metadata": {},
   "outputs": [],
   "source": [
    "def generic_get_call(endpoint, params=None):\n",
    "    headers = {'Authorization': 'Bearer ' + TOKEN}\n",
    "    r = requests.get(URL + endpoint, headers=headers, params=params)\n",
    "    if r.ok:\n",
    "        return r.json()\n",
    "    else:\n",
    "        print(\"Something went wrong\")\n",
    "        print(r.json())\n",
    "\n",
    "# Generic call to API\n",
    "def generic_post_call(endpoint, params=None):\n",
    "    headers = {'Authorization': 'Bearer ' + TOKEN}\n",
    "    r = requests.post(URL + endpoint, headers=headers, params=params)\n",
    "    if r.ok:\n",
    "        return r.json()\n",
    "    else:\n",
    "        print(\"Something went wrong\")\n",
    "        print(r.json())"
   ]
  },
  {
   "cell_type": "markdown",
   "metadata": {},
   "source": [
    "# Playground"
   ]
  },
  {
   "cell_type": "code",
   "execution_count": 5,
   "metadata": {},
   "outputs": [],
   "source": [
    "systems = generic_get_call(\"game/systems\")['systems']\n",
    "OE = systems[0]\n",
    "XV = systems[1]"
   ]
  },
  {
   "cell_type": "code",
   "execution_count": 16,
   "metadata": {},
   "outputs": [
    {
     "data": {
      "text/html": [
       "<div>\n",
       "<style scoped>\n",
       "    .dataframe tbody tr th:only-of-type {\n",
       "        vertical-align: middle;\n",
       "    }\n",
       "\n",
       "    .dataframe tbody tr th {\n",
       "        vertical-align: top;\n",
       "    }\n",
       "\n",
       "    .dataframe thead th {\n",
       "        text-align: right;\n",
       "    }\n",
       "</style>\n",
       "<table border=\"1\" class=\"dataframe\">\n",
       "  <thead>\n",
       "    <tr style=\"text-align: right;\">\n",
       "      <th></th>\n",
       "      <th>symbol</th>\n",
       "      <th>type</th>\n",
       "      <th>name</th>\n",
       "      <th>x</th>\n",
       "      <th>y</th>\n",
       "      <th>ships</th>\n",
       "      <th>messages</th>\n",
       "    </tr>\n",
       "  </thead>\n",
       "  <tbody>\n",
       "    <tr>\n",
       "      <th>0</th>\n",
       "      <td>OE-PM</td>\n",
       "      <td>PLANET</td>\n",
       "      <td>Prime</td>\n",
       "      <td>20</td>\n",
       "      <td>-25</td>\n",
       "      <td>[]</td>\n",
       "      <td>NaN</td>\n",
       "    </tr>\n",
       "    <tr>\n",
       "      <th>1</th>\n",
       "      <td>OE-PM-TR</td>\n",
       "      <td>MOON</td>\n",
       "      <td>Tritus</td>\n",
       "      <td>23</td>\n",
       "      <td>-28</td>\n",
       "      <td>[]</td>\n",
       "      <td>NaN</td>\n",
       "    </tr>\n",
       "    <tr>\n",
       "      <th>2</th>\n",
       "      <td>OE-CR</td>\n",
       "      <td>PLANET</td>\n",
       "      <td>Carth</td>\n",
       "      <td>16</td>\n",
       "      <td>17</td>\n",
       "      <td>[]</td>\n",
       "      <td>NaN</td>\n",
       "    </tr>\n",
       "    <tr>\n",
       "      <th>3</th>\n",
       "      <td>OE-KO</td>\n",
       "      <td>PLANET</td>\n",
       "      <td>Koria</td>\n",
       "      <td>-48</td>\n",
       "      <td>-7</td>\n",
       "      <td>[]</td>\n",
       "      <td>NaN</td>\n",
       "    </tr>\n",
       "    <tr>\n",
       "      <th>4</th>\n",
       "      <td>OE-BO</td>\n",
       "      <td>GAS_GIANT</td>\n",
       "      <td>Bo</td>\n",
       "      <td>-64</td>\n",
       "      <td>-89</td>\n",
       "      <td>[]</td>\n",
       "      <td>NaN</td>\n",
       "    </tr>\n",
       "    <tr>\n",
       "      <th>5</th>\n",
       "      <td>OE-NY</td>\n",
       "      <td>ASTEROID</td>\n",
       "      <td>Nyon</td>\n",
       "      <td>74</td>\n",
       "      <td>50</td>\n",
       "      <td>[]</td>\n",
       "      <td>NaN</td>\n",
       "    </tr>\n",
       "    <tr>\n",
       "      <th>6</th>\n",
       "      <td>OE-UC</td>\n",
       "      <td>PLANET</td>\n",
       "      <td>Ucarro</td>\n",
       "      <td>-75</td>\n",
       "      <td>82</td>\n",
       "      <td>[]</td>\n",
       "      <td>NaN</td>\n",
       "    </tr>\n",
       "    <tr>\n",
       "      <th>7</th>\n",
       "      <td>OE-UC-AD</td>\n",
       "      <td>MOON</td>\n",
       "      <td>Ado</td>\n",
       "      <td>-82</td>\n",
       "      <td>82</td>\n",
       "      <td>[]</td>\n",
       "      <td>NaN</td>\n",
       "    </tr>\n",
       "    <tr>\n",
       "      <th>8</th>\n",
       "      <td>OE-UC-OB</td>\n",
       "      <td>MOON</td>\n",
       "      <td>Obo</td>\n",
       "      <td>-77</td>\n",
       "      <td>78</td>\n",
       "      <td>[]</td>\n",
       "      <td>NaN</td>\n",
       "    </tr>\n",
       "    <tr>\n",
       "      <th>9</th>\n",
       "      <td>OE-XV-91-2</td>\n",
       "      <td>WORMHOLE</td>\n",
       "      <td>Wormhole</td>\n",
       "      <td>0</td>\n",
       "      <td>145</td>\n",
       "      <td>[]</td>\n",
       "      <td>[Extensive research has revealed a partially f...</td>\n",
       "    </tr>\n",
       "  </tbody>\n",
       "</table>\n",
       "</div>"
      ],
      "text/plain": [
       "       symbol       type      name   x    y ships  \\\n",
       "0       OE-PM     PLANET     Prime  20  -25    []   \n",
       "1    OE-PM-TR       MOON    Tritus  23  -28    []   \n",
       "2       OE-CR     PLANET     Carth  16   17    []   \n",
       "3       OE-KO     PLANET     Koria -48   -7    []   \n",
       "4       OE-BO  GAS_GIANT        Bo -64  -89    []   \n",
       "5       OE-NY   ASTEROID      Nyon  74   50    []   \n",
       "6       OE-UC     PLANET    Ucarro -75   82    []   \n",
       "7    OE-UC-AD       MOON       Ado -82   82    []   \n",
       "8    OE-UC-OB       MOON       Obo -77   78    []   \n",
       "9  OE-XV-91-2   WORMHOLE  Wormhole   0  145    []   \n",
       "\n",
       "                                            messages  \n",
       "0                                                NaN  \n",
       "1                                                NaN  \n",
       "2                                                NaN  \n",
       "3                                                NaN  \n",
       "4                                                NaN  \n",
       "5                                                NaN  \n",
       "6                                                NaN  \n",
       "7                                                NaN  \n",
       "8                                                NaN  \n",
       "9  [Extensive research has revealed a partially f...  "
      ]
     },
     "execution_count": 16,
     "metadata": {},
     "output_type": "execute_result"
    }
   ],
   "source": [
    "oe_l = pd.DataFrame(OE['locations'])\n",
    "xv_l = pd.DataFrame(XV['locations'])\n",
    "oe_l"
   ]
  },
  {
   "cell_type": "code",
   "execution_count": 39,
   "metadata": {},
   "outputs": [
    {
     "data": {
      "image/png": "[encoded data removed]",
      "text/plain": [
       "<Figure size 864x864 with 1 Axes>"
      ]
     },
     "metadata": {
      "needs_background": "light"
     },
     "output_type": "display_data"
    }
   ],
   "source": [
    "ax = oe_l.plot.scatter('x', 'y', figsize=(12,12))\n",
    "oe_l[['x','y','name']].apply(lambda x: ax.text(*x),axis=1)\n",
    "\n",
    "plt.grid()\n",
    "plt.show()"
   ]
  },
  {
   "cell_type": "code",
   "execution_count": null,
   "metadata": {},
   "outputs": [],
   "source": []
  }
 ],
 "metadata": {
  "kernelspec": {
   "display_name": "spaceTraders_playground",
   "language": "python",
   "name": "spacetraders_playground"
  },
  "language_info": {
   "codemirror_mode": {
    "name": "ipython",
    "version": 3
   },
   "file_extension": ".py",
   "mimetype": "text/x-python",
   "name": "python",
   "nbconvert_exporter": "python",
   "pygments_lexer": "ipython3",
   "version": "3.8.5"
  }
 },
 "nbformat": 4,
 "nbformat_minor": 4
}
