{
 "cells": [
  {
   "cell_type": "code",
   "execution_count": 8,
   "metadata": {},
   "outputs": [],
   "source": [
    "import requests\n",
    "import pandas as pd\n",
    "import SpaceTraders as st\n",
    "import math\n",
    "import matplotlib.pyplot as plt\n",
    "import sqlite3\n",
    "import sqlalchemy\n",
    "import datetime\n",
    "import trackers\n",
    "import json"
   ]
  },
  {
   "cell_type": "code",
   "execution_count": 2,
   "metadata": {},
   "outputs": [
    {
     "output_type": "execute_result",
     "data": {
      "text/plain": [
       "{'status': 'spacetraders is currently online and available to play'}"
      ]
     },
     "metadata": {},
     "execution_count": 2
    }
   ],
   "source": [
    "st.Game().status()"
   ]
  },
  {
   "cell_type": "markdown",
   "metadata": {},
   "source": [
    "# Basic Details"
   ]
  },
  {
   "cell_type": "code",
   "execution_count": 3,
   "metadata": {},
   "outputs": [],
   "source": [
    "TOKEN = \"b33e5ca9-b933-43c3-9249-9fe7ea525fc9\"\n",
    "URL = \"https://api.spacetraders.io/\"\n",
    "username = \"JimHawkins\"\n",
    "\n",
    "# Initialise some useful objects\n",
    "game = st.Game()\n",
    "user = st.get_user(username)"
   ]
  },
  {
   "cell_type": "markdown",
   "metadata": {},
   "source": [
    "# Useful Functions"
   ]
  },
  {
   "cell_type": "code",
   "execution_count": 5,
   "metadata": {},
   "outputs": [],
   "source": [
    "def generic_get_call(endpoint, params=None):\n",
    "    headers = {'Authorization': 'Bearer ' + TOKEN}\n",
    "    r = requests.get(URL + endpoint, headers=headers, params=params)\n",
    "    if r.ok:\n",
    "        return r.json()\n",
    "    else:\n",
    "        print(\"Something went wrong\")\n",
    "        print(r.json())\n",
    "\n",
    "# Generic call to API\n",
    "def generic_post_call(endpoint, params=None):\n",
    "    headers = {'Authorization': 'Bearer ' + TOKEN}\n",
    "    r = requests.post(URL + endpoint, headers=headers, params=params)\n",
    "    if r.ok:\n",
    "        return r.json()\n",
    "    else:\n",
    "        print(\"Something went wrong\")\n",
    "        print(r.json())\n",
    "\n",
    "# Generic call to API\n",
    "def generic_put_call(endpoint, params=None):\n",
    "    headers = {'Authorization': 'Bearer ' + TOKEN}\n",
    "    r = requests.put(URL + endpoint, headers=headers, params=params)\n",
    "    if r.ok:\n",
    "        return r.json()\n",
    "    else:\n",
    "        print(\"Something went wrong\")\n",
    "        print(r.json())"
   ]
  },
  {
   "cell_type": "markdown",
   "metadata": {},
   "source": [
    "# Playground"
   ]
  },
  {
   "cell_type": "markdown",
   "metadata": {},
   "source": [
    "### Buying a Ship"
   ]
  },
  {
   "cell_type": "code",
   "execution_count": 76,
   "metadata": {},
   "outputs": [
    {
     "output_type": "stream",
     "name": "stdout",
     "text": [
      "      type class  maxCargo  speed manufacturer  plating  weapons  \\\n3  JW-MK-I  MK-I        50      1     Jackshaw        5        5   \n\n                                   purchaseLocations  \n3  [{'system': 'OE', 'location': 'OE-PM-TR', 'pri...   [list([{'system': 'OE', 'location': 'OE-PM-TR', 'price': 21125}])]\n"
     ]
    },
    {
     "output_type": "execute_result",
     "data": {
      "text/plain": [
       "{'user': {'username': 'JimHawkins',\n",
       "  'credits': 165557,\n",
       "  'ships': [{'id': 'cknei40da11601821bs6lt91ifh3',\n",
       "    'location': 'OE-PM',\n",
       "    'x': 20,\n",
       "    'y': -25,\n",
       "    'cargo': [{'good': 'FUEL', 'quantity': 6, 'totalVolume': 6}],\n",
       "    'spaceAvailable': 44,\n",
       "    'type': 'JW-MK-I',\n",
       "    'class': 'MK-I',\n",
       "    'maxCargo': 50,\n",
       "    'speed': 1,\n",
       "    'manufacturer': 'Jackshaw',\n",
       "    'plating': 5,\n",
       "    'weapons': 5},\n",
       "   {'id': 'cknegaohp5912821bs6d0ws1xr1',\n",
       "    'location': 'OE-NY',\n",
       "    'x': 74,\n",
       "    'y': 50,\n",
       "    'cargo': [{'good': 'FUEL', 'quantity': 4, 'totalVolume': 4}],\n",
       "    'spaceAvailable': 96,\n",
       "    'type': 'GR-MK-I',\n",
       "    'class': 'MK-I',\n",
       "    'maxCargo': 100,\n",
       "    'speed': 1,\n",
       "    'manufacturer': 'Gravager',\n",
       "    'plating': 10,\n",
       "    'weapons': 5},\n",
       "   {'id': 'cknfelyxr47218615s6weeqr6ls',\n",
       "    'location': 'OE-CR',\n",
       "    'x': 16,\n",
       "    'y': 17,\n",
       "    'cargo': [{'good': 'FUEL', 'quantity': 7, 'totalVolume': 7}],\n",
       "    'spaceAvailable': 43,\n",
       "    'type': 'JW-MK-I',\n",
       "    'class': 'MK-I',\n",
       "    'maxCargo': 50,\n",
       "    'speed': 1,\n",
       "    'manufacturer': 'Jackshaw',\n",
       "    'plating': 5,\n",
       "    'weapons': 5},\n",
       "   {'id': 'cknflrnom23763515s61061rc8l',\n",
       "    'location': 'OE-NY',\n",
       "    'x': 74,\n",
       "    'y': 50,\n",
       "    'cargo': [{'good': 'FUEL', 'quantity': 27, 'totalVolume': 27}],\n",
       "    'spaceAvailable': 23,\n",
       "    'type': 'JW-MK-I',\n",
       "    'class': 'MK-I',\n",
       "    'maxCargo': 50,\n",
       "    'speed': 1,\n",
       "    'manufacturer': 'Jackshaw',\n",
       "    'plating': 5,\n",
       "    'weapons': 5},\n",
       "   {'id': 'cknfl07xi17766815s6ltaxr3cj',\n",
       "    'location': 'OE-UC-AD',\n",
       "    'x': -82,\n",
       "    'y': 82,\n",
       "    'cargo': [{'good': 'FUEL', 'quantity': 11, 'totalVolume': 11}],\n",
       "    'spaceAvailable': 39,\n",
       "    'type': 'JW-MK-I',\n",
       "    'class': 'MK-I',\n",
       "    'maxCargo': 50,\n",
       "    'speed': 1,\n",
       "    'manufacturer': 'Jackshaw',\n",
       "    'plating': 5,\n",
       "    'weapons': 5},\n",
       "   {'id': 'ckngsns0m12607111bs68u868j60',\n",
       "    'location': 'OE-PM-TR',\n",
       "    'x': 23,\n",
       "    'y': -28,\n",
       "    'cargo': [],\n",
       "    'spaceAvailable': 50,\n",
       "    'type': 'JW-MK-I',\n",
       "    'class': 'MK-I',\n",
       "    'maxCargo': 50,\n",
       "    'speed': 1,\n",
       "    'manufacturer': 'Jackshaw',\n",
       "    'plating': 5,\n",
       "    'weapons': 5},\n",
       "   {'id': 'ckngscqat11396861bs6yv69x3yk',\n",
       "    'location': 'OE-UC-OB',\n",
       "    'x': -77,\n",
       "    'y': 78,\n",
       "    'cargo': [{'good': 'FUEL', 'quantity': 12, 'totalVolume': 12}],\n",
       "    'spaceAvailable': 38,\n",
       "    'type': 'JW-MK-I',\n",
       "    'class': 'MK-I',\n",
       "    'maxCargo': 50,\n",
       "    'speed': 1,\n",
       "    'manufacturer': 'Jackshaw',\n",
       "    'plating': 5,\n",
       "    'weapons': 5},\n",
       "   {'id': 'ckngs9wvp11005081bs69toou05q',\n",
       "    'location': 'OE-PM-TR',\n",
       "    'x': 23,\n",
       "    'y': -28,\n",
       "    'cargo': [],\n",
       "    'spaceAvailable': 50,\n",
       "    'type': 'JW-MK-I',\n",
       "    'class': 'MK-I',\n",
       "    'maxCargo': 50,\n",
       "    'speed': 1,\n",
       "    'manufacturer': 'Jackshaw',\n",
       "    'plating': 5,\n",
       "    'weapons': 5},\n",
       "   {'id': 'ckngrks1i7454591bs6sge9w163',\n",
       "    'location': 'OE-KO',\n",
       "    'x': -48,\n",
       "    'y': -7,\n",
       "    'cargo': [{'good': 'FUEL', 'quantity': 30, 'totalVolume': 30}],\n",
       "    'spaceAvailable': 20,\n",
       "    'type': 'JW-MK-I',\n",
       "    'class': 'MK-I',\n",
       "    'maxCargo': 50,\n",
       "    'speed': 1,\n",
       "    'manufacturer': 'Jackshaw',\n",
       "    'plating': 5,\n",
       "    'weapons': 5},\n",
       "   {'id': 'ckngsa5cc11037501bs65f3l6kuw',\n",
       "    'location': 'OE-PM-TR',\n",
       "    'x': 23,\n",
       "    'y': -28,\n",
       "    'cargo': [],\n",
       "    'spaceAvailable': 50,\n",
       "    'type': 'JW-MK-I',\n",
       "    'class': 'MK-I',\n",
       "    'maxCargo': 50,\n",
       "    'speed': 1,\n",
       "    'manufacturer': 'Jackshaw',\n",
       "    'plating': 5,\n",
       "    'weapons': 5},\n",
       "   {'id': 'ckngs77ti10654241bs66lrn0hde',\n",
       "    'location': 'OE-UC',\n",
       "    'x': -75,\n",
       "    'y': 82,\n",
       "    'cargo': [{'good': 'FUEL', 'quantity': 12, 'totalVolume': 12}],\n",
       "    'spaceAvailable': 38,\n",
       "    'type': 'JW-MK-I',\n",
       "    'class': 'MK-I',\n",
       "    'maxCargo': 50,\n",
       "    'speed': 1,\n",
       "    'manufacturer': 'Jackshaw',\n",
       "    'plating': 5,\n",
       "    'weapons': 5}],\n",
       "  'loans': [{'id': 'ckned1lhz13474341bs68q61gt4x',\n",
       "    'due': '2021-04-14T08:55:11.637Z',\n",
       "    'repaymentAmount': 280000,\n",
       "    'status': 'PAID',\n",
       "    'type': 'STARTUP'}]}}"
      ]
     },
     "metadata": {},
     "execution_count": 76
    }
   ],
   "source": [
    "# Buy a Jackshaw\n",
    "ships_to_buy = pd.DataFrame(game.get_available_ships(\"MK-I\"))\n",
    "jacksaw_mask = ships_to_buy['manufacturer'] == \"Jackshaw\"\n",
    "print(ships_to_buy.loc[jacksaw_mask], ships_to_buy.loc[jacksaw_mask].purchaseLocations.values)\n",
    "user.buy_ship('OE-PM-TR', 'JW-MK-I')"
   ]
  },
  {
   "cell_type": "markdown",
   "metadata": {},
   "source": [
    "### Move Ship to Carth"
   ]
  },
  {
   "cell_type": "code",
   "execution_count": 77,
   "metadata": {},
   "outputs": [
    {
     "output_type": "execute_result",
     "data": {
      "text/plain": [
       "\n",
       "      id : ckngsns0m12607111bs68u868j60\n",
       "      manufacturer : Jackshaw\n",
       "      kind : temp class\n",
       "      type : JW-MK-I\n",
       "      location : OE-PM-TR\n",
       "      x : 23\n",
       "      y : -28\n",
       "      speed : 1\n",
       "      plating : 5\n",
       "      weapons : 5\n",
       "      maxCargo : 50\n",
       "      spaceAvailable : 50\n",
       "      cargo : []\n",
       "    "
      ]
     },
     "metadata": {},
     "execution_count": 77
    }
   ],
   "source": [
    "ship_to_carth = user.get_ship('ckngsns0m12607111bs68u868j60')\n",
    "ship_to_carth"
   ]
  },
  {
   "cell_type": "code",
   "execution_count": 78,
   "metadata": {},
   "outputs": [
    {
     "output_type": "stream",
     "name": "stderr",
     "text": [
      "2021-04-14 11:48:07,353 - INFO - Buying 50 units of FUEL for 150 at OE-PM-TR. Remaining credits: 165407. Loading Goods onto ship: ckngsns0m12607111bs68u868j60\n",
      "2021-04-14 11:48:07,362 - INFO - Updating Cargo & Space Available of ship: ckngsns0m12607111bs68u868j60. Previous Cargo: []. New Cargo: [{'good': 'FUEL', 'quantity': 50, 'totalVolume': 50}]. Previous Space Available: 50. New Space Available: 0\n"
     ]
    },
    {
     "output_type": "execute_result",
     "data": {
      "text/plain": [
       "\n",
       "      id : ckngsns0m12607111bs68u868j60\n",
       "      manufacturer : Jackshaw\n",
       "      kind : temp class\n",
       "      type : JW-MK-I\n",
       "      location : OE-PM-TR\n",
       "      x : 23\n",
       "      y : -28\n",
       "      speed : 1\n",
       "      plating : 5\n",
       "      weapons : 5\n",
       "      maxCargo : 50\n",
       "      spaceAvailable : 0\n",
       "      cargo : [{'good': 'FUEL', 'quantity': 50, 'totalVolume': 50}]\n",
       "    "
      ]
     },
     "metadata": {},
     "execution_count": 78
    }
   ],
   "source": [
    "# Buy Fuel\n",
    "order = user.new_order(ship_to_carth.id, \"FUEL\", 50)\n",
    "ship_to_carth.update_cargo(order['ship']['cargo'], order['ship']['spaceAvailable'])\n",
    "ship_to_carth"
   ]
  },
  {
   "cell_type": "code",
   "execution_count": 79,
   "metadata": {},
   "outputs": [
    {
     "output_type": "execute_result",
     "data": {
      "text/plain": [
       "{'flightPlan': {'id': 'ckngsod3612671181bs6snxktt9l',\n",
       "  'shipId': 'ckngsns0m12607111bs68u868j60',\n",
       "  'createdAt': '2021-04-14T01:48:20.419Z',\n",
       "  'arrivesAt': '2021-04-14T01:52:52.369Z',\n",
       "  'destination': 'OE-BO',\n",
       "  'departure': 'OE-PM-TR',\n",
       "  'distance': 106,\n",
       "  'fuelConsumed': 28,\n",
       "  'fuelRemaining': 22,\n",
       "  'terminatedAt': None,\n",
       "  'timeRemainingInSeconds': 271}}"
      ]
     },
     "metadata": {},
     "execution_count": 79
    }
   ],
   "source": [
    "# Fly\n",
    "user.fly(ship_to_carth.id, \"OE-BO\", track=False)"
   ]
  },
  {
   "cell_type": "markdown",
   "metadata": {},
   "source": [
    "### Look at the Different Systems\n",
    "#### API call"
   ]
  },
  {
   "cell_type": "code",
   "execution_count": 27,
   "metadata": {},
   "outputs": [
    {
     "output_type": "execute_result",
     "data": {
      "text/plain": [
       "[<SpaceTraders.Location at 0x7fa1d0e3adf0>,\n",
       " <SpaceTraders.Location at 0x7fa1d0e3a040>,\n",
       " <SpaceTraders.Location at 0x7fa1d103e5e0>,\n",
       " <SpaceTraders.Location at 0x7fa1d103e730>,\n",
       " <SpaceTraders.Location at 0x7fa1d103efd0>,\n",
       " <SpaceTraders.Location at 0x7fa1d103e2b0>,\n",
       " <SpaceTraders.Location at 0x7fa1d103e640>,\n",
       " <SpaceTraders.Location at 0x7fa1d103e160>,\n",
       " <SpaceTraders.Location at 0x7fa1d103e310>,\n",
       " <SpaceTraders.Location at 0x7fa1d103e2e0>]"
      ]
     },
     "metadata": {},
     "execution_count": 27
    }
   ],
   "source": [
    "# Call to API\n",
    "# systems = generic_get_call(\"game/systems\")['systems']\n",
    "# Update systems json\n",
    "# with open('systems.json', 'w') as outfile:\n",
    "#     json.dump(systems, outfile)\n",
    "\n",
    "# Call to JSON File\n",
    "with open('systems.json', 'r') as infile:\n",
    "    systems = json.load(infile)\n",
    "    locations = [st.Location(**loc) for loc in systems[0]['locations']]\n",
    "locations"
   ]
  },
  {
   "cell_type": "markdown",
   "metadata": {},
   "source": [
    "#### DataFrame of Locations"
   ]
  },
  {
   "cell_type": "code",
   "execution_count": 106,
   "metadata": {},
   "outputs": [
    {
     "output_type": "execute_result",
     "data": {
      "text/plain": [
       "       symbol       type      name   x    y ships  \\\n",
       "0       OE-PM     PLANET     Prime  20  -25    []   \n",
       "1    OE-PM-TR       MOON    Tritus  23  -28    []   \n",
       "2       OE-CR     PLANET     Carth  16   17    []   \n",
       "3       OE-KO     PLANET     Koria -48   -7    []   \n",
       "4       OE-BO  GAS_GIANT        Bo -64  -89    []   \n",
       "5       OE-NY   ASTEROID      Nyon  74   50    []   \n",
       "6       OE-UC     PLANET    Ucarro -75   82    []   \n",
       "7    OE-UC-AD       MOON       Ado -82   82    []   \n",
       "8    OE-UC-OB       MOON       Obo -77   78    []   \n",
       "9  OE-XV-91-2   WORMHOLE  Wormhole   0  145    []   \n",
       "\n",
       "                                            messages  \n",
       "0                                                NaN  \n",
       "1                                                NaN  \n",
       "2                                                NaN  \n",
       "3                                                NaN  \n",
       "4                                                NaN  \n",
       "5                                                NaN  \n",
       "6                                                NaN  \n",
       "7                                                NaN  \n",
       "8                                                NaN  \n",
       "9  [Extensive research has revealed a partially f...  "
      ],
      "text/html": "<div>\n<style scoped>\n    .dataframe tbody tr th:only-of-type {\n        vertical-align: middle;\n    }\n\n    .dataframe tbody tr th {\n        vertical-align: top;\n    }\n\n    .dataframe thead th {\n        text-align: right;\n    }\n</style>\n<table border=\"1\" class=\"dataframe\">\n  <thead>\n    <tr style=\"text-align: right;\">\n      <th></th>\n      <th>symbol</th>\n      <th>type</th>\n      <th>name</th>\n      <th>x</th>\n      <th>y</th>\n      <th>ships</th>\n      <th>messages</th>\n    </tr>\n  </thead>\n  <tbody>\n    <tr>\n      <th>0</th>\n      <td>OE-PM</td>\n      <td>PLANET</td>\n      <td>Prime</td>\n      <td>20</td>\n      <td>-25</td>\n      <td>[]</td>\n      <td>NaN</td>\n    </tr>\n    <tr>\n      <th>1</th>\n      <td>OE-PM-TR</td>\n      <td>MOON</td>\n      <td>Tritus</td>\n      <td>23</td>\n      <td>-28</td>\n      <td>[]</td>\n      <td>NaN</td>\n    </tr>\n    <tr>\n      <th>2</th>\n      <td>OE-CR</td>\n      <td>PLANET</td>\n      <td>Carth</td>\n      <td>16</td>\n      <td>17</td>\n      <td>[]</td>\n      <td>NaN</td>\n    </tr>\n    <tr>\n      <th>3</th>\n      <td>OE-KO</td>\n      <td>PLANET</td>\n      <td>Koria</td>\n      <td>-48</td>\n      <td>-7</td>\n      <td>[]</td>\n      <td>NaN</td>\n    </tr>\n    <tr>\n      <th>4</th>\n      <td>OE-BO</td>\n      <td>GAS_GIANT</td>\n      <td>Bo</td>\n      <td>-64</td>\n      <td>-89</td>\n      <td>[]</td>\n      <td>NaN</td>\n    </tr>\n    <tr>\n      <th>5</th>\n      <td>OE-NY</td>\n      <td>ASTEROID</td>\n      <td>Nyon</td>\n      <td>74</td>\n      <td>50</td>\n      <td>[]</td>\n      <td>NaN</td>\n    </tr>\n    <tr>\n      <th>6</th>\n      <td>OE-UC</td>\n      <td>PLANET</td>\n      <td>Ucarro</td>\n      <td>-75</td>\n      <td>82</td>\n      <td>[]</td>\n      <td>NaN</td>\n    </tr>\n    <tr>\n      <th>7</th>\n      <td>OE-UC-AD</td>\n      <td>MOON</td>\n      <td>Ado</td>\n      <td>-82</td>\n      <td>82</td>\n      <td>[]</td>\n      <td>NaN</td>\n    </tr>\n    <tr>\n      <th>8</th>\n      <td>OE-UC-OB</td>\n      <td>MOON</td>\n      <td>Obo</td>\n      <td>-77</td>\n      <td>78</td>\n      <td>[]</td>\n      <td>NaN</td>\n    </tr>\n    <tr>\n      <th>9</th>\n      <td>OE-XV-91-2</td>\n      <td>WORMHOLE</td>\n      <td>Wormhole</td>\n      <td>0</td>\n      <td>145</td>\n      <td>[]</td>\n      <td>[Extensive research has revealed a partially f...</td>\n    </tr>\n  </tbody>\n</table>\n</div>"
     },
     "metadata": {},
     "execution_count": 106
    }
   ],
   "source": [
    "oe_l = pd.DataFrame(OE['locations'])\n",
    "xv_l = pd.DataFrame(XV['locations'])\n",
    "oe_l"
   ]
  },
  {
   "cell_type": "markdown",
   "metadata": {},
   "source": [
    "#### Scatter Plot of the Locations"
   ]
  },
  {
   "cell_type": "code",
   "execution_count": 44,
   "metadata": {},
   "outputs": [
    {
     "data": {
      "image/png": "[encoded data removed]",
      "text/plain": [
       "<Figure size 864x864 with 1 Axes>"
      ]
     },
     "metadata": {
      "needs_background": "light"
     },
     "output_type": "display_data"
    }
   ],
   "source": [
    "ax = oe_l.plot.scatter('x', 'y', figsize=(12,12))\n",
    "oe_l[['x','y','name']].apply(lambda x: ax.text(*x),axis=1)\n",
    "\n",
    "plt.grid()\n",
    "plt.show()"
   ]
  },
  {
   "cell_type": "markdown",
   "metadata": {},
   "source": [
    "# Markets"
   ]
  },
  {
   "cell_type": "code",
   "execution_count": 41,
   "metadata": {},
   "outputs": [
    {
     "output_type": "stream",
     "name": "stdout",
     "text": [
      "[('OE-PM', {'symbol': 'FUEL', 'units': 23, 'total_cost': 69, 'expected_profit': -46}), ('OE-CR', {'symbol': 'FUEL', 'units': 23, 'total_cost': 69, 'expected_profit': -46}), ('OE-PM-TR', {'symbol': 'MACHINERY', 'units': 11, 'total_cost': 2420, 'expected_profit': 22}), ('OE-KO', {'symbol': 'MACHINERY', 'units': 11, 'total_cost': 2420, 'expected_profit': 33})]\n"
     ]
    },
    {
     "output_type": "execute_result",
     "data": {
      "text/plain": [
       "('OE-KO',\n",
       " {'symbol': 'MACHINERY',\n",
       "  'units': 11,\n",
       "  'total_cost': 2420,\n",
       "  'expected_profit': 33})"
      ]
     },
     "metadata": {},
     "execution_count": 41
    }
   ],
   "source": [
    "def get_locations_being_tracked(ships=None):\n",
    "    if ships is None:\n",
    "        ships = user.get_ships()\n",
    "    tracker_ships = trackers.get_trackers(ships)\n",
    "    return [ship.location for ship in tracker_ships]\n",
    "\n",
    "def find_optimum_trade_route(ship):\n",
    "    # Get tracked markets and remove the current market\n",
    "    all_tracker_locs = get_locations_being_tracked()\n",
    "    # remove current market of ship\n",
    "    all_tracker_locs.remove(ship.location)\n",
    "\n",
    "    # Work out the best trade\n",
    "    potential_trades = [st.Market().what_should_I_buy(ship, loc) for loc in all_tracker_locs]\n",
    "    # Pair up loc with best trade\n",
    "    pt_loc = list(zip(all_tracker_locs, potential_trades))\n",
    "    print(pt_loc)\n",
    "    # Return trade with Max expected profit\n",
    "    return max(pt_loc, key=lambda d: d[1]['expected_profit']) \n",
    "\n",
    "def any_dest_trading_run(ship):\n",
    "    # fill up \n",
    "    if ship.get_fuel_level() < 30:\n",
    "      print(\"Filling up Fuel\")\n",
    "      # Place order\n",
    "      fuel_order = user.new_order(ship.id, \"FUEL\", 30 - ship.get_fuel_level())\n",
    "      # Update ship\n",
    "      ship.update_cargo(fuel_order['ship']['cargo'], fuel_order['ship']['spaceAvailable'])\n",
    "\n",
    "    # Work out good to buy and destination\n",
    "    trade_route = find_optimum_trade_route(ship)\n",
    "    print(\"Buying {} units of {} for {} with an expected profit of {}\".\\\n",
    "      format(trade_route[1]['units'], trade_route[1]['symbol'], trade_route[1]['total_cost'], trade_route[1]['expected_profit']))\n",
    "\n",
    "    # Place order\n",
    "    buy_order = user.new_order(ship.id, trade_route[1]['symbol'], trade_route[1]['units'])\n",
    "    # Update Ship\n",
    "    ship.update_cargo(buy_order['ship']['cargo'], buy_order['ship']['spaceAvailable'])\n",
    "\n",
    "    # Fly to destination\n",
    "    flight = user.fly(ship.id, trade_route[0], track=True)\n",
    "    print(flight)\n",
    "    # Update Ship\n",
    "    ship = user.get_ship(ship.id)\n",
    "\n",
    "    # Sell Goods\n",
    "    sell_order = user.sell_order(ship.id, trade_route[1]['symbol'], trade_route[1]['units'])\n",
    "    print(\"Sold {} units of {} at {} with a profit of {}\".\\\n",
    "      format(trade_route[1]['units'], trade_route[1]['symbol'], sell_order['order']['total'], sell_order['order']['total']-trade_route[1]['total_cost']))\n",
    "    # Update Ship\n",
    "    ship.update_cargo(sell_order['ship']['cargo'], sell_order['ship']['spaceAvailable'])\n",
    "\n",
    "    return sell_order['order']['total'] - trade_route[1]['total_cost']\n",
    "\n",
    "# Come from the ship\n",
    "current_ship = user.get_ship('cknflrnom23763515s61061rc8l')\n",
    "find_optimum_trade_route(current_ship)"
   ]
  },
  {
   "cell_type": "code",
   "execution_count": 65,
   "metadata": {},
   "outputs": [],
   "source": [
    "prime = game.location(\"OE-PM\")\n",
    "tritus = game.location(\"OE-PM-TR\")\n",
    "carth = game.location(\"OE-CR\")\n",
    "nyon = game.location(\"OE-NY\")\n",
    "koria = game.location(\"OE-KO\")\n",
    "ucarro = game.location(\"OE-UC\")\n",
    "ado = game.location(\"OE-UC-AD\")\n",
    "obo = game.location(\"OE-UC-OB\")"
   ]
  },
  {
   "cell_type": "code",
   "execution_count": 66,
   "metadata": {},
   "outputs": [],
   "source": [
    "prime_df = pd.DataFrame(prime.marketplace())\n",
    "tritus_df = pd.DataFrame(tritus.marketplace())\n",
    "carth_df = pd.DataFrame(carth.marketplace())\n",
    "nyon_df = pd.DataFrame(nyon.marketplace())\n",
    "koria_df = pd.DataFrame(koria.marketplace())\n",
    "ucarro_df = pd.DataFrame(ucarro.marketplace())\n",
    "ado_df = pd.DataFrame(ado.marketplace())\n",
    "obo_df = pd.DataFrame(obo.marketplace())"
   ]
  },
  {
   "cell_type": "code",
   "execution_count": 75,
   "metadata": {},
   "outputs": [
    {
     "output_type": "execute_result",
     "data": {
      "text/plain": [
       "        symbol  volumePerUnit_from  purchasePricePerUnit_from  \\\n",
       "2         FUEL                   1                          3   \n",
       "3       DRONES                   2                         23   \n",
       "5  RARE_METALS                   1                         83   \n",
       "\n",
       "   sellPricePerUnit_to  profit  \n",
       "2                    1      -2  \n",
       "3                   34      11  \n",
       "5                   79      -4  "
      ],
      "text/html": "<div>\n<style scoped>\n    .dataframe tbody tr th:only-of-type {\n        vertical-align: middle;\n    }\n\n    .dataframe tbody tr th {\n        vertical-align: top;\n    }\n\n    .dataframe thead th {\n        text-align: right;\n    }\n</style>\n<table border=\"1\" class=\"dataframe\">\n  <thead>\n    <tr style=\"text-align: right;\">\n      <th></th>\n      <th>symbol</th>\n      <th>volumePerUnit_from</th>\n      <th>purchasePricePerUnit_from</th>\n      <th>sellPricePerUnit_to</th>\n      <th>profit</th>\n    </tr>\n  </thead>\n  <tbody>\n    <tr>\n      <th>2</th>\n      <td>FUEL</td>\n      <td>1</td>\n      <td>3</td>\n      <td>1</td>\n      <td>-2</td>\n    </tr>\n    <tr>\n      <th>3</th>\n      <td>DRONES</td>\n      <td>2</td>\n      <td>23</td>\n      <td>34</td>\n      <td>11</td>\n    </tr>\n    <tr>\n      <th>5</th>\n      <td>RARE_METALS</td>\n      <td>1</td>\n      <td>83</td>\n      <td>79</td>\n      <td>-4</td>\n    </tr>\n  </tbody>\n</table>\n</div>"
     },
     "metadata": {},
     "execution_count": 75
    }
   ],
   "source": [
    "markets = st.Market().market_compare(ucarro_df, nyon_df)\n",
    "markets.drop(['pricePerUnit_from', 'spread_from', 'sellPricePerUnit_from', \n",
    "              'quantityAvailable_from', 'volumePerUnit_to', 'pricePerUnit_to', \n",
    "              'spread_to', 'purchasePricePerUnit_to','quantityAvailable_to'], axis=1)"
   ]
  },
  {
   "source": [
    "# Tracker Data Analysis"
   ],
   "cell_type": "markdown",
   "metadata": {}
  },
  {
   "cell_type": "code",
   "execution_count": 64,
   "metadata": {},
   "outputs": [
    {
     "output_type": "display_data",
     "data": {
      "text/plain": "<Figure size 432x288 with 1 Axes>",
      "image/svg+xml": "<?xml version=\"1.0\" encoding=\"utf-8\" standalone=\"no\"?>\n<!DOCTYPE svg PUBLIC \"-//W3C//DTD SVG 1.1//EN\"\n  \"http://www.w3.org/Graphics/SVG/1.1/DTD/svg11.dtd\">\n<!-- Created with matplotlib (https://matplotlib.org/) -->\n<svg height=\"248.518125pt\" version=\"1.1\" viewBox=\"0 0 387.313745 248.518125\" width=\"387.313745pt\" xmlns=\"http://www.w3.org/2000/svg\" xmlns:xlink=\"http://www.w3.org/1999/xlink\">\n <defs>\n  <style type=\"text/css\">\n*{stroke-linecap:butt;stroke-linejoin:round;}\n  </style>\n </defs>\n <g id=\"figure_1\">\n  <g id=\"patch_1\">\n   <path d=\"M -0 248.518125 \nL 387.313745 248.518125 \nL 387.313745 0 \nL -0 0 \nz\n\" style=\"fill:none;\"/>\n  </g>\n  <g id=\"axes_1\">\n   <g id=\"patch_2\">\n    <path d=\"M 26.925 224.64 \nL 361.725 224.64 \nL 361.725 7.2 \nL 26.925 7.2 \nz\n\" style=\"fill:#ffffff;\"/>\n   </g>\n   <g id=\"matplotlib.axis_1\">\n    <g id=\"xtick_1\">\n     <g id=\"line2d_1\">\n      <defs>\n       <path d=\"M 0 0 \nL 0 3.5 \n\" id=\"m6ca7ec198e\" style=\"stroke:#000000;stroke-width:0.8;\"/>\n      </defs>\n      <g>\n       <use style=\"stroke:#000000;stroke-width:0.8;\" x=\"65.368068\" xlink:href=\"#m6ca7ec198e\" y=\"224.64\"/>\n      </g>\n     </g>\n     <g id=\"text_1\">\n      <!-- 04-13 22 -->\n      <defs>\n       <path d=\"M 31.78125 66.40625 \nQ 24.171875 66.40625 20.328125 58.90625 \nQ 16.5 51.421875 16.5 36.375 \nQ 16.5 21.390625 20.328125 13.890625 \nQ 24.171875 6.390625 31.78125 6.390625 \nQ 39.453125 6.390625 43.28125 13.890625 \nQ 47.125 21.390625 47.125 36.375 \nQ 47.125 51.421875 43.28125 58.90625 \nQ 39.453125 66.40625 31.78125 66.40625 \nz\nM 31.78125 74.21875 \nQ 44.046875 74.21875 50.515625 64.515625 \nQ 56.984375 54.828125 56.984375 36.375 \nQ 56.984375 17.96875 50.515625 8.265625 \nQ 44.046875 -1.421875 31.78125 -1.421875 \nQ 19.53125 -1.421875 13.0625 8.265625 \nQ 6.59375 17.96875 6.59375 36.375 \nQ 6.59375 54.828125 13.0625 64.515625 \nQ 19.53125 74.21875 31.78125 74.21875 \nz\n\" id=\"DejaVuSans-48\"/>\n       <path d=\"M 37.796875 64.3125 \nL 12.890625 25.390625 \nL 37.796875 25.390625 \nz\nM 35.203125 72.90625 \nL 47.609375 72.90625 \nL 47.609375 25.390625 \nL 58.015625 25.390625 \nL 58.015625 17.1875 \nL 47.609375 17.1875 \nL 47.609375 0 \nL 37.796875 0 \nL 37.796875 17.1875 \nL 4.890625 17.1875 \nL 4.890625 26.703125 \nz\n\" id=\"DejaVuSans-52\"/>\n       <path d=\"M 4.890625 31.390625 \nL 31.203125 31.390625 \nL 31.203125 23.390625 \nL 4.890625 23.390625 \nz\n\" id=\"DejaVuSans-45\"/>\n       <path d=\"M 12.40625 8.296875 \nL 28.515625 8.296875 \nL 28.515625 63.921875 \nL 10.984375 60.40625 \nL 10.984375 69.390625 \nL 28.421875 72.90625 \nL 38.28125 72.90625 \nL 38.28125 8.296875 \nL 54.390625 8.296875 \nL 54.390625 0 \nL 12.40625 0 \nz\n\" id=\"DejaVuSans-49\"/>\n       <path d=\"M 40.578125 39.3125 \nQ 47.65625 37.796875 51.625 33 \nQ 55.609375 28.21875 55.609375 21.1875 \nQ 55.609375 10.40625 48.1875 4.484375 \nQ 40.765625 -1.421875 27.09375 -1.421875 \nQ 22.515625 -1.421875 17.65625 -0.515625 \nQ 12.796875 0.390625 7.625 2.203125 \nL 7.625 11.71875 \nQ 11.71875 9.328125 16.59375 8.109375 \nQ 21.484375 6.890625 26.8125 6.890625 \nQ 36.078125 6.890625 40.9375 10.546875 \nQ 45.796875 14.203125 45.796875 21.1875 \nQ 45.796875 27.640625 41.28125 31.265625 \nQ 36.765625 34.90625 28.71875 34.90625 \nL 20.21875 34.90625 \nL 20.21875 43.015625 \nL 29.109375 43.015625 \nQ 36.375 43.015625 40.234375 45.921875 \nQ 44.09375 48.828125 44.09375 54.296875 \nQ 44.09375 59.90625 40.109375 62.90625 \nQ 36.140625 65.921875 28.71875 65.921875 \nQ 24.65625 65.921875 20.015625 65.03125 \nQ 15.375 64.15625 9.8125 62.3125 \nL 9.8125 71.09375 \nQ 15.4375 72.65625 20.34375 73.4375 \nQ 25.25 74.21875 29.59375 74.21875 \nQ 40.828125 74.21875 47.359375 69.109375 \nQ 53.90625 64.015625 53.90625 55.328125 \nQ 53.90625 49.265625 50.4375 45.09375 \nQ 46.96875 40.921875 40.578125 39.3125 \nz\n\" id=\"DejaVuSans-51\"/>\n       <path id=\"DejaVuSans-32\"/>\n       <path d=\"M 19.1875 8.296875 \nL 53.609375 8.296875 \nL 53.609375 0 \nL 7.328125 0 \nL 7.328125 8.296875 \nQ 12.9375 14.109375 22.625 23.890625 \nQ 32.328125 33.6875 34.8125 36.53125 \nQ 39.546875 41.84375 41.421875 45.53125 \nQ 43.3125 49.21875 43.3125 52.78125 \nQ 43.3125 58.59375 39.234375 62.25 \nQ 35.15625 65.921875 28.609375 65.921875 \nQ 23.96875 65.921875 18.8125 64.3125 \nQ 13.671875 62.703125 7.8125 59.421875 \nL 7.8125 69.390625 \nQ 13.765625 71.78125 18.9375 73 \nQ 24.125 74.21875 28.421875 74.21875 \nQ 39.75 74.21875 46.484375 68.546875 \nQ 53.21875 62.890625 53.21875 53.421875 \nQ 53.21875 48.921875 51.53125 44.890625 \nQ 49.859375 40.875 45.40625 35.40625 \nQ 44.1875 33.984375 37.640625 27.21875 \nQ 31.109375 20.453125 19.1875 8.296875 \nz\n\" id=\"DejaVuSans-50\"/>\n      </defs>\n      <g transform=\"translate(42.8876 239.238437)scale(0.1 -0.1)\">\n       <use xlink:href=\"#DejaVuSans-48\"/>\n       <use x=\"63.623047\" xlink:href=\"#DejaVuSans-52\"/>\n       <use x=\"127.246094\" xlink:href=\"#DejaVuSans-45\"/>\n       <use x=\"163.330078\" xlink:href=\"#DejaVuSans-49\"/>\n       <use x=\"226.953125\" xlink:href=\"#DejaVuSans-51\"/>\n       <use x=\"290.576172\" xlink:href=\"#DejaVuSans-32\"/>\n       <use x=\"322.363281\" xlink:href=\"#DejaVuSans-50\"/>\n       <use x=\"385.986328\" xlink:href=\"#DejaVuSans-50\"/>\n      </g>\n     </g>\n    </g>\n    <g id=\"xtick_2\">\n     <g id=\"line2d_2\">\n      <g>\n       <use style=\"stroke:#000000;stroke-width:0.8;\" x=\"107.120241\" xlink:href=\"#m6ca7ec198e\" y=\"224.64\"/>\n      </g>\n     </g>\n     <g id=\"text_2\">\n      <!-- 04-14 00 -->\n      <g transform=\"translate(84.639772 239.238437)scale(0.1 -0.1)\">\n       <use xlink:href=\"#DejaVuSans-48\"/>\n       <use x=\"63.623047\" xlink:href=\"#DejaVuSans-52\"/>\n       <use x=\"127.246094\" xlink:href=\"#DejaVuSans-45\"/>\n       <use x=\"163.330078\" xlink:href=\"#DejaVuSans-49\"/>\n       <use x=\"226.953125\" xlink:href=\"#DejaVuSans-52\"/>\n       <use x=\"290.576172\" xlink:href=\"#DejaVuSans-32\"/>\n       <use x=\"322.363281\" xlink:href=\"#DejaVuSans-48\"/>\n       <use x=\"385.986328\" xlink:href=\"#DejaVuSans-48\"/>\n      </g>\n     </g>\n    </g>\n    <g id=\"xtick_3\">\n     <g id=\"line2d_3\">\n      <g>\n       <use style=\"stroke:#000000;stroke-width:0.8;\" x=\"148.872414\" xlink:href=\"#m6ca7ec198e\" y=\"224.64\"/>\n      </g>\n     </g>\n     <g id=\"text_3\">\n      <!-- 04-14 02 -->\n      <g transform=\"translate(126.391945 239.238437)scale(0.1 -0.1)\">\n       <use xlink:href=\"#DejaVuSans-48\"/>\n       <use x=\"63.623047\" xlink:href=\"#DejaVuSans-52\"/>\n       <use x=\"127.246094\" xlink:href=\"#DejaVuSans-45\"/>\n       <use x=\"163.330078\" xlink:href=\"#DejaVuSans-49\"/>\n       <use x=\"226.953125\" xlink:href=\"#DejaVuSans-52\"/>\n       <use x=\"290.576172\" xlink:href=\"#DejaVuSans-32\"/>\n       <use x=\"322.363281\" xlink:href=\"#DejaVuSans-48\"/>\n       <use x=\"385.986328\" xlink:href=\"#DejaVuSans-50\"/>\n      </g>\n     </g>\n    </g>\n    <g id=\"xtick_4\">\n     <g id=\"line2d_4\">\n      <g>\n       <use style=\"stroke:#000000;stroke-width:0.8;\" x=\"190.624586\" xlink:href=\"#m6ca7ec198e\" y=\"224.64\"/>\n      </g>\n     </g>\n     <g id=\"text_4\">\n      <!-- 04-14 04 -->\n      <g transform=\"translate(168.144117 239.238437)scale(0.1 -0.1)\">\n       <use xlink:href=\"#DejaVuSans-48\"/>\n       <use x=\"63.623047\" xlink:href=\"#DejaVuSans-52\"/>\n       <use x=\"127.246094\" xlink:href=\"#DejaVuSans-45\"/>\n       <use x=\"163.330078\" xlink:href=\"#DejaVuSans-49\"/>\n       <use x=\"226.953125\" xlink:href=\"#DejaVuSans-52\"/>\n       <use x=\"290.576172\" xlink:href=\"#DejaVuSans-32\"/>\n       <use x=\"322.363281\" xlink:href=\"#DejaVuSans-48\"/>\n       <use x=\"385.986328\" xlink:href=\"#DejaVuSans-52\"/>\n      </g>\n     </g>\n    </g>\n    <g id=\"xtick_5\">\n     <g id=\"line2d_5\">\n      <g>\n       <use style=\"stroke:#000000;stroke-width:0.8;\" x=\"232.376759\" xlink:href=\"#m6ca7ec198e\" y=\"224.64\"/>\n      </g>\n     </g>\n     <g id=\"text_5\">\n      <!-- 04-14 06 -->\n      <defs>\n       <path d=\"M 33.015625 40.375 \nQ 26.375 40.375 22.484375 35.828125 \nQ 18.609375 31.296875 18.609375 23.390625 \nQ 18.609375 15.53125 22.484375 10.953125 \nQ 26.375 6.390625 33.015625 6.390625 \nQ 39.65625 6.390625 43.53125 10.953125 \nQ 47.40625 15.53125 47.40625 23.390625 \nQ 47.40625 31.296875 43.53125 35.828125 \nQ 39.65625 40.375 33.015625 40.375 \nz\nM 52.59375 71.296875 \nL 52.59375 62.3125 \nQ 48.875 64.0625 45.09375 64.984375 \nQ 41.3125 65.921875 37.59375 65.921875 \nQ 27.828125 65.921875 22.671875 59.328125 \nQ 17.53125 52.734375 16.796875 39.40625 \nQ 19.671875 43.65625 24.015625 45.921875 \nQ 28.375 48.1875 33.59375 48.1875 \nQ 44.578125 48.1875 50.953125 41.515625 \nQ 57.328125 34.859375 57.328125 23.390625 \nQ 57.328125 12.15625 50.6875 5.359375 \nQ 44.046875 -1.421875 33.015625 -1.421875 \nQ 20.359375 -1.421875 13.671875 8.265625 \nQ 6.984375 17.96875 6.984375 36.375 \nQ 6.984375 53.65625 15.1875 63.9375 \nQ 23.390625 74.21875 37.203125 74.21875 \nQ 40.921875 74.21875 44.703125 73.484375 \nQ 48.484375 72.75 52.59375 71.296875 \nz\n\" id=\"DejaVuSans-54\"/>\n      </defs>\n      <g transform=\"translate(209.89629 239.238437)scale(0.1 -0.1)\">\n       <use xlink:href=\"#DejaVuSans-48\"/>\n       <use x=\"63.623047\" xlink:href=\"#DejaVuSans-52\"/>\n       <use x=\"127.246094\" xlink:href=\"#DejaVuSans-45\"/>\n       <use x=\"163.330078\" xlink:href=\"#DejaVuSans-49\"/>\n       <use x=\"226.953125\" xlink:href=\"#DejaVuSans-52\"/>\n       <use x=\"290.576172\" xlink:href=\"#DejaVuSans-32\"/>\n       <use x=\"322.363281\" xlink:href=\"#DejaVuSans-48\"/>\n       <use x=\"385.986328\" xlink:href=\"#DejaVuSans-54\"/>\n      </g>\n     </g>\n    </g>\n    <g id=\"xtick_6\">\n     <g id=\"line2d_6\">\n      <g>\n       <use style=\"stroke:#000000;stroke-width:0.8;\" x=\"274.128931\" xlink:href=\"#m6ca7ec198e\" y=\"224.64\"/>\n      </g>\n     </g>\n     <g id=\"text_6\">\n      <!-- 04-14 08 -->\n      <defs>\n       <path d=\"M 31.78125 34.625 \nQ 24.75 34.625 20.71875 30.859375 \nQ 16.703125 27.09375 16.703125 20.515625 \nQ 16.703125 13.921875 20.71875 10.15625 \nQ 24.75 6.390625 31.78125 6.390625 \nQ 38.8125 6.390625 42.859375 10.171875 \nQ 46.921875 13.96875 46.921875 20.515625 \nQ 46.921875 27.09375 42.890625 30.859375 \nQ 38.875 34.625 31.78125 34.625 \nz\nM 21.921875 38.8125 \nQ 15.578125 40.375 12.03125 44.71875 \nQ 8.5 49.078125 8.5 55.328125 \nQ 8.5 64.0625 14.71875 69.140625 \nQ 20.953125 74.21875 31.78125 74.21875 \nQ 42.671875 74.21875 48.875 69.140625 \nQ 55.078125 64.0625 55.078125 55.328125 \nQ 55.078125 49.078125 51.53125 44.71875 \nQ 48 40.375 41.703125 38.8125 \nQ 48.828125 37.15625 52.796875 32.3125 \nQ 56.78125 27.484375 56.78125 20.515625 \nQ 56.78125 9.90625 50.3125 4.234375 \nQ 43.84375 -1.421875 31.78125 -1.421875 \nQ 19.734375 -1.421875 13.25 4.234375 \nQ 6.78125 9.90625 6.78125 20.515625 \nQ 6.78125 27.484375 10.78125 32.3125 \nQ 14.796875 37.15625 21.921875 38.8125 \nz\nM 18.3125 54.390625 \nQ 18.3125 48.734375 21.84375 45.5625 \nQ 25.390625 42.390625 31.78125 42.390625 \nQ 38.140625 42.390625 41.71875 45.5625 \nQ 45.3125 48.734375 45.3125 54.390625 \nQ 45.3125 60.0625 41.71875 63.234375 \nQ 38.140625 66.40625 31.78125 66.40625 \nQ 25.390625 66.40625 21.84375 63.234375 \nQ 18.3125 60.0625 18.3125 54.390625 \nz\n\" id=\"DejaVuSans-56\"/>\n      </defs>\n      <g transform=\"translate(251.648462 239.238437)scale(0.1 -0.1)\">\n       <use xlink:href=\"#DejaVuSans-48\"/>\n       <use x=\"63.623047\" xlink:href=\"#DejaVuSans-52\"/>\n       <use x=\"127.246094\" xlink:href=\"#DejaVuSans-45\"/>\n       <use x=\"163.330078\" xlink:href=\"#DejaVuSans-49\"/>\n       <use x=\"226.953125\" xlink:href=\"#DejaVuSans-52\"/>\n       <use x=\"290.576172\" xlink:href=\"#DejaVuSans-32\"/>\n       <use x=\"322.363281\" xlink:href=\"#DejaVuSans-48\"/>\n       <use x=\"385.986328\" xlink:href=\"#DejaVuSans-56\"/>\n      </g>\n     </g>\n    </g>\n    <g id=\"xtick_7\">\n     <g id=\"line2d_7\">\n      <g>\n       <use style=\"stroke:#000000;stroke-width:0.8;\" x=\"315.881104\" xlink:href=\"#m6ca7ec198e\" y=\"224.64\"/>\n      </g>\n     </g>\n     <g id=\"text_7\">\n      <!-- 04-14 10 -->\n      <g transform=\"translate(293.400635 239.238437)scale(0.1 -0.1)\">\n       <use xlink:href=\"#DejaVuSans-48\"/>\n       <use x=\"63.623047\" xlink:href=\"#DejaVuSans-52\"/>\n       <use x=\"127.246094\" xlink:href=\"#DejaVuSans-45\"/>\n       <use x=\"163.330078\" xlink:href=\"#DejaVuSans-49\"/>\n       <use x=\"226.953125\" xlink:href=\"#DejaVuSans-52\"/>\n       <use x=\"290.576172\" xlink:href=\"#DejaVuSans-32\"/>\n       <use x=\"322.363281\" xlink:href=\"#DejaVuSans-49\"/>\n       <use x=\"385.986328\" xlink:href=\"#DejaVuSans-48\"/>\n      </g>\n     </g>\n    </g>\n    <g id=\"xtick_8\">\n     <g id=\"line2d_8\">\n      <g>\n       <use style=\"stroke:#000000;stroke-width:0.8;\" x=\"357.633276\" xlink:href=\"#m6ca7ec198e\" y=\"224.64\"/>\n      </g>\n     </g>\n     <g id=\"text_8\">\n      <!-- 04-14 12 -->\n      <g transform=\"translate(335.152807 239.238437)scale(0.1 -0.1)\">\n       <use xlink:href=\"#DejaVuSans-48\"/>\n       <use x=\"63.623047\" xlink:href=\"#DejaVuSans-52\"/>\n       <use x=\"127.246094\" xlink:href=\"#DejaVuSans-45\"/>\n       <use x=\"163.330078\" xlink:href=\"#DejaVuSans-49\"/>\n       <use x=\"226.953125\" xlink:href=\"#DejaVuSans-52\"/>\n       <use x=\"290.576172\" xlink:href=\"#DejaVuSans-32\"/>\n       <use x=\"322.363281\" xlink:href=\"#DejaVuSans-49\"/>\n       <use x=\"385.986328\" xlink:href=\"#DejaVuSans-50\"/>\n      </g>\n     </g>\n    </g>\n   </g>\n   <g id=\"matplotlib.axis_2\">\n    <g id=\"ytick_1\">\n     <g id=\"line2d_9\">\n      <defs>\n       <path d=\"M 0 0 \nL -3.5 0 \n\" id=\"m8c994a4689\" style=\"stroke:#000000;stroke-width:0.8;\"/>\n      </defs>\n      <g>\n       <use style=\"stroke:#000000;stroke-width:0.8;\" x=\"26.925\" xlink:href=\"#m8c994a4689\" y=\"214.756364\"/>\n      </g>\n     </g>\n     <g id=\"text_9\">\n      <!-- 15 -->\n      <defs>\n       <path d=\"M 10.796875 72.90625 \nL 49.515625 72.90625 \nL 49.515625 64.59375 \nL 19.828125 64.59375 \nL 19.828125 46.734375 \nQ 21.96875 47.46875 24.109375 47.828125 \nQ 26.265625 48.1875 28.421875 48.1875 \nQ 40.625 48.1875 47.75 41.5 \nQ 54.890625 34.8125 54.890625 23.390625 \nQ 54.890625 11.625 47.5625 5.09375 \nQ 40.234375 -1.421875 26.90625 -1.421875 \nQ 22.3125 -1.421875 17.546875 -0.640625 \nQ 12.796875 0.140625 7.71875 1.703125 \nL 7.71875 11.625 \nQ 12.109375 9.234375 16.796875 8.0625 \nQ 21.484375 6.890625 26.703125 6.890625 \nQ 35.15625 6.890625 40.078125 11.328125 \nQ 45.015625 15.765625 45.015625 23.390625 \nQ 45.015625 31 40.078125 35.4375 \nQ 35.15625 39.890625 26.703125 39.890625 \nQ 22.75 39.890625 18.8125 39.015625 \nQ 14.890625 38.140625 10.796875 36.28125 \nz\n\" id=\"DejaVuSans-53\"/>\n      </defs>\n      <g transform=\"translate(7.2 218.555582)scale(0.1 -0.1)\">\n       <use xlink:href=\"#DejaVuSans-49\"/>\n       <use x=\"63.623047\" xlink:href=\"#DejaVuSans-53\"/>\n      </g>\n     </g>\n    </g>\n    <g id=\"ytick_2\">\n     <g id=\"line2d_10\">\n      <g>\n       <use style=\"stroke:#000000;stroke-width:0.8;\" x=\"26.925\" xlink:href=\"#m8c994a4689\" y=\"183.87\"/>\n      </g>\n     </g>\n     <g id=\"text_10\">\n      <!-- 20 -->\n      <g transform=\"translate(7.2 187.669219)scale(0.1 -0.1)\">\n       <use xlink:href=\"#DejaVuSans-50\"/>\n       <use x=\"63.623047\" xlink:href=\"#DejaVuSans-48\"/>\n      </g>\n     </g>\n    </g>\n    <g id=\"ytick_3\">\n     <g id=\"line2d_11\">\n      <g>\n       <use style=\"stroke:#000000;stroke-width:0.8;\" x=\"26.925\" xlink:href=\"#m8c994a4689\" y=\"152.983636\"/>\n      </g>\n     </g>\n     <g id=\"text_11\">\n      <!-- 25 -->\n      <g transform=\"translate(7.2 156.782855)scale(0.1 -0.1)\">\n       <use xlink:href=\"#DejaVuSans-50\"/>\n       <use x=\"63.623047\" xlink:href=\"#DejaVuSans-53\"/>\n      </g>\n     </g>\n    </g>\n    <g id=\"ytick_4\">\n     <g id=\"line2d_12\">\n      <g>\n       <use style=\"stroke:#000000;stroke-width:0.8;\" x=\"26.925\" xlink:href=\"#m8c994a4689\" y=\"122.097273\"/>\n      </g>\n     </g>\n     <g id=\"text_12\">\n      <!-- 30 -->\n      <g transform=\"translate(7.2 125.896491)scale(0.1 -0.1)\">\n       <use xlink:href=\"#DejaVuSans-51\"/>\n       <use x=\"63.623047\" xlink:href=\"#DejaVuSans-48\"/>\n      </g>\n     </g>\n    </g>\n    <g id=\"ytick_5\">\n     <g id=\"line2d_13\">\n      <g>\n       <use style=\"stroke:#000000;stroke-width:0.8;\" x=\"26.925\" xlink:href=\"#m8c994a4689\" y=\"91.210909\"/>\n      </g>\n     </g>\n     <g id=\"text_13\">\n      <!-- 35 -->\n      <g transform=\"translate(7.2 95.010128)scale(0.1 -0.1)\">\n       <use xlink:href=\"#DejaVuSans-51\"/>\n       <use x=\"63.623047\" xlink:href=\"#DejaVuSans-53\"/>\n      </g>\n     </g>\n    </g>\n    <g id=\"ytick_6\">\n     <g id=\"line2d_14\">\n      <g>\n       <use style=\"stroke:#000000;stroke-width:0.8;\" x=\"26.925\" xlink:href=\"#m8c994a4689\" y=\"60.324545\"/>\n      </g>\n     </g>\n     <g id=\"text_14\">\n      <!-- 40 -->\n      <g transform=\"translate(7.2 64.123764)scale(0.1 -0.1)\">\n       <use xlink:href=\"#DejaVuSans-52\"/>\n       <use x=\"63.623047\" xlink:href=\"#DejaVuSans-48\"/>\n      </g>\n     </g>\n    </g>\n    <g id=\"ytick_7\">\n     <g id=\"line2d_15\">\n      <g>\n       <use style=\"stroke:#000000;stroke-width:0.8;\" x=\"26.925\" xlink:href=\"#m8c994a4689\" y=\"29.438182\"/>\n      </g>\n     </g>\n     <g id=\"text_15\">\n      <!-- 45 -->\n      <g transform=\"translate(7.2 33.237401)scale(0.1 -0.1)\">\n       <use xlink:href=\"#DejaVuSans-52\"/>\n       <use x=\"63.623047\" xlink:href=\"#DejaVuSans-53\"/>\n      </g>\n     </g>\n    </g>\n   </g>\n   <g id=\"line2d_16\">\n    <path clip-path=\"url(#p494396e129)\" d=\"M 42.143182 214.756364 \nL 54.699918 214.756364 \nL 59.800609 196.224545 \nL 60.172504 196.224545 \nL 62.079075 202.401818 \nL 66.212582 202.401818 \nL 66.629671 208.579091 \nL 69.605442 208.579091 \nL 71.078038 214.756364 \nL 101.177163 214.756364 \nL 101.665656 208.579091 \nL 102.15441 208.579091 \nL 103.136511 196.224545 \nL 105.123543 196.224545 \nL 105.612442 202.401818 \nL 108.548357 202.401818 \nL 109.526657 190.047273 \nL 110.017095 177.692727 \nL 110.507407 177.692727 \nL 110.998797 171.515455 \nL 112.468218 171.515455 \nL 112.957417 177.692727 \nL 116.880602 177.692727 \nL 117.369663 171.515455 \nL 119.333009 171.515455 \nL 119.823267 165.338182 \nL 120.312837 165.338182 \nL 120.829691 171.515455 \nL 125.2352 171.515455 \nL 125.725025 165.338182 \nL 127.694082 165.338182 \nL 128.183562 159.160909 \nL 129.657131 159.160909 \nL 130.149491 165.338182 \nL 133.087965 165.338182 \nL 133.576729 159.160909 \nL 134.615643 159.160909 \nL 135.10461 152.983636 \nL 135.594582 159.160909 \nL 140.981577 159.160909 \nL 141.470178 165.338182 \nL 144.896453 165.338182 \nL 145.385745 171.515455 \nL 149.298771 171.515455 \nL 149.788348 177.692727 \nL 153.215725 177.692727 \nL 153.706369 183.87 \nL 157.62072 183.87 \nL 158.112251 190.047273 \nL 164.495894 190.047273 \nL 164.986303 196.224545 \nL 168.927913 196.224545 \nL 169.419874 202.401818 \nL 175.321011 202.401818 \nL 175.810293 196.224545 \nL 176.299592 202.401818 \nL 177.76836 202.401818 \nL 178.258268 196.224545 \nL 178.747319 202.401818 \nL 179.236541 196.224545 \nL 182.667133 196.224545 \nL 183.16239 202.401818 \nL 184.145507 202.401818 \nL 184.635622 196.224545 \nL 187.58557 196.224545 \nL 188.074193 190.047273 \nL 189.063326 190.047273 \nL 189.558961 196.224545 \nL 193.479582 196.224545 \nL 193.970674 202.401818 \nL 194.955565 202.401818 \nL 195.444703 196.224545 \nL 199.871821 196.224545 \nL 200.361137 190.047273 \nL 205.77954 190.047273 \nL 206.275169 183.87 \nL 211.681526 183.87 \nL 212.172719 177.692727 \nL 212.665175 183.87 \nL 214.139714 183.87 \nL 214.631883 177.692727 \nL 215.617815 177.692727 \nL 216.108949 183.87 \nL 220.530093 183.87 \nL 221.020759 177.692727 \nL 222.018402 177.692727 \nL 222.513948 183.87 \nL 226.433274 183.87 \nL 226.92197 190.047273 \nL 228.882296 190.047273 \nL 263.758224 214.756364 \nL 265.713934 214.756364 \nL 266.205172 208.579091 \nL 268.17984 208.579091 \nL 303.520087 202.401818 \nL 304.010169 196.224545 \nL 306.945189 196.224545 \nL 307.435933 190.047273 \nL 308.448679 190.047273 \nL 308.940314 177.692727 \nL 311.877919 177.692727 \nL 312.366229 183.87 \nL 312.85967 183.87 \nL 346.367634 196.224545 \nL 346.367634 196.224545 \n\" style=\"fill:none;stroke:#1f77b4;stroke-linecap:square;stroke-width:1.5;\"/>\n   </g>\n   <g id=\"line2d_17\">\n    <path clip-path=\"url(#p494396e129)\" d=\"M 47.084916 214.756364 \nL 346.402899 214.756364 \nL 346.402899 214.756364 \n\" style=\"fill:none;stroke:#ff7f0e;stroke-linecap:square;stroke-width:1.5;\"/>\n   </g>\n   <g id=\"line2d_18\">\n    <path clip-path=\"url(#p494396e129)\" d=\"M 47.090532 23.260909 \nL 48.664587 17.083636 \nL 49.164382 17.083636 \nL 51.219834 23.260909 \nL 54.710933 23.260909 \nL 59.811895 35.615455 \nL 68.041065 35.615455 \nL 68.690803 29.438182 \nL 75.638376 29.438182 \nL 77.083737 23.260909 \nL 84.605182 23.260909 \nL 85.094366 17.083636 \nL 101.735196 17.083636 \nL 102.223873 23.260909 \nL 102.71628 23.260909 \nL 103.723575 35.615455 \nL 105.682009 35.615455 \nL 106.171 29.438182 \nL 109.107399 29.438182 \nL 111.069995 54.147273 \nL 116.950215 54.147273 \nL 117.439126 60.324545 \nL 119.89308 60.324545 \nL 120.38289 66.501818 \nL 121.879272 66.501818 \nL 122.368392 60.324545 \nL 125.794795 60.324545 \nL 126.7829 72.679091 \nL 127.274108 66.501818 \nL 127.763651 72.679091 \nL 133.646013 72.679091 \nL 134.19607 78.856364 \nL 143.987575 78.856364 \nL 144.476622 72.679091 \nL 152.304921 72.679091 \nL 152.796142 66.501818 \nL 160.644803 66.501818 \nL 161.137203 60.324545 \nL 163.584935 60.324545 \nL 164.076714 66.501818 \nL 166.040734 66.501818 \nL 166.530791 60.324545 \nL 176.368945 60.324545 \nL 176.858191 66.501818 \nL 177.348438 66.501818 \nL 177.838669 60.324545 \nL 178.327872 60.324545 \nL 178.81676 66.501818 \nL 186.179698 66.501818 \nL 186.673319 72.679091 \nL 198.960338 72.679091 \nL 199.449299 78.856364 \nL 206.345282 78.856364 \nL 206.834616 85.033636 \nL 208.30519 85.033636 \nL 208.794147 91.210909 \nL 214.702224 91.210909 \nL 215.197249 97.388182 \nL 219.620937 97.388182 \nL 220.110516 91.210909 \nL 220.601036 91.210909 \nL 221.091142 97.388182 \nL 226.991123 97.388182 \nL 227.479114 91.210909 \nL 228.954913 91.210909 \nL 263.827815 72.679091 \nL 266.277241 72.679091 \nL 266.770873 78.856364 \nL 268.251731 78.856364 \nL 303.591625 103.565455 \nL 304.081939 103.565455 \nL 304.569624 109.742727 \nL 307.505659 109.742727 \nL 307.997173 115.92 \nL 309.010123 115.92 \nL 309.498441 122.097273 \nL 309.987012 122.097273 \nL 310.474765 128.274545 \nL 312.928777 128.274545 \nL 346.437628 122.097273 \nL 346.437628 122.097273 \n\" style=\"fill:none;stroke:#2ca02c;stroke-linecap:square;stroke-width:1.5;\"/>\n   </g>\n   <g id=\"line2d_19\">\n    <path clip-path=\"url(#p494396e129)\" d=\"M 47.096048 17.083636 \nL 220.14534 17.083636 \nL 220.635813 23.260909 \nL 221.126073 17.083636 \nL 268.28636 17.083636 \nL 303.626269 47.97 \nL 305.093276 47.97 \nL 305.58148 41.792727 \nL 308.555952 41.792727 \nL 309.045029 47.97 \nL 309.533365 47.97 \nL 310.021546 54.147273 \nL 310.510203 54.147273 \nL 311.003278 60.324545 \nL 312.475451 60.324545 \nL 312.963769 66.501818 \nL 346.472217 85.033636 \nL 346.472217 85.033636 \n\" style=\"fill:none;stroke:#d62728;stroke-linecap:square;stroke-width:1.5;\"/>\n   </g>\n   <g id=\"line2d_20\">\n    <path clip-path=\"url(#p494396e129)\" d=\"M 346.506818 109.742727 \n\" style=\"fill:none;stroke:#9467bd;stroke-linecap:square;stroke-width:1.5;\"/>\n   </g>\n   <g id=\"patch_3\">\n    <path d=\"M 26.925 224.64 \nL 26.925 7.2 \n\" style=\"fill:none;stroke:#000000;stroke-linecap:square;stroke-linejoin:miter;stroke-width:0.8;\"/>\n   </g>\n   <g id=\"patch_4\">\n    <path d=\"M 361.725 224.64 \nL 361.725 7.2 \n\" style=\"fill:none;stroke:#000000;stroke-linecap:square;stroke-linejoin:miter;stroke-width:0.8;\"/>\n   </g>\n   <g id=\"patch_5\">\n    <path d=\"M 26.925 224.64 \nL 361.725 224.64 \n\" style=\"fill:none;stroke:#000000;stroke-linecap:square;stroke-linejoin:miter;stroke-width:0.8;\"/>\n   </g>\n   <g id=\"patch_6\">\n    <path d=\"M 26.925 7.2 \nL 361.725 7.2 \n\" style=\"fill:none;stroke:#000000;stroke-linecap:square;stroke-linejoin:miter;stroke-width:0.8;\"/>\n   </g>\n   <g id=\"legend_1\">\n    <g id=\"patch_7\">\n     <path d=\"M 33.925 154.115312 \nL 114.132812 154.115312 \nQ 116.132812 154.115312 116.132812 152.115312 \nL 116.132812 79.724687 \nQ 116.132812 77.724687 114.132812 77.724687 \nL 33.925 77.724687 \nQ 31.925 77.724687 31.925 79.724687 \nL 31.925 152.115312 \nQ 31.925 154.115312 33.925 154.115312 \nz\n\" style=\"fill:#ffffff;opacity:0.8;stroke:#cccccc;stroke-linejoin:miter;\"/>\n    </g>\n    <g id=\"line2d_21\">\n     <path d=\"M 35.925 85.823125 \nL 55.925 85.823125 \n\" style=\"fill:none;stroke:#1f77b4;stroke-linecap:square;stroke-width:1.5;\"/>\n    </g>\n    <g id=\"line2d_22\"/>\n    <g id=\"text_16\">\n     <!-- OE-PM -->\n     <defs>\n      <path d=\"M 39.40625 66.21875 \nQ 28.65625 66.21875 22.328125 58.203125 \nQ 16.015625 50.203125 16.015625 36.375 \nQ 16.015625 22.609375 22.328125 14.59375 \nQ 28.65625 6.59375 39.40625 6.59375 \nQ 50.140625 6.59375 56.421875 14.59375 \nQ 62.703125 22.609375 62.703125 36.375 \nQ 62.703125 50.203125 56.421875 58.203125 \nQ 50.140625 66.21875 39.40625 66.21875 \nz\nM 39.40625 74.21875 \nQ 54.734375 74.21875 63.90625 63.9375 \nQ 73.09375 53.65625 73.09375 36.375 \nQ 73.09375 19.140625 63.90625 8.859375 \nQ 54.734375 -1.421875 39.40625 -1.421875 \nQ 24.03125 -1.421875 14.8125 8.828125 \nQ 5.609375 19.09375 5.609375 36.375 \nQ 5.609375 53.65625 14.8125 63.9375 \nQ 24.03125 74.21875 39.40625 74.21875 \nz\n\" id=\"DejaVuSans-79\"/>\n      <path d=\"M 9.8125 72.90625 \nL 55.90625 72.90625 \nL 55.90625 64.59375 \nL 19.671875 64.59375 \nL 19.671875 43.015625 \nL 54.390625 43.015625 \nL 54.390625 34.71875 \nL 19.671875 34.71875 \nL 19.671875 8.296875 \nL 56.78125 8.296875 \nL 56.78125 0 \nL 9.8125 0 \nz\n\" id=\"DejaVuSans-69\"/>\n      <path d=\"M 19.671875 64.796875 \nL 19.671875 37.40625 \nL 32.078125 37.40625 \nQ 38.96875 37.40625 42.71875 40.96875 \nQ 46.484375 44.53125 46.484375 51.125 \nQ 46.484375 57.671875 42.71875 61.234375 \nQ 38.96875 64.796875 32.078125 64.796875 \nz\nM 9.8125 72.90625 \nL 32.078125 72.90625 \nQ 44.34375 72.90625 50.609375 67.359375 \nQ 56.890625 61.8125 56.890625 51.125 \nQ 56.890625 40.328125 50.609375 34.8125 \nQ 44.34375 29.296875 32.078125 29.296875 \nL 19.671875 29.296875 \nL 19.671875 0 \nL 9.8125 0 \nz\n\" id=\"DejaVuSans-80\"/>\n      <path d=\"M 9.8125 72.90625 \nL 24.515625 72.90625 \nL 43.109375 23.296875 \nL 61.8125 72.90625 \nL 76.515625 72.90625 \nL 76.515625 0 \nL 66.890625 0 \nL 66.890625 64.015625 \nL 48.09375 14.015625 \nL 38.1875 14.015625 \nL 19.390625 64.015625 \nL 19.390625 0 \nL 9.8125 0 \nz\n\" id=\"DejaVuSans-77\"/>\n     </defs>\n     <g transform=\"translate(63.925 89.323125)scale(0.1 -0.1)\">\n      <use xlink:href=\"#DejaVuSans-79\"/>\n      <use x=\"78.710938\" xlink:href=\"#DejaVuSans-69\"/>\n      <use x=\"141.894531\" xlink:href=\"#DejaVuSans-45\"/>\n      <use x=\"177.978516\" xlink:href=\"#DejaVuSans-80\"/>\n      <use x=\"238.28125\" xlink:href=\"#DejaVuSans-77\"/>\n     </g>\n    </g>\n    <g id=\"line2d_23\">\n     <path d=\"M 35.925 100.50125 \nL 55.925 100.50125 \n\" style=\"fill:none;stroke:#ff7f0e;stroke-linecap:square;stroke-width:1.5;\"/>\n    </g>\n    <g id=\"line2d_24\"/>\n    <g id=\"text_17\">\n     <!-- OE-CR -->\n     <defs>\n      <path d=\"M 64.40625 67.28125 \nL 64.40625 56.890625 \nQ 59.421875 61.53125 53.78125 63.8125 \nQ 48.140625 66.109375 41.796875 66.109375 \nQ 29.296875 66.109375 22.65625 58.46875 \nQ 16.015625 50.828125 16.015625 36.375 \nQ 16.015625 21.96875 22.65625 14.328125 \nQ 29.296875 6.6875 41.796875 6.6875 \nQ 48.140625 6.6875 53.78125 8.984375 \nQ 59.421875 11.28125 64.40625 15.921875 \nL 64.40625 5.609375 \nQ 59.234375 2.09375 53.4375 0.328125 \nQ 47.65625 -1.421875 41.21875 -1.421875 \nQ 24.65625 -1.421875 15.125 8.703125 \nQ 5.609375 18.84375 5.609375 36.375 \nQ 5.609375 53.953125 15.125 64.078125 \nQ 24.65625 74.21875 41.21875 74.21875 \nQ 47.75 74.21875 53.53125 72.484375 \nQ 59.328125 70.75 64.40625 67.28125 \nz\n\" id=\"DejaVuSans-67\"/>\n      <path d=\"M 44.390625 34.1875 \nQ 47.5625 33.109375 50.5625 29.59375 \nQ 53.5625 26.078125 56.59375 19.921875 \nL 66.609375 0 \nL 56 0 \nL 46.6875 18.703125 \nQ 43.0625 26.03125 39.671875 28.421875 \nQ 36.28125 30.8125 30.421875 30.8125 \nL 19.671875 30.8125 \nL 19.671875 0 \nL 9.8125 0 \nL 9.8125 72.90625 \nL 32.078125 72.90625 \nQ 44.578125 72.90625 50.734375 67.671875 \nQ 56.890625 62.453125 56.890625 51.90625 \nQ 56.890625 45.015625 53.6875 40.46875 \nQ 50.484375 35.9375 44.390625 34.1875 \nz\nM 19.671875 64.796875 \nL 19.671875 38.921875 \nL 32.078125 38.921875 \nQ 39.203125 38.921875 42.84375 42.21875 \nQ 46.484375 45.515625 46.484375 51.90625 \nQ 46.484375 58.296875 42.84375 61.546875 \nQ 39.203125 64.796875 32.078125 64.796875 \nz\n\" id=\"DejaVuSans-82\"/>\n     </defs>\n     <g transform=\"translate(63.925 104.00125)scale(0.1 -0.1)\">\n      <use xlink:href=\"#DejaVuSans-79\"/>\n      <use x=\"78.710938\" xlink:href=\"#DejaVuSans-69\"/>\n      <use x=\"141.894531\" xlink:href=\"#DejaVuSans-45\"/>\n      <use x=\"177.978516\" xlink:href=\"#DejaVuSans-67\"/>\n      <use x=\"247.802734\" xlink:href=\"#DejaVuSans-82\"/>\n     </g>\n    </g>\n    <g id=\"line2d_25\">\n     <path d=\"M 35.925 115.179375 \nL 55.925 115.179375 \n\" style=\"fill:none;stroke:#2ca02c;stroke-linecap:square;stroke-width:1.5;\"/>\n    </g>\n    <g id=\"line2d_26\"/>\n    <g id=\"text_18\">\n     <!-- OE-PM-TR -->\n     <defs>\n      <path d=\"M -0.296875 72.90625 \nL 61.375 72.90625 \nL 61.375 64.59375 \nL 35.5 64.59375 \nL 35.5 0 \nL 25.59375 0 \nL 25.59375 64.59375 \nL -0.296875 64.59375 \nz\n\" id=\"DejaVuSans-84\"/>\n     </defs>\n     <g transform=\"translate(63.925 118.679375)scale(0.1 -0.1)\">\n      <use xlink:href=\"#DejaVuSans-79\"/>\n      <use x=\"78.710938\" xlink:href=\"#DejaVuSans-69\"/>\n      <use x=\"141.894531\" xlink:href=\"#DejaVuSans-45\"/>\n      <use x=\"177.978516\" xlink:href=\"#DejaVuSans-80\"/>\n      <use x=\"238.28125\" xlink:href=\"#DejaVuSans-77\"/>\n      <use x=\"324.560547\" xlink:href=\"#DejaVuSans-45\"/>\n      <use x=\"351.519531\" xlink:href=\"#DejaVuSans-84\"/>\n      <use x=\"412.603516\" xlink:href=\"#DejaVuSans-82\"/>\n     </g>\n    </g>\n    <g id=\"line2d_27\">\n     <path d=\"M 35.925 129.8575 \nL 55.925 129.8575 \n\" style=\"fill:none;stroke:#d62728;stroke-linecap:square;stroke-width:1.5;\"/>\n    </g>\n    <g id=\"line2d_28\"/>\n    <g id=\"text_19\">\n     <!-- OE-NY -->\n     <defs>\n      <path d=\"M 9.8125 72.90625 \nL 23.09375 72.90625 \nL 55.421875 11.921875 \nL 55.421875 72.90625 \nL 64.984375 72.90625 \nL 64.984375 0 \nL 51.703125 0 \nL 19.390625 60.984375 \nL 19.390625 0 \nL 9.8125 0 \nz\n\" id=\"DejaVuSans-78\"/>\n      <path d=\"M -0.203125 72.90625 \nL 10.40625 72.90625 \nL 30.609375 42.921875 \nL 50.6875 72.90625 \nL 61.28125 72.90625 \nL 35.5 34.71875 \nL 35.5 0 \nL 25.59375 0 \nL 25.59375 34.71875 \nz\n\" id=\"DejaVuSans-89\"/>\n     </defs>\n     <g transform=\"translate(63.925 133.3575)scale(0.1 -0.1)\">\n      <use xlink:href=\"#DejaVuSans-79\"/>\n      <use x=\"78.710938\" xlink:href=\"#DejaVuSans-69\"/>\n      <use x=\"141.894531\" xlink:href=\"#DejaVuSans-45\"/>\n      <use x=\"177.978516\" xlink:href=\"#DejaVuSans-78\"/>\n      <use x=\"252.783203\" xlink:href=\"#DejaVuSans-89\"/>\n     </g>\n    </g>\n    <g id=\"line2d_29\">\n     <path d=\"M 35.925 144.535625 \nL 55.925 144.535625 \n\" style=\"fill:none;stroke:#9467bd;stroke-linecap:square;stroke-width:1.5;\"/>\n    </g>\n    <g id=\"line2d_30\"/>\n    <g id=\"text_20\">\n     <!-- OE-KO -->\n     <defs>\n      <path d=\"M 9.8125 72.90625 \nL 19.671875 72.90625 \nL 19.671875 42.09375 \nL 52.390625 72.90625 \nL 65.09375 72.90625 \nL 28.90625 38.921875 \nL 67.671875 0 \nL 54.6875 0 \nL 19.671875 35.109375 \nL 19.671875 0 \nL 9.8125 0 \nz\n\" id=\"DejaVuSans-75\"/>\n     </defs>\n     <g transform=\"translate(63.925 148.035625)scale(0.1 -0.1)\">\n      <use xlink:href=\"#DejaVuSans-79\"/>\n      <use x=\"78.710938\" xlink:href=\"#DejaVuSans-69\"/>\n      <use x=\"141.894531\" xlink:href=\"#DejaVuSans-45\"/>\n      <use x=\"177.978516\" xlink:href=\"#DejaVuSans-75\"/>\n      <use x=\"238.054688\" xlink:href=\"#DejaVuSans-79\"/>\n     </g>\n    </g>\n   </g>\n  </g>\n </g>\n <defs>\n  <clipPath id=\"p494396e129\">\n   <rect height=\"217.44\" width=\"334.8\" x=\"26.925\" y=\"7.2\"/>\n  </clipPath>\n </defs>\n</svg>\n",
      "image/png": "[encoded data removed]"
     },
     "metadata": {
      "needs_background": "light"
     }
    }
   ],
   "source": [
    "DATABASE_LOCATION = 'sqlite:///SpaceTraders_DB.sqlite'\n",
    "\n",
    "engine = sqlalchemy.create_engine(DATABASE_LOCATION)\n",
    "conn = sqlite3.connect('SpaceTraders_DB.sqlite')\n",
    "\n",
    "market_tracker = pd.read_sql('marketplace_tracker', engine)\n",
    "\n",
    "market_tracker['purchasePricePerUnit'] = market_tracker['purchasePricePerUnit'].astype(int)\n",
    "market_tracker['sellPricePerUnit'] = market_tracker['sellPricePerUnit'].astype(int)\n",
    "market_tracker['quantityAvailable'] = market_tracker['quantityAvailable'].astype(int)\n",
    "market_tracker['pricePerUnit'] = market_tracker['pricePerUnit'].astype(int)\n",
    "market_tracker['volumePerUnit'] = market_tracker['volumePerUnit'].astype(int)\n",
    "market_tracker['time'] = pd.to_datetime(market_tracker['time'])\n",
    "\n",
    "oe_pm = market_tracker['location'] == \"OE-PM\"\n",
    "oe_pm_tr = market_tracker['location'] == \"OE-PM-TR\"\n",
    "metals = market_tracker['symbol'] == \"DRONES\"\n",
    "\n",
    "loc_with_good = market_tracker.loc[metals]\n",
    "for loc in loc_with_good.location.unique():\n",
    "    loc_mask = market_tracker['location'] == loc\n",
    "    loc_good_df = loc_with_good.loc[loc_mask]\n",
    "    plt.plot(loc_good_df.time, loc_good_df.purchasePricePerUnit, label = loc)\n",
    "\n",
    "plt.legend()\n",
    "plt.show()"
   ]
  },
  {
   "source": [
    "### Fuel Calculation"
   ],
   "cell_type": "markdown",
   "metadata": {}
  },
  {
   "cell_type": "code",
   "execution_count": 248,
   "metadata": {},
   "outputs": [
    {
     "output_type": "execute_result",
     "data": {
      "text/plain": [
       "       symbol       type      name   x    y  estimated_fuel_usage  distance  \\\n",
       "0       OE-PM     PLANET     Prime  20  -25              4.000000         0   \n",
       "1    OE-PM-TR       MOON    Tritus  23  -28              4.972973         4   \n",
       "2       OE-CR     PLANET     Carth  16   17             14.216216        42   \n",
       "3       OE-KO     PLANET     Koria -48   -7             21.027027        70   \n",
       "4       OE-BO  GAS_GIANT        Bo -64  -89             29.783784       106   \n",
       "5       OE-NY   ASTEROID      Nyon  74   50             26.378378        92   \n",
       "6       OE-UC     PLANET    Ucarro -75   82             38.783784       143   \n",
       "7    OE-UC-AD       MOON       Ado -82   82             40.000000       148   \n",
       "8    OE-UC-OB       MOON       Obo -77   78             38.297297       141   \n",
       "9  OE-XV-91-2   WORMHOLE  Wormhole   0  145             45.594595       171   \n",
       "\n",
       "   estimated_fuel_usage_rounded  \n",
       "0                             4  \n",
       "1                             5  \n",
       "2                            14  \n",
       "3                            21  \n",
       "4                            30  \n",
       "5                            26  \n",
       "6                            39  \n",
       "7                            40  \n",
       "8                            38  \n",
       "9                            46  "
      ],
      "text/html": "<div>\n<style scoped>\n    .dataframe tbody tr th:only-of-type {\n        vertical-align: middle;\n    }\n\n    .dataframe tbody tr th {\n        vertical-align: top;\n    }\n\n    .dataframe thead th {\n        text-align: right;\n    }\n</style>\n<table border=\"1\" class=\"dataframe\">\n  <thead>\n    <tr style=\"text-align: right;\">\n      <th></th>\n      <th>symbol</th>\n      <th>type</th>\n      <th>name</th>\n      <th>x</th>\n      <th>y</th>\n      <th>estimated_fuel_usage</th>\n      <th>distance</th>\n      <th>estimated_fuel_usage_rounded</th>\n    </tr>\n  </thead>\n  <tbody>\n    <tr>\n      <th>0</th>\n      <td>OE-PM</td>\n      <td>PLANET</td>\n      <td>Prime</td>\n      <td>20</td>\n      <td>-25</td>\n      <td>4.000000</td>\n      <td>0</td>\n      <td>4</td>\n    </tr>\n    <tr>\n      <th>1</th>\n      <td>OE-PM-TR</td>\n      <td>MOON</td>\n      <td>Tritus</td>\n      <td>23</td>\n      <td>-28</td>\n      <td>4.972973</td>\n      <td>4</td>\n      <td>5</td>\n    </tr>\n    <tr>\n      <th>2</th>\n      <td>OE-CR</td>\n      <td>PLANET</td>\n      <td>Carth</td>\n      <td>16</td>\n      <td>17</td>\n      <td>14.216216</td>\n      <td>42</td>\n      <td>14</td>\n    </tr>\n    <tr>\n      <th>3</th>\n      <td>OE-KO</td>\n      <td>PLANET</td>\n      <td>Koria</td>\n      <td>-48</td>\n      <td>-7</td>\n      <td>21.027027</td>\n      <td>70</td>\n      <td>21</td>\n    </tr>\n    <tr>\n      <th>4</th>\n      <td>OE-BO</td>\n      <td>GAS_GIANT</td>\n      <td>Bo</td>\n      <td>-64</td>\n      <td>-89</td>\n      <td>29.783784</td>\n      <td>106</td>\n      <td>30</td>\n    </tr>\n    <tr>\n      <th>5</th>\n      <td>OE-NY</td>\n      <td>ASTEROID</td>\n      <td>Nyon</td>\n      <td>74</td>\n      <td>50</td>\n      <td>26.378378</td>\n      <td>92</td>\n      <td>26</td>\n    </tr>\n    <tr>\n      <th>6</th>\n      <td>OE-UC</td>\n      <td>PLANET</td>\n      <td>Ucarro</td>\n      <td>-75</td>\n      <td>82</td>\n      <td>38.783784</td>\n      <td>143</td>\n      <td>39</td>\n    </tr>\n    <tr>\n      <th>7</th>\n      <td>OE-UC-AD</td>\n      <td>MOON</td>\n      <td>Ado</td>\n      <td>-82</td>\n      <td>82</td>\n      <td>40.000000</td>\n      <td>148</td>\n      <td>40</td>\n    </tr>\n    <tr>\n      <th>8</th>\n      <td>OE-UC-OB</td>\n      <td>MOON</td>\n      <td>Obo</td>\n      <td>-77</td>\n      <td>78</td>\n      <td>38.297297</td>\n      <td>141</td>\n      <td>38</td>\n    </tr>\n    <tr>\n      <th>9</th>\n      <td>OE-XV-91-2</td>\n      <td>WORMHOLE</td>\n      <td>Wormhole</td>\n      <td>0</td>\n      <td>145</td>\n      <td>45.594595</td>\n      <td>171</td>\n      <td>46</td>\n    </tr>\n  </tbody>\n</table>\n</div>"
     },
     "metadata": {},
     "execution_count": 248
    }
   ],
   "source": [
    "distance_to_loc = lambda ship_x, ship_y, loc_x, loc_y: round(math.sqrt(math.pow((loc_x - ship_x),2) + math.pow((loc_y - ship_y),2)))\n",
    "fuel_usage = lambda d: (9/37) * d + 2 + 2\n",
    "\n",
    "ship = user.get_ship(\"cknegaohp5912821bs6d0ws1xr1\") # CR\n",
    "# ship = user.get_ship(\"cknfl07xi17766815s6ltaxr3cj\") # at Ado\n",
    "# ship = user.get_ship(\"ckngsa5cc11037501bs65f3l6kuw\") # at Tritus\n",
    "loc = game.location(\"OE-PM\")\n",
    "\n",
    "\n",
    "\n",
    "fuel_usage(distance_to_loc(ship.x, ship.y, loc.x, loc.y))\n",
    "\n",
    "# oe_l = oe_l.drop(['ships', 'messages'], axis=1)\n",
    "\n",
    "oe_l['distance'] = oe_l.apply(lambda x: distance_to_loc(ship.x, ship.y, x['x'], x['y']), axis=1)\n",
    "oe_l['estimated_fuel_usage'] = oe_l.apply(lambda x: fuel_usage(distance_to_loc(ship.x, ship.y, x['x'], x['y'])), axis=1)\n",
    "oe_l['estimated_fuel_usage_rounded'] = oe_l.apply(lambda x: round(fuel_usage(distance_to_loc(ship.x, ship.y, x['x'], x['y']))), axis=1)\n",
    "oe_l"
   ]
  },
  {
   "cell_type": "code",
   "execution_count": 6,
   "metadata": {},
   "outputs": [],
   "source": [
    "ship = user.get_ship(\"cknegaohp5912821bs6d0ws1xr1\")\n",
    "def find_optimum_trade_routes(ship):\n",
    "    # Get tracked markets and remove the current market\n",
    "    all_tracker_locs = get_locations_being_tracked()\n",
    "    # remove current market of ship\n",
    "    all_tracker_locs.remove({\"location\": ship.location, \"x\": ship.x, \"y\": ship.y})\n",
    "    # Work out the best trade\n",
    "    potential_trades = [st.Market().best_buy(st.Game().location(ship.location), st.Game().location(loc['location'])) for loc in all_tracker_locs]\n",
    "    # Pair up loc with best trade\n",
    "    return list(zip(all_tracker_locs, potential_trades))"
   ]
  },
  {
   "cell_type": "code",
   "execution_count": 7,
   "metadata": {},
   "outputs": [],
   "source": [
    "def get_locations_being_tracked(ships=None):\n",
    "    if ships is None:\n",
    "        ships = user.get_ships()\n",
    "    tracker_ships = trackers.get_trackers(ships)\n",
    "    return [{\"location\": ship.location, \"x\": ship.x, \"y\": ship.y} for ship in tracker_ships]"
   ]
  },
  {
   "cell_type": "code",
   "execution_count": 12,
   "metadata": {},
   "outputs": [
    {
     "output_type": "stream",
     "name": "stdout",
     "text": [
      "({'location': 'OE-NY', 'x': 74, 'y': 50, 'distance': 154, 'estimated_fuel': 41}, {'symbol': 'SHIP_PLATING', 'cost': 93, 'profit': 63, 'volume': 2})\n",
      "Buying 29 units of SHIP_PLATING for 2697 with an expected profit of 913.5\n",
      "2021-04-14 18:43:04,372 - INFO - Buying 29 units of SHIP_PLATING for 2697 at OE-UC-OB. Remaining credits: 164272. Loading Goods onto ship: cknegaohp5912821bs6d0ws1xr1\n",
      "2021-04-14 18:43:04,376 - INFO - Updating Cargo & Space Available of ship: cknegaohp5912821bs6d0ws1xr1. Previous Cargo: [{'good': 'FUEL', 'quantity': 1, 'totalVolume': 1}]. New Cargo: [{'good': 'SHIP_PLATING', 'quantity': 29, 'totalVolume': 58}, {'good': 'FUEL', 'quantity': 1, 'totalVolume': 1}]. Previous Space Available: 99. New Space Available: 41\n",
      "{'credits': 164272, 'order': {'good': 'SHIP_PLATING', 'quantity': 29, 'pricePerUnit': 93, 'total': 2697}, 'ship': {'id': 'cknegaohp5912821bs6d0ws1xr1', 'location': 'OE-UC-OB', 'x': -77, 'y': 78, 'cargo': [{'good': 'SHIP_PLATING', 'quantity': 29, 'totalVolume': 58}, {'good': 'FUEL', 'quantity': 1, 'totalVolume': 1}], 'spaceAvailable': 41, 'type': 'GR-MK-I', 'class': 'MK-I', 'maxCargo': 100, 'speed': 1, 'manufacturer': 'Gravager', 'plating': 10, 'weapons': 5}}\n"
     ]
    },
    {
     "output_type": "error",
     "ename": "IndexError",
     "evalue": "list index out of range",
     "traceback": [
      "\u001b[0;31m---------------------------------------------------------------------------\u001b[0m",
      "\u001b[0;31mIndexError\u001b[0m                                Traceback (most recent call last)",
      "\u001b[0;32m<ipython-input-12-0bb1c548d214>\u001b[0m in \u001b[0;36m<module>\u001b[0;34m\u001b[0m\n\u001b[1;32m     78\u001b[0m         \u001b[0;32mreturn\u001b[0m \u001b[0;36m0\u001b[0m\u001b[0;34m\u001b[0m\u001b[0;34m\u001b[0m\u001b[0m\n\u001b[1;32m     79\u001b[0m \u001b[0mship\u001b[0m \u001b[0;34m=\u001b[0m \u001b[0muser\u001b[0m\u001b[0;34m.\u001b[0m\u001b[0mget_ship\u001b[0m\u001b[0;34m(\u001b[0m\u001b[0;34m\"cknegaohp5912821bs6d0ws1xr1\"\u001b[0m\u001b[0;34m)\u001b[0m\u001b[0;34m\u001b[0m\u001b[0;34m\u001b[0m\u001b[0m\n\u001b[0;32m---> 80\u001b[0;31m \u001b[0many_dest_trading_run2\u001b[0m\u001b[0;34m(\u001b[0m\u001b[0mship\u001b[0m\u001b[0;34m)\u001b[0m\u001b[0;34m\u001b[0m\u001b[0;34m\u001b[0m\u001b[0m\n\u001b[0m\u001b[1;32m     81\u001b[0m \u001b[0;34m\u001b[0m\u001b[0m\n\u001b[1;32m     82\u001b[0m \u001b[0;31m# sell_order = user.sell_order(ship.id, \"SHIP_PARTS\", 18)\u001b[0m\u001b[0;34m\u001b[0m\u001b[0;34m\u001b[0m\u001b[0;34m\u001b[0m\u001b[0m\n",
      "\u001b[0;32m<ipython-input-12-0bb1c548d214>\u001b[0m in \u001b[0;36many_dest_trading_run2\u001b[0;34m(ship)\u001b[0m\n\u001b[1;32m     53\u001b[0m \u001b[0;34m\u001b[0m\u001b[0m\n\u001b[1;32m     54\u001b[0m     \u001b[0;31m# Buy Fuel\u001b[0m\u001b[0;34m\u001b[0m\u001b[0;34m\u001b[0m\u001b[0;34m\u001b[0m\u001b[0m\n\u001b[0;32m---> 55\u001b[0;31m     \u001b[0mfuel_to_purchase\u001b[0m \u001b[0;34m=\u001b[0m \u001b[0mfuel_usage\u001b[0m\u001b[0;34m(\u001b[0m\u001b[0mflight_path\u001b[0m\u001b[0;34m[\u001b[0m\u001b[0;36m0\u001b[0m\u001b[0;34m]\u001b[0m\u001b[0;34m[\u001b[0m\u001b[0;34m'distance'\u001b[0m\u001b[0;34m]\u001b[0m\u001b[0;34m)\u001b[0m \u001b[0;34m-\u001b[0m \u001b[0mship\u001b[0m\u001b[0;34m.\u001b[0m\u001b[0mget_fuel_level\u001b[0m\u001b[0;34m(\u001b[0m\u001b[0;34m)\u001b[0m\u001b[0;34m\u001b[0m\u001b[0;34m\u001b[0m\u001b[0m\n\u001b[0m\u001b[1;32m     56\u001b[0m     \u001b[0;32mif\u001b[0m \u001b[0mfuel_to_purchase\u001b[0m \u001b[0;34m>\u001b[0m \u001b[0;36m0\u001b[0m\u001b[0;34m:\u001b[0m\u001b[0;34m\u001b[0m\u001b[0;34m\u001b[0m\u001b[0m\n\u001b[1;32m     57\u001b[0m         \u001b[0mprint\u001b[0m\u001b[0;34m(\u001b[0m\u001b[0;34m\"Filling up Fuel\"\u001b[0m\u001b[0;34m)\u001b[0m\u001b[0;34m\u001b[0m\u001b[0;34m\u001b[0m\u001b[0m\n",
      "\u001b[0;32m~/Documents/Personal/Projects/SpaceTraders/spaceTraders/SpaceTraders.py\u001b[0m in \u001b[0;36mget_fuel_level\u001b[0;34m(self)\u001b[0m\n\u001b[1;32m     54\u001b[0m     \u001b[0mcargo_fuel\u001b[0m\u001b[0;34m=\u001b[0m\u001b[0mfilter\u001b[0m\u001b[0;34m(\u001b[0m\u001b[0mfuel\u001b[0m\u001b[0;34m,\u001b[0m\u001b[0mself\u001b[0m\u001b[0;34m.\u001b[0m\u001b[0mcargo\u001b[0m\u001b[0;34m)\u001b[0m\u001b[0;34m\u001b[0m\u001b[0;34m\u001b[0m\u001b[0m\n\u001b[1;32m     55\u001b[0m     \u001b[0;32mif\u001b[0m \u001b[0mlen\u001b[0m\u001b[0;34m(\u001b[0m\u001b[0mlist\u001b[0m\u001b[0;34m(\u001b[0m\u001b[0mcargo_fuel\u001b[0m\u001b[0;34m)\u001b[0m\u001b[0;34m)\u001b[0m \u001b[0;34m>\u001b[0m \u001b[0;36m0\u001b[0m\u001b[0;34m:\u001b[0m\u001b[0;34m\u001b[0m\u001b[0;34m\u001b[0m\u001b[0m\n\u001b[0;32m---> 56\u001b[0;31m       \u001b[0;32mreturn\u001b[0m \u001b[0mlist\u001b[0m\u001b[0;34m(\u001b[0m\u001b[0mcargo_fuel\u001b[0m\u001b[0;34m)\u001b[0m\u001b[0;34m[\u001b[0m\u001b[0;36m0\u001b[0m\u001b[0;34m]\u001b[0m\u001b[0;34m[\u001b[0m\u001b[0;34m'quantity'\u001b[0m\u001b[0;34m]\u001b[0m\u001b[0;34m\u001b[0m\u001b[0;34m\u001b[0m\u001b[0m\n\u001b[0m\u001b[1;32m     57\u001b[0m     \u001b[0;32melse\u001b[0m\u001b[0;34m:\u001b[0m\u001b[0;34m\u001b[0m\u001b[0;34m\u001b[0m\u001b[0m\n\u001b[1;32m     58\u001b[0m       \u001b[0;32mreturn\u001b[0m \u001b[0;36m0\u001b[0m\u001b[0;34m\u001b[0m\u001b[0;34m\u001b[0m\u001b[0m\n",
      "\u001b[0;31mIndexError\u001b[0m: list index out of range"
     ]
    }
   ],
   "source": [
    "distance_to_loc = lambda ship_x, ship_y, loc_x, loc_y: round(math.sqrt(math.pow((loc_x - ship_x),2) + math.pow((loc_y - ship_y),2)))\n",
    "fuel_usage = lambda d: round((9/37) * d + 2 + 2) # added extra 2 to account for planet\n",
    "\n",
    "max_per_vol = lambda x: x[1]['profit'] / x[1]['volume']\n",
    "units_to_purchase = lambda ship, x: math.trunc((ship.maxCargo - x[0]['estimated_fuel']) / x[1]['volume'])\n",
    "estimate_profit = lambda ship, x: max_per_vol(x) * units_to_purchase(ship, x)\n",
    "\n",
    "\n",
    "\n",
    "def any_dest_trading_run2(ship):\n",
    "    did_buy_goods = False\n",
    "\n",
    "    # Get Most Profitable Trade\n",
    "    trade_routes = find_optimum_trade_routes(ship)\n",
    "\n",
    "    # Drop the non profitable trades\n",
    "    drop_no_profit = lambda x: x[1]['profit'] > 0\n",
    "    trade_routes_profit = list(filter(drop_no_profit, trade_routes))\n",
    "\n",
    "    # If at least more than 1 profitable trade\n",
    "    if len(trade_routes_profit) > 0:\n",
    "        # Calculate the Distance to each Location\n",
    "        for tr in trade_routes_profit:\n",
    "            tr[0]['distance'] = distance_to_loc(ship.x, ship.y, tr[0]['x'], tr[0]['y'])\n",
    "        # Calculate estimated fuel required to each location\n",
    "        for tr in trade_routes_profit:\n",
    "            tr[0]['estimated_fuel'] = fuel_usage(tr[0]['distance'])\n",
    "        # Calculate the most profitable trade per Volume with Fuel required accounted for\n",
    "        # Best trade = max estimated profit\n",
    "        flight_path = max(trade_routes_profit, key=lambda tr: estimate_profit(ship, tr)) \n",
    "        print(flight_path)\n",
    "        units_to_buy = units_to_purchase(ship, flight_path)\n",
    "        # Buy Good\n",
    "        print(\"Buying {} units of {} for {} with an expected profit of {}\".\\\n",
    "            format(units_to_buy, \n",
    "                   flight_path[1]['symbol'], \n",
    "                   units_to_buy * flight_path[1]['cost'], \n",
    "                   estimate_profit(ship, flight_path)))\n",
    "        buy_order = user.new_order(ship.id, flight_path[1]['symbol'], units_to_buy)\n",
    "        print(buy_order)\n",
    "        # Update Ship\n",
    "        ship.update_cargo(buy_order['ship']['cargo'], buy_order['ship']['spaceAvailable'])\n",
    "        did_buy_goods = True\n",
    "\n",
    "    # No profitable trades\n",
    "    else:\n",
    "        # Calculate Distance to Other locations\n",
    "        for tr in trade_routes:\n",
    "            tr[0]['distance'] = distance_to_loc(ship.x, ship.y, tr[0]['x'], tr[0]['y'])\n",
    "\n",
    "        # Get Shortest\n",
    "        flight_path = min(trade_routes, key=lambda tr: tr[0]['distance']) \n",
    "    \n",
    "    # Buy Fuel\n",
    "    fuel_to_purchase = fuel_usage(flight_path[0]['distance']) - ship.get_fuel_level()\n",
    "    if fuel_to_purchase > 0:\n",
    "        print(\"Filling up Fuel\")\n",
    "        # Place order\n",
    "        fuel_order = user.new_order(ship.id, \"FUEL\", fuel_to_purchase)\n",
    "        # Update ship\n",
    "        ship.update_cargo(fuel_order['ship']['cargo'], fuel_order['ship']['spaceAvailable'])\n",
    "    else:\n",
    "        print(\"No fuel required\")\n",
    "\n",
    "    # Fly to location\n",
    "    flight = user.fly(ship.id, flight_path[0]['location'], track=True)\n",
    "    # Update Ship\n",
    "    ship = user.get_ship(ship.id)\n",
    "    # If Goods were bought\n",
    "    if (did_buy_goods):\n",
    "        # Sell Goods\n",
    "        sell_order = user.sell_order(ship.id, flight_path[1]['symbol'], units_to_buy)\n",
    "        # Update Ship\n",
    "        ship.update_cargo(sell_order['ship']['cargo'], sell_order['ship']['spaceAvailable'])\n",
    "    # Return profit\n",
    "        return sell_order['order']['total'] - buy_order['order']['total']\n",
    "    else:\n",
    "        return 0\n",
    "ship = user.get_ship(\"cknegaohp5912821bs6d0ws1xr1\")\n",
    "any_dest_trading_run2(ship)\n",
    "\n",
    "# sell_order = user.sell_order(ship.id, \"SHIP_PARTS\", 18)\n",
    "# ship.update_cargo(sell_order['ship']['cargo'], sell_order['ship']['spaceAvailable'])\n",
    "# ship\n"
   ]
  },
  {
   "cell_type": "code",
   "execution_count": null,
   "metadata": {},
   "outputs": [],
   "source": []
  }
 ],
 "metadata": {
  "kernelspec": {
   "name": "python385jvsc74a57bd0082e9a3bcad0a290d0001e938aa60b99250c6c2ef33a923c00b70f9826caf4b7",
   "display_name": "Python 3.8.5 64-bit"
  },
  "language_info": {
   "codemirror_mode": {
    "name": "ipython",
    "version": 3
   },
   "file_extension": ".py",
   "mimetype": "text/x-python",
   "name": "python",
   "nbconvert_exporter": "python",
   "pygments_lexer": "ipython3",
   "version": "3.8.5-final"
  }
 },
 "nbformat": 4,
 "nbformat_minor": 4
}