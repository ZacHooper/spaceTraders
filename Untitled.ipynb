{
 "cells": [
  {
   "cell_type": "code",
   "execution_count": 1,
   "metadata": {},
   "outputs": [],
   "source": [
    "import requests\n",
    "import pandas as pd\n",
    "import spaceTraders as st\n",
    "import math\n",
    "import matplotlib.pyplot as plt"
   ]
  },
  {
   "cell_type": "code",
   "execution_count": 2,
   "metadata": {},
   "outputs": [
    {
     "data": {
      "text/plain": [
       "{'status': 'spacetraders is currently online and available to play'}"
      ]
     },
     "execution_count": 2,
     "metadata": {},
     "output_type": "execute_result"
    }
   ],
   "source": [
    "st.Game().status()"
   ]
  },
  {
   "cell_type": "markdown",
   "metadata": {},
   "source": [
    "# Basic Details"
   ]
  },
  {
   "cell_type": "code",
   "execution_count": 91,
   "metadata": {},
   "outputs": [],
   "source": [
    "TOKEN = \"b33e5ca9-b933-43c3-9249-9fe7ea525fc9\"\n",
    "URL = \"https://api.spacetraders.io/\"\n",
    "username = \"JimHawkins\"\n",
    "\n",
    "# Initialise some useful objects\n",
    "game = st.Game()\n",
    "user = st.get_user(username)"
   ]
  },
  {
   "cell_type": "markdown",
   "metadata": {},
   "source": [
    "# Useful Functions"
   ]
  },
  {
   "cell_type": "code",
   "execution_count": 4,
   "metadata": {},
   "outputs": [],
   "source": [
    "def generic_get_call(endpoint, params=None):\n",
    "    headers = {'Authorization': 'Bearer ' + TOKEN}\n",
    "    r = requests.get(URL + endpoint, headers=headers, params=params)\n",
    "    if r.ok:\n",
    "        return r.json()\n",
    "    else:\n",
    "        print(\"Something went wrong\")\n",
    "        print(r.json())\n",
    "\n",
    "# Generic call to API\n",
    "def generic_post_call(endpoint, params=None):\n",
    "    headers = {'Authorization': 'Bearer ' + TOKEN}\n",
    "    r = requests.post(URL + endpoint, headers=headers, params=params)\n",
    "    if r.ok:\n",
    "        return r.json()\n",
    "    else:\n",
    "        print(\"Something went wrong\")\n",
    "        print(r.json())"
   ]
  },
  {
   "cell_type": "markdown",
   "metadata": {},
   "source": [
    "# Playground"
   ]
  },
  {
   "cell_type": "markdown",
   "metadata": {},
   "source": [
    "### Buying a Ship"
   ]
  },
  {
   "cell_type": "code",
   "execution_count": 93,
   "metadata": {},
   "outputs": [
    {
     "name": "stdout",
     "output_type": "stream",
     "text": [
      "      type class  maxCargo  speed manufacturer  plating  weapons  \\\n",
      "3  JW-MK-I  MK-I        50      1     Jackshaw        5        5   \n",
      "\n",
      "                                   purchaseLocations  \n",
      "3  [{'system': 'OE', 'location': 'OE-PM-TR', 'pri...   [list([{'system': 'OE', 'location': 'OE-PM-TR', 'price': 21125}])]\n"
     ]
    }
   ],
   "source": [
    "# Buy a Jackshaw\n",
    "ships_to_buy = pd.DataFrame(game.get_available_ships(\"MK-I\"))\n",
    "jacksaw_mask = ships_to_buy['manufacturer'] == \"Jackshaw\"\n",
    "print(ships_to_buy.loc[jacksaw_mask], ships_to_buy.loc[jacksaw_mask].purchaseLocations.values)\n",
    "# user.buy_ship('OE-PM-TR', 'JW-MK-I')"
   ]
  },
  {
   "cell_type": "markdown",
   "metadata": {},
   "source": [
    "### Move Ship to Carth"
   ]
  },
  {
   "cell_type": "code",
   "execution_count": 94,
   "metadata": {},
   "outputs": [
    {
     "data": {
      "text/plain": [
       "[]"
      ]
     },
     "execution_count": 94,
     "metadata": {},
     "output_type": "execute_result"
    }
   ],
   "source": [
    "ship_to_carth = user.get_ship('cknflrnom23763515s61061rc8l')\n",
    "ship_to_carth.cargo"
   ]
  },
  {
   "cell_type": "code",
   "execution_count": 95,
   "metadata": {},
   "outputs": [
    {
     "name": "stderr",
     "output_type": "stream",
     "text": [
      "2021-04-13 15:48:22,588 - INFO - Buying 50 units of FUEL for 150 at OE-PM-TR. Remaining credits: 92505. Loading Goods onto ship: cknflrnom23763515s61061rc8l\n"
     ]
    },
    {
     "data": {
      "text/plain": [
       "{'credits': 92505,\n",
       " 'order': {'good': 'FUEL', 'quantity': 50, 'pricePerUnit': 3, 'total': 150},\n",
       " 'ship': {'id': 'cknflrnom23763515s61061rc8l',\n",
       "  'location': 'OE-PM-TR',\n",
       "  'x': 23,\n",
       "  'y': -28,\n",
       "  'cargo': [{'good': 'FUEL', 'quantity': 50, 'totalVolume': 50}],\n",
       "  'spaceAvailable': 0,\n",
       "  'type': 'JW-MK-I',\n",
       "  'class': 'MK-I',\n",
       "  'maxCargo': 50,\n",
       "  'speed': 1,\n",
       "  'manufacturer': 'Jackshaw',\n",
       "  'plating': 5,\n",
       "  'weapons': 5}}"
      ]
     },
     "execution_count": 95,
     "metadata": {},
     "output_type": "execute_result"
    }
   ],
   "source": [
    "# Buy Fuel\n",
    "user.new_order(ship_to_carth.id, \"FUEL\", 50)"
   ]
  },
  {
   "cell_type": "code",
   "execution_count": 96,
   "metadata": {},
   "outputs": [
    {
     "name": "stderr",
     "output_type": "stream",
     "text": [
      "2021-04-13 15:48:44,320 - INFO - Ship cknflrnom23763515s61061rc8l has left OE-PM-TR and is flying to OE-NY\n"
     ]
    },
    {
     "data": {
      "application/vnd.jupyter.widget-view+json": {
       "model_id": "b34617ed201c4155b99d6de21aa39a0e",
       "version_major": 2,
       "version_minor": 0
      },
      "text/plain": [
       "Output()"
      ]
     },
     "metadata": {},
     "output_type": "display_data"
    },
    {
     "name": "stderr",
     "output_type": "stream",
     "text": [
      "2021-04-13 15:52:50,258 - INFO - Ship cknflrnom23763515s61061rc8l has landed at OE-NY\n"
     ]
    },
    {
     "data": {
      "text/plain": [
       "{'id': 'cknfltnw924144415s61pbjneny',\n",
       " 'shipId': 'cknflrnom23763515s61061rc8l',\n",
       " 'createdAt': '2021-04-13T05:48:44.218Z',\n",
       " 'arrivesAt': '2021-04-13T05:52:50.200Z',\n",
       " 'destination': 'OE-NY',\n",
       " 'departure': 'OE-PM-TR',\n",
       " 'distance': 93,\n",
       " 'fuelConsumed': 24,\n",
       " 'fuelRemaining': 26,\n",
       " 'terminatedAt': None,\n",
       " 'timeRemainingInSeconds': 245}"
      ]
     },
     "execution_count": 96,
     "metadata": {},
     "output_type": "execute_result"
    }
   ],
   "source": [
    "# Fly\n",
    "user.fly(ship_to_carth.id, \"OE-NY\", track=True)"
   ]
  },
  {
   "cell_type": "markdown",
   "metadata": {},
   "source": [
    "### Look at the Different Systems\n",
    "#### API call"
   ]
  },
  {
   "cell_type": "code",
   "execution_count": 41,
   "metadata": {},
   "outputs": [],
   "source": [
    "systems = generic_get_call(\"game/systems\")['systems']\n",
    "OE = systems[0]\n",
    "XV = systems[1]"
   ]
  },
  {
   "cell_type": "markdown",
   "metadata": {},
   "source": [
    "#### DataFrame of Locations"
   ]
  },
  {
   "cell_type": "code",
   "execution_count": 42,
   "metadata": {},
   "outputs": [
    {
     "data": {
      "text/html": [
       "<div>\n",
       "<style scoped>\n",
       "    .dataframe tbody tr th:only-of-type {\n",
       "        vertical-align: middle;\n",
       "    }\n",
       "\n",
       "    .dataframe tbody tr th {\n",
       "        vertical-align: top;\n",
       "    }\n",
       "\n",
       "    .dataframe thead th {\n",
       "        text-align: right;\n",
       "    }\n",
       "</style>\n",
       "<table border=\"1\" class=\"dataframe\">\n",
       "  <thead>\n",
       "    <tr style=\"text-align: right;\">\n",
       "      <th></th>\n",
       "      <th>symbol</th>\n",
       "      <th>type</th>\n",
       "      <th>name</th>\n",
       "      <th>x</th>\n",
       "      <th>y</th>\n",
       "      <th>ships</th>\n",
       "      <th>messages</th>\n",
       "    </tr>\n",
       "  </thead>\n",
       "  <tbody>\n",
       "    <tr>\n",
       "      <th>0</th>\n",
       "      <td>OE-PM</td>\n",
       "      <td>PLANET</td>\n",
       "      <td>Prime</td>\n",
       "      <td>20</td>\n",
       "      <td>-25</td>\n",
       "      <td>[]</td>\n",
       "      <td>NaN</td>\n",
       "    </tr>\n",
       "    <tr>\n",
       "      <th>1</th>\n",
       "      <td>OE-PM-TR</td>\n",
       "      <td>MOON</td>\n",
       "      <td>Tritus</td>\n",
       "      <td>23</td>\n",
       "      <td>-28</td>\n",
       "      <td>[]</td>\n",
       "      <td>NaN</td>\n",
       "    </tr>\n",
       "    <tr>\n",
       "      <th>2</th>\n",
       "      <td>OE-CR</td>\n",
       "      <td>PLANET</td>\n",
       "      <td>Carth</td>\n",
       "      <td>16</td>\n",
       "      <td>17</td>\n",
       "      <td>[]</td>\n",
       "      <td>NaN</td>\n",
       "    </tr>\n",
       "    <tr>\n",
       "      <th>3</th>\n",
       "      <td>OE-KO</td>\n",
       "      <td>PLANET</td>\n",
       "      <td>Koria</td>\n",
       "      <td>-48</td>\n",
       "      <td>-7</td>\n",
       "      <td>[]</td>\n",
       "      <td>NaN</td>\n",
       "    </tr>\n",
       "    <tr>\n",
       "      <th>4</th>\n",
       "      <td>OE-BO</td>\n",
       "      <td>GAS_GIANT</td>\n",
       "      <td>Bo</td>\n",
       "      <td>-64</td>\n",
       "      <td>-89</td>\n",
       "      <td>[]</td>\n",
       "      <td>NaN</td>\n",
       "    </tr>\n",
       "    <tr>\n",
       "      <th>5</th>\n",
       "      <td>OE-NY</td>\n",
       "      <td>ASTEROID</td>\n",
       "      <td>Nyon</td>\n",
       "      <td>74</td>\n",
       "      <td>50</td>\n",
       "      <td>[]</td>\n",
       "      <td>NaN</td>\n",
       "    </tr>\n",
       "    <tr>\n",
       "      <th>6</th>\n",
       "      <td>OE-UC</td>\n",
       "      <td>PLANET</td>\n",
       "      <td>Ucarro</td>\n",
       "      <td>-75</td>\n",
       "      <td>82</td>\n",
       "      <td>[]</td>\n",
       "      <td>NaN</td>\n",
       "    </tr>\n",
       "    <tr>\n",
       "      <th>7</th>\n",
       "      <td>OE-UC-AD</td>\n",
       "      <td>MOON</td>\n",
       "      <td>Ado</td>\n",
       "      <td>-82</td>\n",
       "      <td>82</td>\n",
       "      <td>[]</td>\n",
       "      <td>NaN</td>\n",
       "    </tr>\n",
       "    <tr>\n",
       "      <th>8</th>\n",
       "      <td>OE-UC-OB</td>\n",
       "      <td>MOON</td>\n",
       "      <td>Obo</td>\n",
       "      <td>-77</td>\n",
       "      <td>78</td>\n",
       "      <td>[]</td>\n",
       "      <td>NaN</td>\n",
       "    </tr>\n",
       "    <tr>\n",
       "      <th>9</th>\n",
       "      <td>OE-XV-91-2</td>\n",
       "      <td>WORMHOLE</td>\n",
       "      <td>Wormhole</td>\n",
       "      <td>0</td>\n",
       "      <td>145</td>\n",
       "      <td>[]</td>\n",
       "      <td>[Extensive research has revealed a partially f...</td>\n",
       "    </tr>\n",
       "  </tbody>\n",
       "</table>\n",
       "</div>"
      ],
      "text/plain": [
       "       symbol       type      name   x    y ships  \\\n",
       "0       OE-PM     PLANET     Prime  20  -25    []   \n",
       "1    OE-PM-TR       MOON    Tritus  23  -28    []   \n",
       "2       OE-CR     PLANET     Carth  16   17    []   \n",
       "3       OE-KO     PLANET     Koria -48   -7    []   \n",
       "4       OE-BO  GAS_GIANT        Bo -64  -89    []   \n",
       "5       OE-NY   ASTEROID      Nyon  74   50    []   \n",
       "6       OE-UC     PLANET    Ucarro -75   82    []   \n",
       "7    OE-UC-AD       MOON       Ado -82   82    []   \n",
       "8    OE-UC-OB       MOON       Obo -77   78    []   \n",
       "9  OE-XV-91-2   WORMHOLE  Wormhole   0  145    []   \n",
       "\n",
       "                                            messages  \n",
       "0                                                NaN  \n",
       "1                                                NaN  \n",
       "2                                                NaN  \n",
       "3                                                NaN  \n",
       "4                                                NaN  \n",
       "5                                                NaN  \n",
       "6                                                NaN  \n",
       "7                                                NaN  \n",
       "8                                                NaN  \n",
       "9  [Extensive research has revealed a partially f...  "
      ]
     },
     "execution_count": 42,
     "metadata": {},
     "output_type": "execute_result"
    }
   ],
   "source": [
    "oe_l = pd.DataFrame(OE['locations'])\n",
    "xv_l = pd.DataFrame(XV['locations'])\n",
    "oe_l"
   ]
  },
  {
   "cell_type": "markdown",
   "metadata": {},
   "source": [
    "#### Scatter Plot of the Locations"
   ]
  },
  {
   "cell_type": "code",
   "execution_count": 44,
   "metadata": {},
   "outputs": [
    {
     "data": {
      "image/png": "[encoded data removed]",
      "text/plain": [
       "<Figure size 864x864 with 1 Axes>"
      ]
     },
     "metadata": {
      "needs_background": "light"
     },
     "output_type": "display_data"
    }
   ],
   "source": [
    "ax = oe_l.plot.scatter('x', 'y', figsize=(12,12))\n",
    "oe_l[['x','y','name']].apply(lambda x: ax.text(*x),axis=1)\n",
    "\n",
    "plt.grid()\n",
    "plt.show()"
   ]
  },
  {
   "cell_type": "markdown",
   "metadata": {},
   "source": [
    "### Markets"
   ]
  },
  {
   "cell_type": "code",
   "execution_count": 97,
   "metadata": {},
   "outputs": [],
   "source": [
    "prime = game.location(\"OE-PM\")\n",
    "tritus = game.location(\"OE-PM-TR\")\n",
    "carth = game.location(\"OE-CR\")\n",
    "nyon = game.location(\"OE-NY\")"
   ]
  },
  {
   "cell_type": "code",
   "execution_count": 98,
   "metadata": {},
   "outputs": [],
   "source": [
    "prime_df = pd.DataFrame(prime.marketplace())\n",
    "tritus_df = pd.DataFrame(tritus.marketplace())\n",
    "carth_df = pd.DataFrame(carth.marketplace())\n",
    "nyon_df = pd.DataFrame(nyon.marketplace())"
   ]
  },
  {
   "cell_type": "code",
   "execution_count": 108,
   "metadata": {},
   "outputs": [
    {
     "data": {
      "text/html": [
       "<div>\n",
       "<style scoped>\n",
       "    .dataframe tbody tr th:only-of-type {\n",
       "        vertical-align: middle;\n",
       "    }\n",
       "\n",
       "    .dataframe tbody tr th {\n",
       "        vertical-align: top;\n",
       "    }\n",
       "\n",
       "    .dataframe thead th {\n",
       "        text-align: right;\n",
       "    }\n",
       "</style>\n",
       "<table border=\"1\" class=\"dataframe\">\n",
       "  <thead>\n",
       "    <tr style=\"text-align: right;\">\n",
       "      <th></th>\n",
       "      <th>symbol</th>\n",
       "      <th>volumePerUnit_from</th>\n",
       "      <th>purchasePricePerUnit_from</th>\n",
       "      <th>sellPricePerUnit_to</th>\n",
       "      <th>profit</th>\n",
       "    </tr>\n",
       "  </thead>\n",
       "  <tbody>\n",
       "    <tr>\n",
       "      <th>0</th>\n",
       "      <td>DRONES</td>\n",
       "      <td>2</td>\n",
       "      <td>15</td>\n",
       "      <td>45</td>\n",
       "      <td>30</td>\n",
       "    </tr>\n",
       "    <tr>\n",
       "      <th>1</th>\n",
       "      <td>METALS</td>\n",
       "      <td>1</td>\n",
       "      <td>8</td>\n",
       "      <td>1</td>\n",
       "      <td>-7</td>\n",
       "    </tr>\n",
       "    <tr>\n",
       "      <th>3</th>\n",
       "      <td>FUEL</td>\n",
       "      <td>1</td>\n",
       "      <td>3</td>\n",
       "      <td>1</td>\n",
       "      <td>-2</td>\n",
       "    </tr>\n",
       "    <tr>\n",
       "      <th>4</th>\n",
       "      <td>MACHINERY</td>\n",
       "      <td>2</td>\n",
       "      <td>195</td>\n",
       "      <td>241</td>\n",
       "      <td>46</td>\n",
       "    </tr>\n",
       "    <tr>\n",
       "      <th>8</th>\n",
       "      <td>SHIP_PLATING</td>\n",
       "      <td>2</td>\n",
       "      <td>94</td>\n",
       "      <td>160</td>\n",
       "      <td>66</td>\n",
       "    </tr>\n",
       "    <tr>\n",
       "      <th>9</th>\n",
       "      <td>SHIP_PARTS</td>\n",
       "      <td>4</td>\n",
       "      <td>1179</td>\n",
       "      <td>1386</td>\n",
       "      <td>207</td>\n",
       "    </tr>\n",
       "  </tbody>\n",
       "</table>\n",
       "</div>"
      ],
      "text/plain": [
       "         symbol  volumePerUnit_from  purchasePricePerUnit_from  \\\n",
       "0        DRONES                   2                         15   \n",
       "1        METALS                   1                          8   \n",
       "3          FUEL                   1                          3   \n",
       "4     MACHINERY                   2                        195   \n",
       "8  SHIP_PLATING                   2                         94   \n",
       "9    SHIP_PARTS                   4                       1179   \n",
       "\n",
       "   sellPricePerUnit_to  profit  \n",
       "0                   45      30  \n",
       "1                    1      -7  \n",
       "3                    1      -2  \n",
       "4                  241      46  \n",
       "8                  160      66  \n",
       "9                 1386     207  "
      ]
     },
     "execution_count": 108,
     "metadata": {},
     "output_type": "execute_result"
    }
   ],
   "source": [
    "markets = st.Market().market_compare(prime_df, nyon_df)\n",
    "markets.drop(['pricePerUnit_from', 'spread_from', 'sellPricePerUnit_from', \n",
    "              'quantityAvailable_from', 'volumePerUnit_to', 'pricePerUnit_to', \n",
    "              'spread_to', 'purchasePricePerUnit_to','quantityAvailable_to'], axis=1)"
   ]
  },
  {
   "cell_type": "code",
   "execution_count": 102,
   "metadata": {},
   "outputs": [
    {
     "data": {
      "text/html": [
       "<div>\n",
       "<style scoped>\n",
       "    .dataframe tbody tr th:only-of-type {\n",
       "        vertical-align: middle;\n",
       "    }\n",
       "\n",
       "    .dataframe tbody tr th {\n",
       "        vertical-align: top;\n",
       "    }\n",
       "\n",
       "    .dataframe thead th {\n",
       "        text-align: right;\n",
       "    }\n",
       "</style>\n",
       "<table border=\"1\" class=\"dataframe\">\n",
       "  <thead>\n",
       "    <tr style=\"text-align: right;\">\n",
       "      <th></th>\n",
       "      <th>symbol</th>\n",
       "      <th>volumePerUnit</th>\n",
       "      <th>pricePerUnit</th>\n",
       "      <th>spread</th>\n",
       "      <th>purchasePricePerUnit</th>\n",
       "      <th>sellPricePerUnit</th>\n",
       "      <th>quantityAvailable</th>\n",
       "    </tr>\n",
       "  </thead>\n",
       "  <tbody>\n",
       "    <tr>\n",
       "      <th>0</th>\n",
       "      <td>TEXTILES</td>\n",
       "      <td>1</td>\n",
       "      <td>27</td>\n",
       "      <td>1</td>\n",
       "      <td>28</td>\n",
       "      <td>26</td>\n",
       "      <td>83077</td>\n",
       "    </tr>\n",
       "    <tr>\n",
       "      <th>1</th>\n",
       "      <td>MACHINERY</td>\n",
       "      <td>2</td>\n",
       "      <td>220</td>\n",
       "      <td>1</td>\n",
       "      <td>221</td>\n",
       "      <td>219</td>\n",
       "      <td>15937</td>\n",
       "    </tr>\n",
       "    <tr>\n",
       "      <th>2</th>\n",
       "      <td>CHEMICALS</td>\n",
       "      <td>1</td>\n",
       "      <td>2</td>\n",
       "      <td>1</td>\n",
       "      <td>3</td>\n",
       "      <td>1</td>\n",
       "      <td>615542</td>\n",
       "    </tr>\n",
       "    <tr>\n",
       "      <th>3</th>\n",
       "      <td>FUEL</td>\n",
       "      <td>1</td>\n",
       "      <td>2</td>\n",
       "      <td>1</td>\n",
       "      <td>3</td>\n",
       "      <td>1</td>\n",
       "      <td>597744</td>\n",
       "    </tr>\n",
       "    <tr>\n",
       "      <th>4</th>\n",
       "      <td>DRONES</td>\n",
       "      <td>2</td>\n",
       "      <td>14</td>\n",
       "      <td>1</td>\n",
       "      <td>15</td>\n",
       "      <td>13</td>\n",
       "      <td>105469</td>\n",
       "    </tr>\n",
       "    <tr>\n",
       "      <th>5</th>\n",
       "      <td>FOOD</td>\n",
       "      <td>1</td>\n",
       "      <td>15</td>\n",
       "      <td>1</td>\n",
       "      <td>16</td>\n",
       "      <td>14</td>\n",
       "      <td>110834</td>\n",
       "    </tr>\n",
       "  </tbody>\n",
       "</table>\n",
       "</div>"
      ],
      "text/plain": [
       "      symbol  volumePerUnit  pricePerUnit  spread  purchasePricePerUnit  \\\n",
       "0   TEXTILES              1            27       1                    28   \n",
       "1  MACHINERY              2           220       1                   221   \n",
       "2  CHEMICALS              1             2       1                     3   \n",
       "3       FUEL              1             2       1                     3   \n",
       "4     DRONES              2            14       1                    15   \n",
       "5       FOOD              1            15       1                    16   \n",
       "\n",
       "   sellPricePerUnit  quantityAvailable  \n",
       "0                26              83077  \n",
       "1               219              15937  \n",
       "2                 1             615542  \n",
       "3                 1             597744  \n",
       "4                13             105469  \n",
       "5                14             110834  "
      ]
     },
     "execution_count": 102,
     "metadata": {},
     "output_type": "execute_result"
    }
   ],
   "source": [
    "carth_df"
   ]
  },
  {
   "cell_type": "code",
   "execution_count": 67,
   "metadata": {},
   "outputs": [
    {
     "data": {
      "text/html": [
       "<div>\n",
       "<style scoped>\n",
       "    .dataframe tbody tr th:only-of-type {\n",
       "        vertical-align: middle;\n",
       "    }\n",
       "\n",
       "    .dataframe tbody tr th {\n",
       "        vertical-align: top;\n",
       "    }\n",
       "\n",
       "    .dataframe thead th {\n",
       "        text-align: right;\n",
       "    }\n",
       "</style>\n",
       "<table border=\"1\" class=\"dataframe\">\n",
       "  <thead>\n",
       "    <tr style=\"text-align: right;\">\n",
       "      <th></th>\n",
       "      <th>symbol</th>\n",
       "      <th>volumePerUnit</th>\n",
       "      <th>pricePerUnit</th>\n",
       "      <th>spread</th>\n",
       "      <th>purchasePricePerUnit</th>\n",
       "      <th>sellPricePerUnit</th>\n",
       "      <th>quantityAvailable</th>\n",
       "    </tr>\n",
       "  </thead>\n",
       "  <tbody>\n",
       "    <tr>\n",
       "      <th>0</th>\n",
       "      <td>SHIP_PARTS</td>\n",
       "      <td>4</td>\n",
       "      <td>1308</td>\n",
       "      <td>3</td>\n",
       "      <td>1311</td>\n",
       "      <td>1305</td>\n",
       "      <td>19892</td>\n",
       "    </tr>\n",
       "    <tr>\n",
       "      <th>1</th>\n",
       "      <td>CHEMICALS</td>\n",
       "      <td>1</td>\n",
       "      <td>2</td>\n",
       "      <td>1</td>\n",
       "      <td>3</td>\n",
       "      <td>1</td>\n",
       "      <td>526090</td>\n",
       "    </tr>\n",
       "    <tr>\n",
       "      <th>2</th>\n",
       "      <td>RESEARCH</td>\n",
       "      <td>2</td>\n",
       "      <td>2560</td>\n",
       "      <td>36</td>\n",
       "      <td>2596</td>\n",
       "      <td>2524</td>\n",
       "      <td>4475</td>\n",
       "    </tr>\n",
       "    <tr>\n",
       "      <th>3</th>\n",
       "      <td>DRONES</td>\n",
       "      <td>2</td>\n",
       "      <td>36</td>\n",
       "      <td>1</td>\n",
       "      <td>37</td>\n",
       "      <td>35</td>\n",
       "      <td>39035</td>\n",
       "    </tr>\n",
       "    <tr>\n",
       "      <th>4</th>\n",
       "      <td>MACHINERY</td>\n",
       "      <td>2</td>\n",
       "      <td>236</td>\n",
       "      <td>1</td>\n",
       "      <td>237</td>\n",
       "      <td>235</td>\n",
       "      <td>4014</td>\n",
       "    </tr>\n",
       "    <tr>\n",
       "      <th>5</th>\n",
       "      <td>METALS</td>\n",
       "      <td>1</td>\n",
       "      <td>2</td>\n",
       "      <td>1</td>\n",
       "      <td>3</td>\n",
       "      <td>1</td>\n",
       "      <td>530166</td>\n",
       "    </tr>\n",
       "    <tr>\n",
       "      <th>6</th>\n",
       "      <td>FUEL</td>\n",
       "      <td>1</td>\n",
       "      <td>2</td>\n",
       "      <td>1</td>\n",
       "      <td>3</td>\n",
       "      <td>1</td>\n",
       "      <td>569063</td>\n",
       "    </tr>\n",
       "    <tr>\n",
       "      <th>7</th>\n",
       "      <td>SHIP_PLATING</td>\n",
       "      <td>2</td>\n",
       "      <td>137</td>\n",
       "      <td>1</td>\n",
       "      <td>138</td>\n",
       "      <td>136</td>\n",
       "      <td>37085</td>\n",
       "    </tr>\n",
       "  </tbody>\n",
       "</table>\n",
       "</div>"
      ],
      "text/plain": [
       "         symbol  volumePerUnit  pricePerUnit  spread  purchasePricePerUnit  \\\n",
       "0    SHIP_PARTS              4          1308       3                  1311   \n",
       "1     CHEMICALS              1             2       1                     3   \n",
       "2      RESEARCH              2          2560      36                  2596   \n",
       "3        DRONES              2            36       1                    37   \n",
       "4     MACHINERY              2           236       1                   237   \n",
       "5        METALS              1             2       1                     3   \n",
       "6          FUEL              1             2       1                     3   \n",
       "7  SHIP_PLATING              2           137       1                   138   \n",
       "\n",
       "   sellPricePerUnit  quantityAvailable  \n",
       "0              1305              19892  \n",
       "1                 1             526090  \n",
       "2              2524               4475  \n",
       "3                35              39035  \n",
       "4               235               4014  \n",
       "5                 1             530166  \n",
       "6                 1             569063  \n",
       "7               136              37085  "
      ]
     },
     "execution_count": 67,
     "metadata": {},
     "output_type": "execute_result"
    }
   ],
   "source": [
    "tritus_df"
   ]
  },
  {
   "cell_type": "code",
   "execution_count": 68,
   "metadata": {},
   "outputs": [
    {
     "data": {
      "text/html": [
       "<div>\n",
       "<style scoped>\n",
       "    .dataframe tbody tr th:only-of-type {\n",
       "        vertical-align: middle;\n",
       "    }\n",
       "\n",
       "    .dataframe tbody tr th {\n",
       "        vertical-align: top;\n",
       "    }\n",
       "\n",
       "    .dataframe thead th {\n",
       "        text-align: right;\n",
       "    }\n",
       "</style>\n",
       "<table border=\"1\" class=\"dataframe\">\n",
       "  <thead>\n",
       "    <tr style=\"text-align: right;\">\n",
       "      <th></th>\n",
       "      <th>symbol</th>\n",
       "      <th>volumePerUnit</th>\n",
       "      <th>pricePerUnit</th>\n",
       "      <th>spread</th>\n",
       "      <th>purchasePricePerUnit</th>\n",
       "      <th>sellPricePerUnit</th>\n",
       "      <th>quantityAvailable</th>\n",
       "    </tr>\n",
       "  </thead>\n",
       "  <tbody>\n",
       "    <tr>\n",
       "      <th>0</th>\n",
       "      <td>CHEMICALS</td>\n",
       "      <td>1</td>\n",
       "      <td>2</td>\n",
       "      <td>1</td>\n",
       "      <td>3</td>\n",
       "      <td>1</td>\n",
       "      <td>615542</td>\n",
       "    </tr>\n",
       "    <tr>\n",
       "      <th>1</th>\n",
       "      <td>TEXTILES</td>\n",
       "      <td>1</td>\n",
       "      <td>28</td>\n",
       "      <td>1</td>\n",
       "      <td>29</td>\n",
       "      <td>27</td>\n",
       "      <td>79261</td>\n",
       "    </tr>\n",
       "    <tr>\n",
       "      <th>2</th>\n",
       "      <td>MACHINERY</td>\n",
       "      <td>2</td>\n",
       "      <td>218</td>\n",
       "      <td>1</td>\n",
       "      <td>219</td>\n",
       "      <td>217</td>\n",
       "      <td>17413</td>\n",
       "    </tr>\n",
       "    <tr>\n",
       "      <th>3</th>\n",
       "      <td>FUEL</td>\n",
       "      <td>1</td>\n",
       "      <td>2</td>\n",
       "      <td>1</td>\n",
       "      <td>3</td>\n",
       "      <td>1</td>\n",
       "      <td>597758</td>\n",
       "    </tr>\n",
       "    <tr>\n",
       "      <th>4</th>\n",
       "      <td>DRONES</td>\n",
       "      <td>2</td>\n",
       "      <td>14</td>\n",
       "      <td>1</td>\n",
       "      <td>15</td>\n",
       "      <td>13</td>\n",
       "      <td>105469</td>\n",
       "    </tr>\n",
       "    <tr>\n",
       "      <th>5</th>\n",
       "      <td>FOOD</td>\n",
       "      <td>1</td>\n",
       "      <td>15</td>\n",
       "      <td>1</td>\n",
       "      <td>16</td>\n",
       "      <td>14</td>\n",
       "      <td>108054</td>\n",
       "    </tr>\n",
       "  </tbody>\n",
       "</table>\n",
       "</div>"
      ],
      "text/plain": [
       "      symbol  volumePerUnit  pricePerUnit  spread  purchasePricePerUnit  \\\n",
       "0  CHEMICALS              1             2       1                     3   \n",
       "1   TEXTILES              1            28       1                    29   \n",
       "2  MACHINERY              2           218       1                   219   \n",
       "3       FUEL              1             2       1                     3   \n",
       "4     DRONES              2            14       1                    15   \n",
       "5       FOOD              1            15       1                    16   \n",
       "\n",
       "   sellPricePerUnit  quantityAvailable  \n",
       "0                 1             615542  \n",
       "1                27              79261  \n",
       "2               217              17413  \n",
       "3                 1             597758  \n",
       "4                13             105469  \n",
       "5                14             108054  "
      ]
     },
     "execution_count": 68,
     "metadata": {},
     "output_type": "execute_result"
    }
   ],
   "source": [
    "carth_df"
   ]
  },
  {
   "cell_type": "code",
   "execution_count": null,
   "metadata": {},
   "outputs": [],
   "source": []
  }
 ],
 "metadata": {
  "kernelspec": {
   "display_name": "spaceTraders_playground",
   "language": "python",
   "name": "spacetraders_playground"
  },
  "language_info": {
   "codemirror_mode": {
    "name": "ipython",
    "version": 3
   },
   "file_extension": ".py",
   "mimetype": "text/x-python",
   "name": "python",
   "nbconvert_exporter": "python",
   "pygments_lexer": "ipython3",
   "version": "3.8.5"
  }
 },
 "nbformat": 4,
 "nbformat_minor": 4
}
