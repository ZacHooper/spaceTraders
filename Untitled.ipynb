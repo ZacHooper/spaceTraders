{
 "cells": [
  {
   "cell_type": "code",
   "execution_count": 48,
   "metadata": {},
   "outputs": [],
   "source": [
    "import requests\n",
    "import pandas as pd\n",
    "import SpaceTraders as st\n",
    "import math\n",
    "import matplotlib.pyplot as plt\n",
    "import sqlite3\n",
    "import sqlalchemy\n",
    "import datetime"
   ]
  },
  {
   "cell_type": "code",
   "execution_count": 4,
   "metadata": {},
   "outputs": [
    {
     "output_type": "execute_result",
     "data": {
      "text/plain": [
       "{'status': 'spacetraders is currently online and available to play'}"
      ]
     },
     "metadata": {},
     "execution_count": 4
    }
   ],
   "source": [
    "st.Game().status()"
   ]
  },
  {
   "cell_type": "markdown",
   "metadata": {},
   "source": [
    "# Basic Details"
   ]
  },
  {
   "cell_type": "code",
   "execution_count": 5,
   "metadata": {},
   "outputs": [],
   "source": [
    "TOKEN = \"b33e5ca9-b933-43c3-9249-9fe7ea525fc9\"\n",
    "URL = \"https://api.spacetraders.io/\"\n",
    "username = \"JimHawkins\"\n",
    "\n",
    "# Initialise some useful objects\n",
    "game = st.Game()\n",
    "user = st.get_user(username)"
   ]
  },
  {
   "cell_type": "markdown",
   "metadata": {},
   "source": [
    "# Useful Functions"
   ]
  },
  {
   "cell_type": "code",
   "execution_count": 4,
   "metadata": {},
   "outputs": [],
   "source": [
    "def generic_get_call(endpoint, params=None):\n",
    "    headers = {'Authorization': 'Bearer ' + TOKEN}\n",
    "    r = requests.get(URL + endpoint, headers=headers, params=params)\n",
    "    if r.ok:\n",
    "        return r.json()\n",
    "    else:\n",
    "        print(\"Something went wrong\")\n",
    "        print(r.json())\n",
    "\n",
    "# Generic call to API\n",
    "def generic_post_call(endpoint, params=None):\n",
    "    headers = {'Authorization': 'Bearer ' + TOKEN}\n",
    "    r = requests.post(URL + endpoint, headers=headers, params=params)\n",
    "    if r.ok:\n",
    "        return r.json()\n",
    "    else:\n",
    "        print(\"Something went wrong\")\n",
    "        print(r.json())"
   ]
  },
  {
   "cell_type": "markdown",
   "metadata": {},
   "source": [
    "# Playground"
   ]
  },
  {
   "cell_type": "markdown",
   "metadata": {},
   "source": [
    "### Buying a Ship"
   ]
  },
  {
   "cell_type": "code",
   "execution_count": 93,
   "metadata": {},
   "outputs": [
    {
     "name": "stdout",
     "output_type": "stream",
     "text": [
      "      type class  maxCargo  speed manufacturer  plating  weapons  \\\n",
      "3  JW-MK-I  MK-I        50      1     Jackshaw        5        5   \n",
      "\n",
      "                                   purchaseLocations  \n",
      "3  [{'system': 'OE', 'location': 'OE-PM-TR', 'pri...   [list([{'system': 'OE', 'location': 'OE-PM-TR', 'price': 21125}])]\n"
     ]
    }
   ],
   "source": [
    "# Buy a Jackshaw\n",
    "ships_to_buy = pd.DataFrame(game.get_available_ships(\"MK-I\"))\n",
    "jacksaw_mask = ships_to_buy['manufacturer'] == \"Jackshaw\"\n",
    "print(ships_to_buy.loc[jacksaw_mask], ships_to_buy.loc[jacksaw_mask].purchaseLocations.values)\n",
    "# user.buy_ship('OE-PM-TR', 'JW-MK-I')"
   ]
  },
  {
   "cell_type": "markdown",
   "metadata": {},
   "source": [
    "### Move Ship to Carth"
   ]
  },
  {
   "cell_type": "code",
   "execution_count": 94,
   "metadata": {},
   "outputs": [
    {
     "data": {
      "text/plain": [
       "[]"
      ]
     },
     "execution_count": 94,
     "metadata": {},
     "output_type": "execute_result"
    }
   ],
   "source": [
    "ship_to_carth = user.get_ship('cknflrnom23763515s61061rc8l')\n",
    "ship_to_carth.cargo"
   ]
  },
  {
   "cell_type": "code",
   "execution_count": 95,
   "metadata": {},
   "outputs": [
    {
     "name": "stderr",
     "output_type": "stream",
     "text": [
      "2021-04-13 15:48:22,588 - INFO - Buying 50 units of FUEL for 150 at OE-PM-TR. Remaining credits: 92505. Loading Goods onto ship: cknflrnom23763515s61061rc8l\n"
     ]
    },
    {
     "data": {
      "text/plain": [
       "{'credits': 92505,\n",
       " 'order': {'good': 'FUEL', 'quantity': 50, 'pricePerUnit': 3, 'total': 150},\n",
       " 'ship': {'id': 'cknflrnom23763515s61061rc8l',\n",
       "  'location': 'OE-PM-TR',\n",
       "  'x': 23,\n",
       "  'y': -28,\n",
       "  'cargo': [{'good': 'FUEL', 'quantity': 50, 'totalVolume': 50}],\n",
       "  'spaceAvailable': 0,\n",
       "  'type': 'JW-MK-I',\n",
       "  'class': 'MK-I',\n",
       "  'maxCargo': 50,\n",
       "  'speed': 1,\n",
       "  'manufacturer': 'Jackshaw',\n",
       "  'plating': 5,\n",
       "  'weapons': 5}}"
      ]
     },
     "execution_count": 95,
     "metadata": {},
     "output_type": "execute_result"
    }
   ],
   "source": [
    "# Buy Fuel\n",
    "user.new_order(ship_to_carth.id, \"FUEL\", 50)"
   ]
  },
  {
   "cell_type": "code",
   "execution_count": 96,
   "metadata": {},
   "outputs": [
    {
     "name": "stderr",
     "output_type": "stream",
     "text": [
      "2021-04-13 15:48:44,320 - INFO - Ship cknflrnom23763515s61061rc8l has left OE-PM-TR and is flying to OE-NY\n"
     ]
    },
    {
     "data": {
      "application/vnd.jupyter.widget-view+json": {
       "model_id": "b34617ed201c4155b99d6de21aa39a0e",
       "version_major": 2,
       "version_minor": 0
      },
      "text/plain": [
       "Output()"
      ]
     },
     "metadata": {},
     "output_type": "display_data"
    },
    {
     "name": "stderr",
     "output_type": "stream",
     "text": [
      "2021-04-13 15:52:50,258 - INFO - Ship cknflrnom23763515s61061rc8l has landed at OE-NY\n"
     ]
    },
    {
     "data": {
      "text/plain": [
       "{'id': 'cknfltnw924144415s61pbjneny',\n",
       " 'shipId': 'cknflrnom23763515s61061rc8l',\n",
       " 'createdAt': '2021-04-13T05:48:44.218Z',\n",
       " 'arrivesAt': '2021-04-13T05:52:50.200Z',\n",
       " 'destination': 'OE-NY',\n",
       " 'departure': 'OE-PM-TR',\n",
       " 'distance': 93,\n",
       " 'fuelConsumed': 24,\n",
       " 'fuelRemaining': 26,\n",
       " 'terminatedAt': None,\n",
       " 'timeRemainingInSeconds': 245}"
      ]
     },
     "execution_count": 96,
     "metadata": {},
     "output_type": "execute_result"
    }
   ],
   "source": [
    "# Fly\n",
    "user.fly(ship_to_carth.id, \"OE-NY\", track=True)"
   ]
  },
  {
   "cell_type": "markdown",
   "metadata": {},
   "source": [
    "### Look at the Different Systems\n",
    "#### API call"
   ]
  },
  {
   "cell_type": "code",
   "execution_count": 41,
   "metadata": {},
   "outputs": [],
   "source": [
    "systems = generic_get_call(\"game/systems\")['systems']\n",
    "OE = systems[0]\n",
    "XV = systems[1]"
   ]
  },
  {
   "cell_type": "markdown",
   "metadata": {},
   "source": [
    "#### DataFrame of Locations"
   ]
  },
  {
   "cell_type": "code",
   "execution_count": 42,
   "metadata": {},
   "outputs": [
    {
     "data": {
      "text/html": [
       "<div>\n",
       "<style scoped>\n",
       "    .dataframe tbody tr th:only-of-type {\n",
       "        vertical-align: middle;\n",
       "    }\n",
       "\n",
       "    .dataframe tbody tr th {\n",
       "        vertical-align: top;\n",
       "    }\n",
       "\n",
       "    .dataframe thead th {\n",
       "        text-align: right;\n",
       "    }\n",
       "</style>\n",
       "<table border=\"1\" class=\"dataframe\">\n",
       "  <thead>\n",
       "    <tr style=\"text-align: right;\">\n",
       "      <th></th>\n",
       "      <th>symbol</th>\n",
       "      <th>type</th>\n",
       "      <th>name</th>\n",
       "      <th>x</th>\n",
       "      <th>y</th>\n",
       "      <th>ships</th>\n",
       "      <th>messages</th>\n",
       "    </tr>\n",
       "  </thead>\n",
       "  <tbody>\n",
       "    <tr>\n",
       "      <th>0</th>\n",
       "      <td>OE-PM</td>\n",
       "      <td>PLANET</td>\n",
       "      <td>Prime</td>\n",
       "      <td>20</td>\n",
       "      <td>-25</td>\n",
       "      <td>[]</td>\n",
       "      <td>NaN</td>\n",
       "    </tr>\n",
       "    <tr>\n",
       "      <th>1</th>\n",
       "      <td>OE-PM-TR</td>\n",
       "      <td>MOON</td>\n",
       "      <td>Tritus</td>\n",
       "      <td>23</td>\n",
       "      <td>-28</td>\n",
       "      <td>[]</td>\n",
       "      <td>NaN</td>\n",
       "    </tr>\n",
       "    <tr>\n",
       "      <th>2</th>\n",
       "      <td>OE-CR</td>\n",
       "      <td>PLANET</td>\n",
       "      <td>Carth</td>\n",
       "      <td>16</td>\n",
       "      <td>17</td>\n",
       "      <td>[]</td>\n",
       "      <td>NaN</td>\n",
       "    </tr>\n",
       "    <tr>\n",
       "      <th>3</th>\n",
       "      <td>OE-KO</td>\n",
       "      <td>PLANET</td>\n",
       "      <td>Koria</td>\n",
       "      <td>-48</td>\n",
       "      <td>-7</td>\n",
       "      <td>[]</td>\n",
       "      <td>NaN</td>\n",
       "    </tr>\n",
       "    <tr>\n",
       "      <th>4</th>\n",
       "      <td>OE-BO</td>\n",
       "      <td>GAS_GIANT</td>\n",
       "      <td>Bo</td>\n",
       "      <td>-64</td>\n",
       "      <td>-89</td>\n",
       "      <td>[]</td>\n",
       "      <td>NaN</td>\n",
       "    </tr>\n",
       "    <tr>\n",
       "      <th>5</th>\n",
       "      <td>OE-NY</td>\n",
       "      <td>ASTEROID</td>\n",
       "      <td>Nyon</td>\n",
       "      <td>74</td>\n",
       "      <td>50</td>\n",
       "      <td>[]</td>\n",
       "      <td>NaN</td>\n",
       "    </tr>\n",
       "    <tr>\n",
       "      <th>6</th>\n",
       "      <td>OE-UC</td>\n",
       "      <td>PLANET</td>\n",
       "      <td>Ucarro</td>\n",
       "      <td>-75</td>\n",
       "      <td>82</td>\n",
       "      <td>[]</td>\n",
       "      <td>NaN</td>\n",
       "    </tr>\n",
       "    <tr>\n",
       "      <th>7</th>\n",
       "      <td>OE-UC-AD</td>\n",
       "      <td>MOON</td>\n",
       "      <td>Ado</td>\n",
       "      <td>-82</td>\n",
       "      <td>82</td>\n",
       "      <td>[]</td>\n",
       "      <td>NaN</td>\n",
       "    </tr>\n",
       "    <tr>\n",
       "      <th>8</th>\n",
       "      <td>OE-UC-OB</td>\n",
       "      <td>MOON</td>\n",
       "      <td>Obo</td>\n",
       "      <td>-77</td>\n",
       "      <td>78</td>\n",
       "      <td>[]</td>\n",
       "      <td>NaN</td>\n",
       "    </tr>\n",
       "    <tr>\n",
       "      <th>9</th>\n",
       "      <td>OE-XV-91-2</td>\n",
       "      <td>WORMHOLE</td>\n",
       "      <td>Wormhole</td>\n",
       "      <td>0</td>\n",
       "      <td>145</td>\n",
       "      <td>[]</td>\n",
       "      <td>[Extensive research has revealed a partially f...</td>\n",
       "    </tr>\n",
       "  </tbody>\n",
       "</table>\n",
       "</div>"
      ],
      "text/plain": [
       "       symbol       type      name   x    y ships  \\\n",
       "0       OE-PM     PLANET     Prime  20  -25    []   \n",
       "1    OE-PM-TR       MOON    Tritus  23  -28    []   \n",
       "2       OE-CR     PLANET     Carth  16   17    []   \n",
       "3       OE-KO     PLANET     Koria -48   -7    []   \n",
       "4       OE-BO  GAS_GIANT        Bo -64  -89    []   \n",
       "5       OE-NY   ASTEROID      Nyon  74   50    []   \n",
       "6       OE-UC     PLANET    Ucarro -75   82    []   \n",
       "7    OE-UC-AD       MOON       Ado -82   82    []   \n",
       "8    OE-UC-OB       MOON       Obo -77   78    []   \n",
       "9  OE-XV-91-2   WORMHOLE  Wormhole   0  145    []   \n",
       "\n",
       "                                            messages  \n",
       "0                                                NaN  \n",
       "1                                                NaN  \n",
       "2                                                NaN  \n",
       "3                                                NaN  \n",
       "4                                                NaN  \n",
       "5                                                NaN  \n",
       "6                                                NaN  \n",
       "7                                                NaN  \n",
       "8                                                NaN  \n",
       "9  [Extensive research has revealed a partially f...  "
      ]
     },
     "execution_count": 42,
     "metadata": {},
     "output_type": "execute_result"
    }
   ],
   "source": [
    "oe_l = pd.DataFrame(OE['locations'])\n",
    "xv_l = pd.DataFrame(XV['locations'])\n",
    "oe_l"
   ]
  },
  {
   "cell_type": "markdown",
   "metadata": {},
   "source": [
    "#### Scatter Plot of the Locations"
   ]
  },
  {
   "cell_type": "code",
   "execution_count": 44,
   "metadata": {},
   "outputs": [
    {
     "data": {
      "image/png": "[encoded data removed]",
      "text/plain": [
       "<Figure size 864x864 with 1 Axes>"
      ]
     },
     "metadata": {
      "needs_background": "light"
     },
     "output_type": "display_data"
    }
   ],
   "source": [
    "ax = oe_l.plot.scatter('x', 'y', figsize=(12,12))\n",
    "oe_l[['x','y','name']].apply(lambda x: ax.text(*x),axis=1)\n",
    "\n",
    "plt.grid()\n",
    "plt.show()"
   ]
  },
  {
   "cell_type": "markdown",
   "metadata": {},
   "source": [
    "### Markets"
   ]
  },
  {
   "cell_type": "code",
   "execution_count": 97,
   "metadata": {},
   "outputs": [],
   "source": [
    "prime = game.location(\"OE-PM\")\n",
    "tritus = game.location(\"OE-PM-TR\")\n",
    "carth = game.location(\"OE-CR\")\n",
    "nyon = game.location(\"OE-NY\")"
   ]
  },
  {
   "cell_type": "code",
   "execution_count": 98,
   "metadata": {},
   "outputs": [],
   "source": [
    "prime_df = pd.DataFrame(prime.marketplace())\n",
    "tritus_df = pd.DataFrame(tritus.marketplace())\n",
    "carth_df = pd.DataFrame(carth.marketplace())\n",
    "nyon_df = pd.DataFrame(nyon.marketplace())"
   ]
  },
  {
   "cell_type": "code",
   "execution_count": 108,
   "metadata": {},
   "outputs": [
    {
     "data": {
      "text/html": [
       "<div>\n",
       "<style scoped>\n",
       "    .dataframe tbody tr th:only-of-type {\n",
       "        vertical-align: middle;\n",
       "    }\n",
       "\n",
       "    .dataframe tbody tr th {\n",
       "        vertical-align: top;\n",
       "    }\n",
       "\n",
       "    .dataframe thead th {\n",
       "        text-align: right;\n",
       "    }\n",
       "</style>\n",
       "<table border=\"1\" class=\"dataframe\">\n",
       "  <thead>\n",
       "    <tr style=\"text-align: right;\">\n",
       "      <th></th>\n",
       "      <th>symbol</th>\n",
       "      <th>volumePerUnit_from</th>\n",
       "      <th>purchasePricePerUnit_from</th>\n",
       "      <th>sellPricePerUnit_to</th>\n",
       "      <th>profit</th>\n",
       "    </tr>\n",
       "  </thead>\n",
       "  <tbody>\n",
       "    <tr>\n",
       "      <th>0</th>\n",
       "      <td>DRONES</td>\n",
       "      <td>2</td>\n",
       "      <td>15</td>\n",
       "      <td>45</td>\n",
       "      <td>30</td>\n",
       "    </tr>\n",
       "    <tr>\n",
       "      <th>1</th>\n",
       "      <td>METALS</td>\n",
       "      <td>1</td>\n",
       "      <td>8</td>\n",
       "      <td>1</td>\n",
       "      <td>-7</td>\n",
       "    </tr>\n",
       "    <tr>\n",
       "      <th>3</th>\n",
       "      <td>FUEL</td>\n",
       "      <td>1</td>\n",
       "      <td>3</td>\n",
       "      <td>1</td>\n",
       "      <td>-2</td>\n",
       "    </tr>\n",
       "    <tr>\n",
       "      <th>4</th>\n",
       "      <td>MACHINERY</td>\n",
       "      <td>2</td>\n",
       "      <td>195</td>\n",
       "      <td>241</td>\n",
       "      <td>46</td>\n",
       "    </tr>\n",
       "    <tr>\n",
       "      <th>8</th>\n",
       "      <td>SHIP_PLATING</td>\n",
       "      <td>2</td>\n",
       "      <td>94</td>\n",
       "      <td>160</td>\n",
       "      <td>66</td>\n",
       "    </tr>\n",
       "    <tr>\n",
       "      <th>9</th>\n",
       "      <td>SHIP_PARTS</td>\n",
       "      <td>4</td>\n",
       "      <td>1179</td>\n",
       "      <td>1386</td>\n",
       "      <td>207</td>\n",
       "    </tr>\n",
       "  </tbody>\n",
       "</table>\n",
       "</div>"
      ],
      "text/plain": [
       "         symbol  volumePerUnit_from  purchasePricePerUnit_from  \\\n",
       "0        DRONES                   2                         15   \n",
       "1        METALS                   1                          8   \n",
       "3          FUEL                   1                          3   \n",
       "4     MACHINERY                   2                        195   \n",
       "8  SHIP_PLATING                   2                         94   \n",
       "9    SHIP_PARTS                   4                       1179   \n",
       "\n",
       "   sellPricePerUnit_to  profit  \n",
       "0                   45      30  \n",
       "1                    1      -7  \n",
       "3                    1      -2  \n",
       "4                  241      46  \n",
       "8                  160      66  \n",
       "9                 1386     207  "
      ]
     },
     "execution_count": 108,
     "metadata": {},
     "output_type": "execute_result"
    }
   ],
   "source": [
    "markets = st.Market().market_compare(prime_df, nyon_df)\n",
    "markets.drop(['pricePerUnit_from', 'spread_from', 'sellPricePerUnit_from', \n",
    "              'quantityAvailable_from', 'volumePerUnit_to', 'pricePerUnit_to', \n",
    "              'spread_to', 'purchasePricePerUnit_to','quantityAvailable_to'], axis=1)"
   ]
  },
  {
   "cell_type": "code",
   "execution_count": 102,
   "metadata": {},
   "outputs": [
    {
     "data": {
      "text/html": [
       "<div>\n",
       "<style scoped>\n",
       "    .dataframe tbody tr th:only-of-type {\n",
       "        vertical-align: middle;\n",
       "    }\n",
       "\n",
       "    .dataframe tbody tr th {\n",
       "        vertical-align: top;\n",
       "    }\n",
       "\n",
       "    .dataframe thead th {\n",
       "        text-align: right;\n",
       "    }\n",
       "</style>\n",
       "<table border=\"1\" class=\"dataframe\">\n",
       "  <thead>\n",
       "    <tr style=\"text-align: right;\">\n",
       "      <th></th>\n",
       "      <th>symbol</th>\n",
       "      <th>volumePerUnit</th>\n",
       "      <th>pricePerUnit</th>\n",
       "      <th>spread</th>\n",
       "      <th>purchasePricePerUnit</th>\n",
       "      <th>sellPricePerUnit</th>\n",
       "      <th>quantityAvailable</th>\n",
       "    </tr>\n",
       "  </thead>\n",
       "  <tbody>\n",
       "    <tr>\n",
       "      <th>0</th>\n",
       "      <td>TEXTILES</td>\n",
       "      <td>1</td>\n",
       "      <td>27</td>\n",
       "      <td>1</td>\n",
       "      <td>28</td>\n",
       "      <td>26</td>\n",
       "      <td>83077</td>\n",
       "    </tr>\n",
       "    <tr>\n",
       "      <th>1</th>\n",
       "      <td>MACHINERY</td>\n",
       "      <td>2</td>\n",
       "      <td>220</td>\n",
       "      <td>1</td>\n",
       "      <td>221</td>\n",
       "      <td>219</td>\n",
       "      <td>15937</td>\n",
       "    </tr>\n",
       "    <tr>\n",
       "      <th>2</th>\n",
       "      <td>CHEMICALS</td>\n",
       "      <td>1</td>\n",
       "      <td>2</td>\n",
       "      <td>1</td>\n",
       "      <td>3</td>\n",
       "      <td>1</td>\n",
       "      <td>615542</td>\n",
       "    </tr>\n",
       "    <tr>\n",
       "      <th>3</th>\n",
       "      <td>FUEL</td>\n",
       "      <td>1</td>\n",
       "      <td>2</td>\n",
       "      <td>1</td>\n",
       "      <td>3</td>\n",
       "      <td>1</td>\n",
       "      <td>597744</td>\n",
       "    </tr>\n",
       "    <tr>\n",
       "      <th>4</th>\n",
       "      <td>DRONES</td>\n",
       "      <td>2</td>\n",
       "      <td>14</td>\n",
       "      <td>1</td>\n",
       "      <td>15</td>\n",
       "      <td>13</td>\n",
       "      <td>105469</td>\n",
       "    </tr>\n",
       "    <tr>\n",
       "      <th>5</th>\n",
       "      <td>FOOD</td>\n",
       "      <td>1</td>\n",
       "      <td>15</td>\n",
       "      <td>1</td>\n",
       "      <td>16</td>\n",
       "      <td>14</td>\n",
       "      <td>110834</td>\n",
       "    </tr>\n",
       "  </tbody>\n",
       "</table>\n",
       "</div>"
      ],
      "text/plain": [
       "      symbol  volumePerUnit  pricePerUnit  spread  purchasePricePerUnit  \\\n",
       "0   TEXTILES              1            27       1                    28   \n",
       "1  MACHINERY              2           220       1                   221   \n",
       "2  CHEMICALS              1             2       1                     3   \n",
       "3       FUEL              1             2       1                     3   \n",
       "4     DRONES              2            14       1                    15   \n",
       "5       FOOD              1            15       1                    16   \n",
       "\n",
       "   sellPricePerUnit  quantityAvailable  \n",
       "0                26              83077  \n",
       "1               219              15937  \n",
       "2                 1             615542  \n",
       "3                 1             597744  \n",
       "4                13             105469  \n",
       "5                14             110834  "
      ]
     },
     "execution_count": 102,
     "metadata": {},
     "output_type": "execute_result"
    }
   ],
   "source": [
    "carth_df"
   ]
  },
  {
   "cell_type": "code",
   "execution_count": 67,
   "metadata": {},
   "outputs": [
    {
     "data": {
      "text/html": [
       "<div>\n",
       "<style scoped>\n",
       "    .dataframe tbody tr th:only-of-type {\n",
       "        vertical-align: middle;\n",
       "    }\n",
       "\n",
       "    .dataframe tbody tr th {\n",
       "        vertical-align: top;\n",
       "    }\n",
       "\n",
       "    .dataframe thead th {\n",
       "        text-align: right;\n",
       "    }\n",
       "</style>\n",
       "<table border=\"1\" class=\"dataframe\">\n",
       "  <thead>\n",
       "    <tr style=\"text-align: right;\">\n",
       "      <th></th>\n",
       "      <th>symbol</th>\n",
       "      <th>volumePerUnit</th>\n",
       "      <th>pricePerUnit</th>\n",
       "      <th>spread</th>\n",
       "      <th>purchasePricePerUnit</th>\n",
       "      <th>sellPricePerUnit</th>\n",
       "      <th>quantityAvailable</th>\n",
       "    </tr>\n",
       "  </thead>\n",
       "  <tbody>\n",
       "    <tr>\n",
       "      <th>0</th>\n",
       "      <td>SHIP_PARTS</td>\n",
       "      <td>4</td>\n",
       "      <td>1308</td>\n",
       "      <td>3</td>\n",
       "      <td>1311</td>\n",
       "      <td>1305</td>\n",
       "      <td>19892</td>\n",
       "    </tr>\n",
       "    <tr>\n",
       "      <th>1</th>\n",
       "      <td>CHEMICALS</td>\n",
       "      <td>1</td>\n",
       "      <td>2</td>\n",
       "      <td>1</td>\n",
       "      <td>3</td>\n",
       "      <td>1</td>\n",
       "      <td>526090</td>\n",
       "    </tr>\n",
       "    <tr>\n",
       "      <th>2</th>\n",
       "      <td>RESEARCH</td>\n",
       "      <td>2</td>\n",
       "      <td>2560</td>\n",
       "      <td>36</td>\n",
       "      <td>2596</td>\n",
       "      <td>2524</td>\n",
       "      <td>4475</td>\n",
       "    </tr>\n",
       "    <tr>\n",
       "      <th>3</th>\n",
       "      <td>DRONES</td>\n",
       "      <td>2</td>\n",
       "      <td>36</td>\n",
       "      <td>1</td>\n",
       "      <td>37</td>\n",
       "      <td>35</td>\n",
       "      <td>39035</td>\n",
       "    </tr>\n",
       "    <tr>\n",
       "      <th>4</th>\n",
       "      <td>MACHINERY</td>\n",
       "      <td>2</td>\n",
       "      <td>236</td>\n",
       "      <td>1</td>\n",
       "      <td>237</td>\n",
       "      <td>235</td>\n",
       "      <td>4014</td>\n",
       "    </tr>\n",
       "    <tr>\n",
       "      <th>5</th>\n",
       "      <td>METALS</td>\n",
       "      <td>1</td>\n",
       "      <td>2</td>\n",
       "      <td>1</td>\n",
       "      <td>3</td>\n",
       "      <td>1</td>\n",
       "      <td>530166</td>\n",
       "    </tr>\n",
       "    <tr>\n",
       "      <th>6</th>\n",
       "      <td>FUEL</td>\n",
       "      <td>1</td>\n",
       "      <td>2</td>\n",
       "      <td>1</td>\n",
       "      <td>3</td>\n",
       "      <td>1</td>\n",
       "      <td>569063</td>\n",
       "    </tr>\n",
       "    <tr>\n",
       "      <th>7</th>\n",
       "      <td>SHIP_PLATING</td>\n",
       "      <td>2</td>\n",
       "      <td>137</td>\n",
       "      <td>1</td>\n",
       "      <td>138</td>\n",
       "      <td>136</td>\n",
       "      <td>37085</td>\n",
       "    </tr>\n",
       "  </tbody>\n",
       "</table>\n",
       "</div>"
      ],
      "text/plain": [
       "         symbol  volumePerUnit  pricePerUnit  spread  purchasePricePerUnit  \\\n",
       "0    SHIP_PARTS              4          1308       3                  1311   \n",
       "1     CHEMICALS              1             2       1                     3   \n",
       "2      RESEARCH              2          2560      36                  2596   \n",
       "3        DRONES              2            36       1                    37   \n",
       "4     MACHINERY              2           236       1                   237   \n",
       "5        METALS              1             2       1                     3   \n",
       "6          FUEL              1             2       1                     3   \n",
       "7  SHIP_PLATING              2           137       1                   138   \n",
       "\n",
       "   sellPricePerUnit  quantityAvailable  \n",
       "0              1305              19892  \n",
       "1                 1             526090  \n",
       "2              2524               4475  \n",
       "3                35              39035  \n",
       "4               235               4014  \n",
       "5                 1             530166  \n",
       "6                 1             569063  \n",
       "7               136              37085  "
      ]
     },
     "execution_count": 67,
     "metadata": {},
     "output_type": "execute_result"
    }
   ],
   "source": [
    "tritus_df"
   ]
  },
  {
   "cell_type": "code",
   "execution_count": 68,
   "metadata": {},
   "outputs": [
    {
     "data": {
      "text/html": [
       "<div>\n",
       "<style scoped>\n",
       "    .dataframe tbody tr th:only-of-type {\n",
       "        vertical-align: middle;\n",
       "    }\n",
       "\n",
       "    .dataframe tbody tr th {\n",
       "        vertical-align: top;\n",
       "    }\n",
       "\n",
       "    .dataframe thead th {\n",
       "        text-align: right;\n",
       "    }\n",
       "</style>\n",
       "<table border=\"1\" class=\"dataframe\">\n",
       "  <thead>\n",
       "    <tr style=\"text-align: right;\">\n",
       "      <th></th>\n",
       "      <th>symbol</th>\n",
       "      <th>volumePerUnit</th>\n",
       "      <th>pricePerUnit</th>\n",
       "      <th>spread</th>\n",
       "      <th>purchasePricePerUnit</th>\n",
       "      <th>sellPricePerUnit</th>\n",
       "      <th>quantityAvailable</th>\n",
       "    </tr>\n",
       "  </thead>\n",
       "  <tbody>\n",
       "    <tr>\n",
       "      <th>0</th>\n",
       "      <td>CHEMICALS</td>\n",
       "      <td>1</td>\n",
       "      <td>2</td>\n",
       "      <td>1</td>\n",
       "      <td>3</td>\n",
       "      <td>1</td>\n",
       "      <td>615542</td>\n",
       "    </tr>\n",
       "    <tr>\n",
       "      <th>1</th>\n",
       "      <td>TEXTILES</td>\n",
       "      <td>1</td>\n",
       "      <td>28</td>\n",
       "      <td>1</td>\n",
       "      <td>29</td>\n",
       "      <td>27</td>\n",
       "      <td>79261</td>\n",
       "    </tr>\n",
       "    <tr>\n",
       "      <th>2</th>\n",
       "      <td>MACHINERY</td>\n",
       "      <td>2</td>\n",
       "      <td>218</td>\n",
       "      <td>1</td>\n",
       "      <td>219</td>\n",
       "      <td>217</td>\n",
       "      <td>17413</td>\n",
       "    </tr>\n",
       "    <tr>\n",
       "      <th>3</th>\n",
       "      <td>FUEL</td>\n",
       "      <td>1</td>\n",
       "      <td>2</td>\n",
       "      <td>1</td>\n",
       "      <td>3</td>\n",
       "      <td>1</td>\n",
       "      <td>597758</td>\n",
       "    </tr>\n",
       "    <tr>\n",
       "      <th>4</th>\n",
       "      <td>DRONES</td>\n",
       "      <td>2</td>\n",
       "      <td>14</td>\n",
       "      <td>1</td>\n",
       "      <td>15</td>\n",
       "      <td>13</td>\n",
       "      <td>105469</td>\n",
       "    </tr>\n",
       "    <tr>\n",
       "      <th>5</th>\n",
       "      <td>FOOD</td>\n",
       "      <td>1</td>\n",
       "      <td>15</td>\n",
       "      <td>1</td>\n",
       "      <td>16</td>\n",
       "      <td>14</td>\n",
       "      <td>108054</td>\n",
       "    </tr>\n",
       "  </tbody>\n",
       "</table>\n",
       "</div>"
      ],
      "text/plain": [
       "      symbol  volumePerUnit  pricePerUnit  spread  purchasePricePerUnit  \\\n",
       "0  CHEMICALS              1             2       1                     3   \n",
       "1   TEXTILES              1            28       1                    29   \n",
       "2  MACHINERY              2           218       1                   219   \n",
       "3       FUEL              1             2       1                     3   \n",
       "4     DRONES              2            14       1                    15   \n",
       "5       FOOD              1            15       1                    16   \n",
       "\n",
       "   sellPricePerUnit  quantityAvailable  \n",
       "0                 1             615542  \n",
       "1                27              79261  \n",
       "2               217              17413  \n",
       "3                 1             597758  \n",
       "4                13             105469  \n",
       "5                14             108054  "
      ]
     },
     "execution_count": 68,
     "metadata": {},
     "output_type": "execute_result"
    }
   ],
   "source": [
    "carth_df"
   ]
  },
  {
   "source": [
    "# Tracker Data Analysis"
   ],
   "cell_type": "markdown",
   "metadata": {}
  },
  {
   "cell_type": "code",
   "execution_count": 87,
   "metadata": {},
   "outputs": [
    {
     "output_type": "display_data",
     "data": {
      "text/plain": "<Figure size 432x288 with 1 Axes>",
      "image/svg+xml": "<?xml version=\"1.0\" encoding=\"utf-8\" standalone=\"no\"?>\n<!DOCTYPE svg PUBLIC \"-//W3C//DTD SVG 1.1//EN\"\n  \"http://www.w3.org/Graphics/SVG/1.1/DTD/svg11.dtd\">\n<!-- Created with matplotlib (https://matplotlib.org/) -->\n<svg height=\"248.518125pt\" version=\"1.1\" viewBox=\"0 0 385.666055 248.518125\" width=\"385.666055pt\" xmlns=\"http://www.w3.org/2000/svg\" xmlns:xlink=\"http://www.w3.org/1999/xlink\">\n <defs>\n  <style type=\"text/css\">\n*{stroke-linecap:butt;stroke-linejoin:round;}\n  </style>\n </defs>\n <g id=\"figure_1\">\n  <g id=\"patch_1\">\n   <path d=\"M -0 248.518125 \nL 385.666055 248.518125 \nL 385.666055 0 \nL -0 0 \nz\n\" style=\"fill:none;\"/>\n  </g>\n  <g id=\"axes_1\">\n   <g id=\"patch_2\">\n    <path d=\"M 39.65 224.64 \nL 374.45 224.64 \nL 374.45 7.2 \nL 39.65 7.2 \nz\n\" style=\"fill:#ffffff;\"/>\n   </g>\n   <g id=\"matplotlib.axis_1\">\n    <g id=\"xtick_1\">\n     <g id=\"line2d_1\">\n      <defs>\n       <path d=\"M 0 0 \nL 0 3.5 \n\" id=\"m5b82ab337b\" style=\"stroke:#000000;stroke-width:0.8;\"/>\n      </defs>\n      <g>\n       <use style=\"stroke:#000000;stroke-width:0.8;\" x=\"73.065453\" xlink:href=\"#m5b82ab337b\" y=\"224.64\"/>\n      </g>\n     </g>\n     <g id=\"text_1\">\n      <!-- 13 21:00 -->\n      <defs>\n       <path d=\"M 12.40625 8.296875 \nL 28.515625 8.296875 \nL 28.515625 63.921875 \nL 10.984375 60.40625 \nL 10.984375 69.390625 \nL 28.421875 72.90625 \nL 38.28125 72.90625 \nL 38.28125 8.296875 \nL 54.390625 8.296875 \nL 54.390625 0 \nL 12.40625 0 \nz\n\" id=\"DejaVuSans-49\"/>\n       <path d=\"M 40.578125 39.3125 \nQ 47.65625 37.796875 51.625 33 \nQ 55.609375 28.21875 55.609375 21.1875 \nQ 55.609375 10.40625 48.1875 4.484375 \nQ 40.765625 -1.421875 27.09375 -1.421875 \nQ 22.515625 -1.421875 17.65625 -0.515625 \nQ 12.796875 0.390625 7.625 2.203125 \nL 7.625 11.71875 \nQ 11.71875 9.328125 16.59375 8.109375 \nQ 21.484375 6.890625 26.8125 6.890625 \nQ 36.078125 6.890625 40.9375 10.546875 \nQ 45.796875 14.203125 45.796875 21.1875 \nQ 45.796875 27.640625 41.28125 31.265625 \nQ 36.765625 34.90625 28.71875 34.90625 \nL 20.21875 34.90625 \nL 20.21875 43.015625 \nL 29.109375 43.015625 \nQ 36.375 43.015625 40.234375 45.921875 \nQ 44.09375 48.828125 44.09375 54.296875 \nQ 44.09375 59.90625 40.109375 62.90625 \nQ 36.140625 65.921875 28.71875 65.921875 \nQ 24.65625 65.921875 20.015625 65.03125 \nQ 15.375 64.15625 9.8125 62.3125 \nL 9.8125 71.09375 \nQ 15.4375 72.65625 20.34375 73.4375 \nQ 25.25 74.21875 29.59375 74.21875 \nQ 40.828125 74.21875 47.359375 69.109375 \nQ 53.90625 64.015625 53.90625 55.328125 \nQ 53.90625 49.265625 50.4375 45.09375 \nQ 46.96875 40.921875 40.578125 39.3125 \nz\n\" id=\"DejaVuSans-51\"/>\n       <path id=\"DejaVuSans-32\"/>\n       <path d=\"M 19.1875 8.296875 \nL 53.609375 8.296875 \nL 53.609375 0 \nL 7.328125 0 \nL 7.328125 8.296875 \nQ 12.9375 14.109375 22.625 23.890625 \nQ 32.328125 33.6875 34.8125 36.53125 \nQ 39.546875 41.84375 41.421875 45.53125 \nQ 43.3125 49.21875 43.3125 52.78125 \nQ 43.3125 58.59375 39.234375 62.25 \nQ 35.15625 65.921875 28.609375 65.921875 \nQ 23.96875 65.921875 18.8125 64.3125 \nQ 13.671875 62.703125 7.8125 59.421875 \nL 7.8125 69.390625 \nQ 13.765625 71.78125 18.9375 73 \nQ 24.125 74.21875 28.421875 74.21875 \nQ 39.75 74.21875 46.484375 68.546875 \nQ 53.21875 62.890625 53.21875 53.421875 \nQ 53.21875 48.921875 51.53125 44.890625 \nQ 49.859375 40.875 45.40625 35.40625 \nQ 44.1875 33.984375 37.640625 27.21875 \nQ 31.109375 20.453125 19.1875 8.296875 \nz\n\" id=\"DejaVuSans-50\"/>\n       <path d=\"M 11.71875 12.40625 \nL 22.015625 12.40625 \nL 22.015625 0 \nL 11.71875 0 \nz\nM 11.71875 51.703125 \nL 22.015625 51.703125 \nL 22.015625 39.3125 \nL 11.71875 39.3125 \nz\n\" id=\"DejaVuSans-58\"/>\n       <path d=\"M 31.78125 66.40625 \nQ 24.171875 66.40625 20.328125 58.90625 \nQ 16.5 51.421875 16.5 36.375 \nQ 16.5 21.390625 20.328125 13.890625 \nQ 24.171875 6.390625 31.78125 6.390625 \nQ 39.453125 6.390625 43.28125 13.890625 \nQ 47.125 21.390625 47.125 36.375 \nQ 47.125 51.421875 43.28125 58.90625 \nQ 39.453125 66.40625 31.78125 66.40625 \nz\nM 31.78125 74.21875 \nQ 44.046875 74.21875 50.515625 64.515625 \nQ 56.984375 54.828125 56.984375 36.375 \nQ 56.984375 17.96875 50.515625 8.265625 \nQ 44.046875 -1.421875 31.78125 -1.421875 \nQ 19.53125 -1.421875 13.0625 8.265625 \nQ 6.59375 17.96875 6.59375 36.375 \nQ 6.59375 54.828125 13.0625 64.515625 \nQ 19.53125 74.21875 31.78125 74.21875 \nz\n\" id=\"DejaVuSans-48\"/>\n      </defs>\n      <g transform=\"translate(50.704515 239.238438)scale(0.1 -0.1)\">\n       <use xlink:href=\"#DejaVuSans-49\"/>\n       <use x=\"63.623047\" xlink:href=\"#DejaVuSans-51\"/>\n       <use x=\"127.246094\" xlink:href=\"#DejaVuSans-32\"/>\n       <use x=\"159.033203\" xlink:href=\"#DejaVuSans-50\"/>\n       <use x=\"222.65625\" xlink:href=\"#DejaVuSans-49\"/>\n       <use x=\"286.279297\" xlink:href=\"#DejaVuSans-58\"/>\n       <use x=\"319.970703\" xlink:href=\"#DejaVuSans-48\"/>\n       <use x=\"383.59375\" xlink:href=\"#DejaVuSans-48\"/>\n      </g>\n     </g>\n    </g>\n    <g id=\"xtick_2\">\n     <g id=\"line2d_2\">\n      <g>\n       <use style=\"stroke:#000000;stroke-width:0.8;\" x=\"113.49969\" xlink:href=\"#m5b82ab337b\" y=\"224.64\"/>\n      </g>\n     </g>\n     <g id=\"text_2\">\n      <!-- 13 21:15 -->\n      <defs>\n       <path d=\"M 10.796875 72.90625 \nL 49.515625 72.90625 \nL 49.515625 64.59375 \nL 19.828125 64.59375 \nL 19.828125 46.734375 \nQ 21.96875 47.46875 24.109375 47.828125 \nQ 26.265625 48.1875 28.421875 48.1875 \nQ 40.625 48.1875 47.75 41.5 \nQ 54.890625 34.8125 54.890625 23.390625 \nQ 54.890625 11.625 47.5625 5.09375 \nQ 40.234375 -1.421875 26.90625 -1.421875 \nQ 22.3125 -1.421875 17.546875 -0.640625 \nQ 12.796875 0.140625 7.71875 1.703125 \nL 7.71875 11.625 \nQ 12.109375 9.234375 16.796875 8.0625 \nQ 21.484375 6.890625 26.703125 6.890625 \nQ 35.15625 6.890625 40.078125 11.328125 \nQ 45.015625 15.765625 45.015625 23.390625 \nQ 45.015625 31 40.078125 35.4375 \nQ 35.15625 39.890625 26.703125 39.890625 \nQ 22.75 39.890625 18.8125 39.015625 \nQ 14.890625 38.140625 10.796875 36.28125 \nz\n\" id=\"DejaVuSans-53\"/>\n      </defs>\n      <g transform=\"translate(91.138753 239.238438)scale(0.1 -0.1)\">\n       <use xlink:href=\"#DejaVuSans-49\"/>\n       <use x=\"63.623047\" xlink:href=\"#DejaVuSans-51\"/>\n       <use x=\"127.246094\" xlink:href=\"#DejaVuSans-32\"/>\n       <use x=\"159.033203\" xlink:href=\"#DejaVuSans-50\"/>\n       <use x=\"222.65625\" xlink:href=\"#DejaVuSans-49\"/>\n       <use x=\"286.279297\" xlink:href=\"#DejaVuSans-58\"/>\n       <use x=\"319.970703\" xlink:href=\"#DejaVuSans-49\"/>\n       <use x=\"383.59375\" xlink:href=\"#DejaVuSans-53\"/>\n      </g>\n     </g>\n    </g>\n    <g id=\"xtick_3\">\n     <g id=\"line2d_3\">\n      <g>\n       <use style=\"stroke:#000000;stroke-width:0.8;\" x=\"153.933928\" xlink:href=\"#m5b82ab337b\" y=\"224.64\"/>\n      </g>\n     </g>\n     <g id=\"text_3\">\n      <!-- 13 21:30 -->\n      <g transform=\"translate(131.572991 239.238438)scale(0.1 -0.1)\">\n       <use xlink:href=\"#DejaVuSans-49\"/>\n       <use x=\"63.623047\" xlink:href=\"#DejaVuSans-51\"/>\n       <use x=\"127.246094\" xlink:href=\"#DejaVuSans-32\"/>\n       <use x=\"159.033203\" xlink:href=\"#DejaVuSans-50\"/>\n       <use x=\"222.65625\" xlink:href=\"#DejaVuSans-49\"/>\n       <use x=\"286.279297\" xlink:href=\"#DejaVuSans-58\"/>\n       <use x=\"319.970703\" xlink:href=\"#DejaVuSans-51\"/>\n       <use x=\"383.59375\" xlink:href=\"#DejaVuSans-48\"/>\n      </g>\n     </g>\n    </g>\n    <g id=\"xtick_4\">\n     <g id=\"line2d_4\">\n      <g>\n       <use style=\"stroke:#000000;stroke-width:0.8;\" x=\"194.368166\" xlink:href=\"#m5b82ab337b\" y=\"224.64\"/>\n      </g>\n     </g>\n     <g id=\"text_4\">\n      <!-- 13 21:45 -->\n      <defs>\n       <path d=\"M 37.796875 64.3125 \nL 12.890625 25.390625 \nL 37.796875 25.390625 \nz\nM 35.203125 72.90625 \nL 47.609375 72.90625 \nL 47.609375 25.390625 \nL 58.015625 25.390625 \nL 58.015625 17.1875 \nL 47.609375 17.1875 \nL 47.609375 0 \nL 37.796875 0 \nL 37.796875 17.1875 \nL 4.890625 17.1875 \nL 4.890625 26.703125 \nz\n\" id=\"DejaVuSans-52\"/>\n      </defs>\n      <g transform=\"translate(172.007228 239.238438)scale(0.1 -0.1)\">\n       <use xlink:href=\"#DejaVuSans-49\"/>\n       <use x=\"63.623047\" xlink:href=\"#DejaVuSans-51\"/>\n       <use x=\"127.246094\" xlink:href=\"#DejaVuSans-32\"/>\n       <use x=\"159.033203\" xlink:href=\"#DejaVuSans-50\"/>\n       <use x=\"222.65625\" xlink:href=\"#DejaVuSans-49\"/>\n       <use x=\"286.279297\" xlink:href=\"#DejaVuSans-58\"/>\n       <use x=\"319.970703\" xlink:href=\"#DejaVuSans-52\"/>\n       <use x=\"383.59375\" xlink:href=\"#DejaVuSans-53\"/>\n      </g>\n     </g>\n    </g>\n    <g id=\"xtick_5\">\n     <g id=\"line2d_5\">\n      <g>\n       <use style=\"stroke:#000000;stroke-width:0.8;\" x=\"234.802403\" xlink:href=\"#m5b82ab337b\" y=\"224.64\"/>\n      </g>\n     </g>\n     <g id=\"text_5\">\n      <!-- 13 22:00 -->\n      <g transform=\"translate(212.441466 239.238438)scale(0.1 -0.1)\">\n       <use xlink:href=\"#DejaVuSans-49\"/>\n       <use x=\"63.623047\" xlink:href=\"#DejaVuSans-51\"/>\n       <use x=\"127.246094\" xlink:href=\"#DejaVuSans-32\"/>\n       <use x=\"159.033203\" xlink:href=\"#DejaVuSans-50\"/>\n       <use x=\"222.65625\" xlink:href=\"#DejaVuSans-50\"/>\n       <use x=\"286.279297\" xlink:href=\"#DejaVuSans-58\"/>\n       <use x=\"319.970703\" xlink:href=\"#DejaVuSans-48\"/>\n       <use x=\"383.59375\" xlink:href=\"#DejaVuSans-48\"/>\n      </g>\n     </g>\n    </g>\n    <g id=\"xtick_6\">\n     <g id=\"line2d_6\">\n      <g>\n       <use style=\"stroke:#000000;stroke-width:0.8;\" x=\"275.236642\" xlink:href=\"#m5b82ab337b\" y=\"224.64\"/>\n      </g>\n     </g>\n     <g id=\"text_6\">\n      <!-- 13 22:15 -->\n      <g transform=\"translate(252.875704 239.238438)scale(0.1 -0.1)\">\n       <use xlink:href=\"#DejaVuSans-49\"/>\n       <use x=\"63.623047\" xlink:href=\"#DejaVuSans-51\"/>\n       <use x=\"127.246094\" xlink:href=\"#DejaVuSans-32\"/>\n       <use x=\"159.033203\" xlink:href=\"#DejaVuSans-50\"/>\n       <use x=\"222.65625\" xlink:href=\"#DejaVuSans-50\"/>\n       <use x=\"286.279297\" xlink:href=\"#DejaVuSans-58\"/>\n       <use x=\"319.970703\" xlink:href=\"#DejaVuSans-49\"/>\n       <use x=\"383.59375\" xlink:href=\"#DejaVuSans-53\"/>\n      </g>\n     </g>\n    </g>\n    <g id=\"xtick_7\">\n     <g id=\"line2d_7\">\n      <g>\n       <use style=\"stroke:#000000;stroke-width:0.8;\" x=\"315.670879\" xlink:href=\"#m5b82ab337b\" y=\"224.64\"/>\n      </g>\n     </g>\n     <g id=\"text_7\">\n      <!-- 13 22:30 -->\n      <g transform=\"translate(293.309942 239.238438)scale(0.1 -0.1)\">\n       <use xlink:href=\"#DejaVuSans-49\"/>\n       <use x=\"63.623047\" xlink:href=\"#DejaVuSans-51\"/>\n       <use x=\"127.246094\" xlink:href=\"#DejaVuSans-32\"/>\n       <use x=\"159.033203\" xlink:href=\"#DejaVuSans-50\"/>\n       <use x=\"222.65625\" xlink:href=\"#DejaVuSans-50\"/>\n       <use x=\"286.279297\" xlink:href=\"#DejaVuSans-58\"/>\n       <use x=\"319.970703\" xlink:href=\"#DejaVuSans-51\"/>\n       <use x=\"383.59375\" xlink:href=\"#DejaVuSans-48\"/>\n      </g>\n     </g>\n    </g>\n    <g id=\"xtick_8\">\n     <g id=\"line2d_8\">\n      <g>\n       <use style=\"stroke:#000000;stroke-width:0.8;\" x=\"356.105117\" xlink:href=\"#m5b82ab337b\" y=\"224.64\"/>\n      </g>\n     </g>\n     <g id=\"text_8\">\n      <!-- 13 22:45 -->\n      <g transform=\"translate(333.744179 239.238438)scale(0.1 -0.1)\">\n       <use xlink:href=\"#DejaVuSans-49\"/>\n       <use x=\"63.623047\" xlink:href=\"#DejaVuSans-51\"/>\n       <use x=\"127.246094\" xlink:href=\"#DejaVuSans-32\"/>\n       <use x=\"159.033203\" xlink:href=\"#DejaVuSans-50\"/>\n       <use x=\"222.65625\" xlink:href=\"#DejaVuSans-50\"/>\n       <use x=\"286.279297\" xlink:href=\"#DejaVuSans-58\"/>\n       <use x=\"319.970703\" xlink:href=\"#DejaVuSans-52\"/>\n       <use x=\"383.59375\" xlink:href=\"#DejaVuSans-53\"/>\n      </g>\n     </g>\n    </g>\n   </g>\n   <g id=\"matplotlib.axis_2\">\n    <g id=\"ytick_1\">\n     <g id=\"line2d_9\">\n      <defs>\n       <path d=\"M 0 0 \nL -3.5 0 \n\" id=\"m8614261f36\" style=\"stroke:#000000;stroke-width:0.8;\"/>\n      </defs>\n      <g>\n       <use style=\"stroke:#000000;stroke-width:0.8;\" x=\"39.65\" xlink:href=\"#m8614261f36\" y=\"198.58314\"/>\n      </g>\n     </g>\n     <g id=\"text_9\">\n      <!-- 1200 -->\n      <g transform=\"translate(7.2 202.382359)scale(0.1 -0.1)\">\n       <use xlink:href=\"#DejaVuSans-49\"/>\n       <use x=\"63.623047\" xlink:href=\"#DejaVuSans-50\"/>\n       <use x=\"127.246094\" xlink:href=\"#DejaVuSans-48\"/>\n       <use x=\"190.869141\" xlink:href=\"#DejaVuSans-48\"/>\n      </g>\n     </g>\n    </g>\n    <g id=\"ytick_2\">\n     <g id=\"line2d_10\">\n      <g>\n       <use style=\"stroke:#000000;stroke-width:0.8;\" x=\"39.65\" xlink:href=\"#m8614261f36\" y=\"168.632727\"/>\n      </g>\n     </g>\n     <g id=\"text_10\">\n      <!-- 1250 -->\n      <g transform=\"translate(7.2 172.431946)scale(0.1 -0.1)\">\n       <use xlink:href=\"#DejaVuSans-49\"/>\n       <use x=\"63.623047\" xlink:href=\"#DejaVuSans-50\"/>\n       <use x=\"127.246094\" xlink:href=\"#DejaVuSans-53\"/>\n       <use x=\"190.869141\" xlink:href=\"#DejaVuSans-48\"/>\n      </g>\n     </g>\n    </g>\n    <g id=\"ytick_3\">\n     <g id=\"line2d_11\">\n      <g>\n       <use style=\"stroke:#000000;stroke-width:0.8;\" x=\"39.65\" xlink:href=\"#m8614261f36\" y=\"138.682314\"/>\n      </g>\n     </g>\n     <g id=\"text_11\">\n      <!-- 1300 -->\n      <g transform=\"translate(7.2 142.481533)scale(0.1 -0.1)\">\n       <use xlink:href=\"#DejaVuSans-49\"/>\n       <use x=\"63.623047\" xlink:href=\"#DejaVuSans-51\"/>\n       <use x=\"127.246094\" xlink:href=\"#DejaVuSans-48\"/>\n       <use x=\"190.869141\" xlink:href=\"#DejaVuSans-48\"/>\n      </g>\n     </g>\n    </g>\n    <g id=\"ytick_4\">\n     <g id=\"line2d_12\">\n      <g>\n       <use style=\"stroke:#000000;stroke-width:0.8;\" x=\"39.65\" xlink:href=\"#m8614261f36\" y=\"108.731901\"/>\n      </g>\n     </g>\n     <g id=\"text_12\">\n      <!-- 1350 -->\n      <g transform=\"translate(7.2 112.53112)scale(0.1 -0.1)\">\n       <use xlink:href=\"#DejaVuSans-49\"/>\n       <use x=\"63.623047\" xlink:href=\"#DejaVuSans-51\"/>\n       <use x=\"127.246094\" xlink:href=\"#DejaVuSans-53\"/>\n       <use x=\"190.869141\" xlink:href=\"#DejaVuSans-48\"/>\n      </g>\n     </g>\n    </g>\n    <g id=\"ytick_5\">\n     <g id=\"line2d_13\">\n      <g>\n       <use style=\"stroke:#000000;stroke-width:0.8;\" x=\"39.65\" xlink:href=\"#m8614261f36\" y=\"78.781488\"/>\n      </g>\n     </g>\n     <g id=\"text_13\">\n      <!-- 1400 -->\n      <g transform=\"translate(7.2 82.580706)scale(0.1 -0.1)\">\n       <use xlink:href=\"#DejaVuSans-49\"/>\n       <use x=\"63.623047\" xlink:href=\"#DejaVuSans-52\"/>\n       <use x=\"127.246094\" xlink:href=\"#DejaVuSans-48\"/>\n       <use x=\"190.869141\" xlink:href=\"#DejaVuSans-48\"/>\n      </g>\n     </g>\n    </g>\n    <g id=\"ytick_6\">\n     <g id=\"line2d_14\">\n      <g>\n       <use style=\"stroke:#000000;stroke-width:0.8;\" x=\"39.65\" xlink:href=\"#m8614261f36\" y=\"48.831074\"/>\n      </g>\n     </g>\n     <g id=\"text_14\">\n      <!-- 1450 -->\n      <g transform=\"translate(7.2 52.630293)scale(0.1 -0.1)\">\n       <use xlink:href=\"#DejaVuSans-49\"/>\n       <use x=\"63.623047\" xlink:href=\"#DejaVuSans-52\"/>\n       <use x=\"127.246094\" xlink:href=\"#DejaVuSans-53\"/>\n       <use x=\"190.869141\" xlink:href=\"#DejaVuSans-48\"/>\n      </g>\n     </g>\n    </g>\n    <g id=\"ytick_7\">\n     <g id=\"line2d_15\">\n      <g>\n       <use style=\"stroke:#000000;stroke-width:0.8;\" x=\"39.65\" xlink:href=\"#m8614261f36\" y=\"18.880661\"/>\n      </g>\n     </g>\n     <g id=\"text_15\">\n      <!-- 1500 -->\n      <g transform=\"translate(7.2 22.67988)scale(0.1 -0.1)\">\n       <use xlink:href=\"#DejaVuSans-49\"/>\n       <use x=\"63.623047\" xlink:href=\"#DejaVuSans-53\"/>\n       <use x=\"127.246094\" xlink:href=\"#DejaVuSans-48\"/>\n       <use x=\"190.869141\" xlink:href=\"#DejaVuSans-48\"/>\n      </g>\n     </g>\n    </g>\n   </g>\n   <g id=\"line2d_16\">\n    <path clip-path=\"url(#pb4bb7fe0cf)\" d=\"M 54.868182 214.756364 \nL 64.406214 211.162314 \nL 71.730438 212.360331 \nL 78.2984 214.157355 \nL 83.579448 205.172231 \nL 85.702164 198.58314 \nL 93.111756 200.979174 \nL 105.305227 205.172231 \nL 106.297407 205.77124 \nL 109.178621 206.969256 \nL 124.651484 212.360331 \nL 128.432433 209.964298 \nL 146.850562 203.375207 \nL 148.415932 203.974215 \nL 148.587228 204.573223 \nL 149.26034 204.573223 \nL 152.151175 205.172231 \nL 191.66865 207.568264 \nL 194.549896 209.365289 \nL 209.321014 184.80595 \nL 222.578012 189.598017 \nL 225.467179 190.796033 \nL 232.940281 193.192066 \nL 238.456021 194.989091 \nL 241.345255 195.588099 \nL 244.576637 197.385124 \nL 247.450699 197.385124 \nL 251.578437 198.58314 \nL 254.934719 198.58314 \nL 260.007937 194.989091 \nL 263.797484 188.4 \nL 267.63135 189.598017 \nL 279.04025 193.791074 \nL 282.864622 194.989091 \nL 310.012274 200.380165 \nL 313.831522 198.58314 \nL 325.032183 196.187107 \nL 328.831075 197.385124 \nL 332.625168 199.182149 \nL 336.430366 200.380165 \nL 340.22241 201.578182 \nL 344.042471 202.776198 \nL 347.889354 203.375207 \nL 351.670884 200.380165 \nL 355.4577 200.380165 \nL 359.231818 201.578182 \n\" style=\"fill:none;stroke:#1f77b4;stroke-linecap:square;stroke-width:1.5;\"/>\n   </g>\n   <g id=\"line2d_17\">\n    <path clip-path=\"url(#pb4bb7fe0cf)\" d=\"M 93.197651 184.80595 \nL 105.392604 181.211901 \nL 106.38282 180.013884 \nL 109.264749 178.21686 \nL 125.189311 167.434711 \nL 128.988533 166.236694 \nL 148.501974 177.018843 \nL 148.676515 176.419835 \nL 149.349225 176.419835 \nL 152.236519 175.820826 \nL 191.756087 172.825785 \nL 209.42062 169.830744 \nL 222.666722 161.444628 \nL 225.556952 160.246612 \nL 233.026506 156.652562 \nL 238.55238 155.454545 \nL 241.432659 154.855537 \nL 244.66192 153.657521 \nL 247.571129 153.058512 \nL 251.667061 151.860496 \nL 255.511376 151.860496 \nL 260.545206 151.261488 \nL 268.19672 163.840661 \nL 271.974557 159.048595 \nL 275.787468 157.850579 \nL 279.588003 157.25157 \nL 283.417122 156.053554 \nL 302.964253 151.261488 \nL 306.762147 150.662479 \nL 310.552552 149.464463 \nL 314.371355 148.266446 \nL 325.569247 159.647603 \nL 329.375687 159.048595 \nL 333.167672 158.449587 \nL 336.971784 158.449587 \nL 340.768043 157.850579 \nL 344.581305 157.25157 \nL 348.42698 156.053554 \nL 352.208041 156.053554 \nL 355.994016 159.048595 \n\" style=\"fill:none;stroke:#ff7f0e;stroke-linecap:square;stroke-width:1.5;\"/>\n   </g>\n   <g id=\"line2d_18\">\n    <path clip-path=\"url(#pb4bb7fe0cf)\" d=\"M 93.240387 17.083636 \nL 105.43467 17.083636 \nL 106.431284 17.083636 \nL 109.307055 17.083636 \nL 125.458801 21.276694 \nL 129.260767 23.672727 \nL 148.545163 17.083636 \nL 148.718146 17.083636 \nL 149.391277 17.083636 \nL 152.278601 17.083636 \nL 191.802885 17.083636 \nL 194.683527 17.083636 \nL 222.711724 27.266777 \nL 225.599302 45.237025 \nL 238.597834 47.633058 \nL 241.492141 47.633058 \nL 244.70398 46.435041 \nL 247.617684 45.237025 \nL 252.188745 44.039008 \nL 256.02492 42.241983 \nL 260.81389 40.444959 \nL 264.642844 39.246942 \nL 268.466083 37.449917 \nL 272.275744 36.850909 \nL 283.687695 34.454876 \nL 291.258432 33.855868 \nL 295.070806 32.058843 \nL 314.645042 24.870744 \nL 318.438783 23.672727 \nL 322.23238 22.474711 \nL 325.855299 21.276694 \nL 329.645238 19.479669 \nL 333.441391 18.281653 \nL 337.24149 17.083636 \nL 341.040852 17.083636 \nL 344.866714 17.083636 \nL 348.694775 17.083636 \nL 352.477018 17.083636 \nL 356.261279 17.083636 \n\" style=\"fill:none;stroke:#2ca02c;stroke-linecap:square;stroke-width:1.5;\"/>\n   </g>\n   <g id=\"patch_3\">\n    <path d=\"M 39.65 224.64 \nL 39.65 7.2 \n\" style=\"fill:none;stroke:#000000;stroke-linecap:square;stroke-linejoin:miter;stroke-width:0.8;\"/>\n   </g>\n   <g id=\"patch_4\">\n    <path d=\"M 374.45 224.64 \nL 374.45 7.2 \n\" style=\"fill:none;stroke:#000000;stroke-linecap:square;stroke-linejoin:miter;stroke-width:0.8;\"/>\n   </g>\n   <g id=\"patch_5\">\n    <path d=\"M 39.65 224.64 \nL 374.45 224.64 \n\" style=\"fill:none;stroke:#000000;stroke-linecap:square;stroke-linejoin:miter;stroke-width:0.8;\"/>\n   </g>\n   <g id=\"patch_6\">\n    <path d=\"M 39.65 7.2 \nL 374.45 7.2 \n\" style=\"fill:none;stroke:#000000;stroke-linecap:square;stroke-linejoin:miter;stroke-width:0.8;\"/>\n   </g>\n   <g id=\"legend_1\">\n    <g id=\"patch_7\">\n     <path d=\"M 287.242188 139.437188 \nL 367.45 139.437188 \nQ 369.45 139.437188 369.45 137.437188 \nL 369.45 94.402813 \nQ 369.45 92.402813 367.45 92.402813 \nL 287.242188 92.402813 \nQ 285.242188 92.402813 285.242188 94.402813 \nL 285.242188 137.437188 \nQ 285.242188 139.437188 287.242188 139.437188 \nz\n\" style=\"fill:#ffffff;opacity:0.8;stroke:#cccccc;stroke-linejoin:miter;\"/>\n    </g>\n    <g id=\"line2d_19\">\n     <path d=\"M 289.242188 100.50125 \nL 309.242188 100.50125 \n\" style=\"fill:none;stroke:#1f77b4;stroke-linecap:square;stroke-width:1.5;\"/>\n    </g>\n    <g id=\"line2d_20\"/>\n    <g id=\"text_16\">\n     <!-- OE-PM -->\n     <defs>\n      <path d=\"M 39.40625 66.21875 \nQ 28.65625 66.21875 22.328125 58.203125 \nQ 16.015625 50.203125 16.015625 36.375 \nQ 16.015625 22.609375 22.328125 14.59375 \nQ 28.65625 6.59375 39.40625 6.59375 \nQ 50.140625 6.59375 56.421875 14.59375 \nQ 62.703125 22.609375 62.703125 36.375 \nQ 62.703125 50.203125 56.421875 58.203125 \nQ 50.140625 66.21875 39.40625 66.21875 \nz\nM 39.40625 74.21875 \nQ 54.734375 74.21875 63.90625 63.9375 \nQ 73.09375 53.65625 73.09375 36.375 \nQ 73.09375 19.140625 63.90625 8.859375 \nQ 54.734375 -1.421875 39.40625 -1.421875 \nQ 24.03125 -1.421875 14.8125 8.828125 \nQ 5.609375 19.09375 5.609375 36.375 \nQ 5.609375 53.65625 14.8125 63.9375 \nQ 24.03125 74.21875 39.40625 74.21875 \nz\n\" id=\"DejaVuSans-79\"/>\n      <path d=\"M 9.8125 72.90625 \nL 55.90625 72.90625 \nL 55.90625 64.59375 \nL 19.671875 64.59375 \nL 19.671875 43.015625 \nL 54.390625 43.015625 \nL 54.390625 34.71875 \nL 19.671875 34.71875 \nL 19.671875 8.296875 \nL 56.78125 8.296875 \nL 56.78125 0 \nL 9.8125 0 \nz\n\" id=\"DejaVuSans-69\"/>\n      <path d=\"M 4.890625 31.390625 \nL 31.203125 31.390625 \nL 31.203125 23.390625 \nL 4.890625 23.390625 \nz\n\" id=\"DejaVuSans-45\"/>\n      <path d=\"M 19.671875 64.796875 \nL 19.671875 37.40625 \nL 32.078125 37.40625 \nQ 38.96875 37.40625 42.71875 40.96875 \nQ 46.484375 44.53125 46.484375 51.125 \nQ 46.484375 57.671875 42.71875 61.234375 \nQ 38.96875 64.796875 32.078125 64.796875 \nz\nM 9.8125 72.90625 \nL 32.078125 72.90625 \nQ 44.34375 72.90625 50.609375 67.359375 \nQ 56.890625 61.8125 56.890625 51.125 \nQ 56.890625 40.328125 50.609375 34.8125 \nQ 44.34375 29.296875 32.078125 29.296875 \nL 19.671875 29.296875 \nL 19.671875 0 \nL 9.8125 0 \nz\n\" id=\"DejaVuSans-80\"/>\n      <path d=\"M 9.8125 72.90625 \nL 24.515625 72.90625 \nL 43.109375 23.296875 \nL 61.8125 72.90625 \nL 76.515625 72.90625 \nL 76.515625 0 \nL 66.890625 0 \nL 66.890625 64.015625 \nL 48.09375 14.015625 \nL 38.1875 14.015625 \nL 19.390625 64.015625 \nL 19.390625 0 \nL 9.8125 0 \nz\n\" id=\"DejaVuSans-77\"/>\n     </defs>\n     <g transform=\"translate(317.242188 104.00125)scale(0.1 -0.1)\">\n      <use xlink:href=\"#DejaVuSans-79\"/>\n      <use x=\"78.710938\" xlink:href=\"#DejaVuSans-69\"/>\n      <use x=\"141.894531\" xlink:href=\"#DejaVuSans-45\"/>\n      <use x=\"177.978516\" xlink:href=\"#DejaVuSans-80\"/>\n      <use x=\"238.28125\" xlink:href=\"#DejaVuSans-77\"/>\n     </g>\n    </g>\n    <g id=\"line2d_21\">\n     <path d=\"M 289.242188 115.179375 \nL 309.242188 115.179375 \n\" style=\"fill:none;stroke:#ff7f0e;stroke-linecap:square;stroke-width:1.5;\"/>\n    </g>\n    <g id=\"line2d_22\"/>\n    <g id=\"text_17\">\n     <!-- OE-PM-TR -->\n     <defs>\n      <path d=\"M -0.296875 72.90625 \nL 61.375 72.90625 \nL 61.375 64.59375 \nL 35.5 64.59375 \nL 35.5 0 \nL 25.59375 0 \nL 25.59375 64.59375 \nL -0.296875 64.59375 \nz\n\" id=\"DejaVuSans-84\"/>\n      <path d=\"M 44.390625 34.1875 \nQ 47.5625 33.109375 50.5625 29.59375 \nQ 53.5625 26.078125 56.59375 19.921875 \nL 66.609375 0 \nL 56 0 \nL 46.6875 18.703125 \nQ 43.0625 26.03125 39.671875 28.421875 \nQ 36.28125 30.8125 30.421875 30.8125 \nL 19.671875 30.8125 \nL 19.671875 0 \nL 9.8125 0 \nL 9.8125 72.90625 \nL 32.078125 72.90625 \nQ 44.578125 72.90625 50.734375 67.671875 \nQ 56.890625 62.453125 56.890625 51.90625 \nQ 56.890625 45.015625 53.6875 40.46875 \nQ 50.484375 35.9375 44.390625 34.1875 \nz\nM 19.671875 64.796875 \nL 19.671875 38.921875 \nL 32.078125 38.921875 \nQ 39.203125 38.921875 42.84375 42.21875 \nQ 46.484375 45.515625 46.484375 51.90625 \nQ 46.484375 58.296875 42.84375 61.546875 \nQ 39.203125 64.796875 32.078125 64.796875 \nz\n\" id=\"DejaVuSans-82\"/>\n     </defs>\n     <g transform=\"translate(317.242188 118.679375)scale(0.1 -0.1)\">\n      <use xlink:href=\"#DejaVuSans-79\"/>\n      <use x=\"78.710938\" xlink:href=\"#DejaVuSans-69\"/>\n      <use x=\"141.894531\" xlink:href=\"#DejaVuSans-45\"/>\n      <use x=\"177.978516\" xlink:href=\"#DejaVuSans-80\"/>\n      <use x=\"238.28125\" xlink:href=\"#DejaVuSans-77\"/>\n      <use x=\"324.560547\" xlink:href=\"#DejaVuSans-45\"/>\n      <use x=\"351.519531\" xlink:href=\"#DejaVuSans-84\"/>\n      <use x=\"412.603516\" xlink:href=\"#DejaVuSans-82\"/>\n     </g>\n    </g>\n    <g id=\"line2d_23\">\n     <path d=\"M 289.242188 129.8575 \nL 309.242188 129.8575 \n\" style=\"fill:none;stroke:#2ca02c;stroke-linecap:square;stroke-width:1.5;\"/>\n    </g>\n    <g id=\"line2d_24\"/>\n    <g id=\"text_18\">\n     <!-- OE-NY -->\n     <defs>\n      <path d=\"M 9.8125 72.90625 \nL 23.09375 72.90625 \nL 55.421875 11.921875 \nL 55.421875 72.90625 \nL 64.984375 72.90625 \nL 64.984375 0 \nL 51.703125 0 \nL 19.390625 60.984375 \nL 19.390625 0 \nL 9.8125 0 \nz\n\" id=\"DejaVuSans-78\"/>\n      <path d=\"M -0.203125 72.90625 \nL 10.40625 72.90625 \nL 30.609375 42.921875 \nL 50.6875 72.90625 \nL 61.28125 72.90625 \nL 35.5 34.71875 \nL 35.5 0 \nL 25.59375 0 \nL 25.59375 34.71875 \nz\n\" id=\"DejaVuSans-89\"/>\n     </defs>\n     <g transform=\"translate(317.242188 133.3575)scale(0.1 -0.1)\">\n      <use xlink:href=\"#DejaVuSans-79\"/>\n      <use x=\"78.710938\" xlink:href=\"#DejaVuSans-69\"/>\n      <use x=\"141.894531\" xlink:href=\"#DejaVuSans-45\"/>\n      <use x=\"177.978516\" xlink:href=\"#DejaVuSans-78\"/>\n      <use x=\"252.783203\" xlink:href=\"#DejaVuSans-89\"/>\n     </g>\n    </g>\n   </g>\n  </g>\n </g>\n <defs>\n  <clipPath id=\"pb4bb7fe0cf\">\n   <rect height=\"217.44\" width=\"334.8\" x=\"39.65\" y=\"7.2\"/>\n  </clipPath>\n </defs>\n</svg>\n",
      "image/png": "[encoded data removed]"
     },
     "metadata": {
      "needs_background": "light"
     }
    }
   ],
   "source": [
    "DATABASE_LOCATION = 'sqlite:///SpaceTraders_DB.sqlite'\n",
    "\n",
    "engine = sqlalchemy.create_engine(DATABASE_LOCATION)\n",
    "conn = sqlite3.connect('SpaceTraders_DB.sqlite')\n",
    "\n",
    "market_tracker = pd.read_sql('marketplace_tracker', engine)\n",
    "\n",
    "market_tracker['purchasePricePerUnit'] = market_tracker['purchasePricePerUnit'].astype(int)\n",
    "market_tracker['sellPricePerUnit'] = market_tracker['sellPricePerUnit'].astype(int)\n",
    "market_tracker['quantityAvailable'] = market_tracker['quantityAvailable'].astype(int)\n",
    "market_tracker['pricePerUnit'] = market_tracker['pricePerUnit'].astype(int)\n",
    "market_tracker['volumePerUnit'] = market_tracker['volumePerUnit'].astype(int)\n",
    "market_tracker['time'] = pd.to_datetime(market_tracker['time'])\n",
    "\n",
    "oe_pm = market_tracker['location'] == \"OE-PM\"\n",
    "oe_pm_tr = market_tracker['location'] == \"OE-PM-TR\"\n",
    "metals = market_tracker['symbol'] == \"SHIP_PARTS\"\n",
    "\n",
    "loc_with_good = market_tracker.loc[metals]\n",
    "for loc in loc_with_good.location.unique():\n",
    "    loc_mask = market_tracker['location'] == loc\n",
    "    loc_good_df = loc_with_good.loc[loc_mask]\n",
    "    plt.plot(loc_good_df.time, loc_good_df.purchasePricePerUnit, label = loc)\n",
    "\n",
    "plt.legend()\n",
    "plt.show()"
   ]
  },
  {
   "cell_type": "code",
   "execution_count": null,
   "metadata": {},
   "outputs": [],
   "source": []
  }
 ],
 "metadata": {
  "kernelspec": {
   "name": "spacetraders_playground",
   "display_name": "Python 3.8.5 64-bit"
  },
  "language_info": {
   "codemirror_mode": {
    "name": "ipython",
    "version": 3
   },
   "file_extension": ".py",
   "mimetype": "text/x-python",
   "name": "python",
   "nbconvert_exporter": "python",
   "pygments_lexer": "ipython3",
   "version": "3.8.5-final"
  }
 },
 "nbformat": 4,
 "nbformat_minor": 4
}